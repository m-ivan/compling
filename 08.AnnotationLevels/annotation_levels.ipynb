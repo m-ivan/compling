{
 "cells": [
  {
   "cell_type": "markdown",
   "metadata": {},
   "source": [
    "# 8. Annotációs szintek"
   ]
  },
  {
   "cell_type": "markdown",
   "metadata": {},
   "source": [
    ">Számítógépes nyelvészet, 2018 tavasz\n",
    "\n",
    ">Simon Eszter, Mittelholcz Iván\n",
    "\n",
    ">MTA, Nyelvtudományi Intézet"
   ]
  }
 ],
 "metadata": {
  "kernelspec": {
   "display_name": "Python 3",
   "language": "python",
   "name": "python3"
  },
  "language_info": {
   "codemirror_mode": {
    "name": "ipython",
    "version": 3
   },
   "file_extension": ".py",
   "mimetype": "text/x-python",
   "name": "python",
   "nbconvert_exporter": "python",
   "pygments_lexer": "ipython3",
   "version": "3.6.4"
  }
 },
 "nbformat": 4,
 "nbformat_minor": 2
}
