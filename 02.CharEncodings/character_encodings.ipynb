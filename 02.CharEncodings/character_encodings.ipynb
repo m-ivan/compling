{
 "cells": [
  {
   "cell_type": "markdown",
   "metadata": {
    "slideshow": {
     "slide_type": "-"
    }
   },
   "source": [
    "# 2. Karakterkódolás"
   ]
  },
  {
   "cell_type": "markdown",
   "metadata": {
    "slideshow": {
     "slide_type": "-"
    }
   },
   "source": [
    ">Számítógépes nyelvészet, 2018 tavasz\n",
    "\n",
    ">Simon Eszter, Mittelholcz Iván\n",
    "\n",
    ">MTA, Nyelvtudományi Intézet"
   ]
  },
  {
   "cell_type": "markdown",
   "metadata": {},
   "source": [
    "## Tartalom"
   ]
  },
  {
   "cell_type": "markdown",
   "metadata": {},
   "source": [
    "* [1. Szöveges fájlok](#1.-Sz%C3%B6veges-f%C3%A1jlok)\n",
    "    + [1.1. POSIX definíció](#1.1.-POSIX-definíció)\n",
    "    + [1.2. Magyarázatok](#1.2.-Magyarázatok)\n",
    "* [2. Karakterkódolások](#2.-Karakterk%C3%B3dol%C3%A1sok)\n",
    "    + [2.1. ASCII](#2.1.-ASCII)\n",
    "    + [2.2. Kiterjesztett ASCII](#2.2.-Kiterjesztett-ASCII)\n",
    "    + [2.3. Unicode](#2.3.-Unicode)\n",
    "* [3. Parancssor](#3.-Parancssor)\n",
    "* [4. Python](#4.-Python)\n",
    "    * [4.1. Built-ins](#4.1.-Built-ins)\n",
    "    * [4.2. Csomagok](#4.2.-Csomagok)\n",
    "* [5. Irodalom](#5.-Irodalom)"
   ]
  },
  {
   "cell_type": "markdown",
   "metadata": {
    "slideshow": {
     "slide_type": "-"
    }
   },
   "source": [
    "## 1. Szöveges fájlok"
   ]
  },
  {
   "cell_type": "markdown",
   "metadata": {
    "slideshow": {
     "slide_type": "-"
    }
   },
   "source": [
    "### 1.1. [POSIX definíció](http://pubs.opengroup.org/onlinepubs/9699919799/basedefs/V1_chap03.html#tag_03_403)\n",
    "> A file that contains characters organized into zero or more lines.\n",
    "The lines do not contain NUL characters and none can exceed {LINE\\_MAX} bytes in length,\n",
    "including the \\<newline\\> character. Although POSIX.1-2008 does not distinguish between text files and binary files (see the ISO C standard), many utilities only produce predictable or meaningful output when operating on text files."
   ]
  },
  {
   "cell_type": "markdown",
   "metadata": {
    "slideshow": {
     "slide_type": "-"
    }
   },
   "source": [
    "### 1.2. Magyarázatok"
   ]
  },
  {
   "cell_type": "markdown",
   "metadata": {
    "slideshow": {
     "slide_type": "-"
    }
   },
   "source": [
    "__POSIX__: Portable Operating System Interface for uniX"
   ]
  },
  {
   "cell_type": "markdown",
   "metadata": {
    "slideshow": {
     "slide_type": "-"
    }
   },
   "source": [
    "__karakter__: betűk, számok, írásjelek, nem nyomtatható (vezérlő)jelek"
   ]
  },
  {
   "cell_type": "markdown",
   "metadata": {
    "slideshow": {
     "slide_type": "-"
    }
   },
   "source": [
    "__sor__\n",
    "* line feed (LF); carriage return (CR) (Na de milyen karakterkódolásban?)\n",
    "* oprendszer függő\n",
    "    * Windows: CR+LF\n",
    "    * *nix: LF\n",
    "    * classic MacOS: CR"
   ]
  },
  {
   "cell_type": "code",
   "execution_count": null,
   "metadata": {},
   "outputs": [],
   "source": [
    "%%bash\n",
    "# Hány sor van egy szövegben?\n",
    "echo -n 'alma' | wc -l\n",
    "echo 'alma' | wc -l\n",
    "echo -e 'alma\\n' | wc -l"
   ]
  },
  {
   "cell_type": "markdown",
   "metadata": {},
   "source": [
    "__NUL-karakter__: C-stringek záró eleme; null-bájt (00000000)"
   ]
  },
  {
   "cell_type": "markdown",
   "metadata": {},
   "source": [
    "__LINE_MAX__: A _limits.h_ header-ben definiált érték egy sor\n",
    "maximális hosszára, bájtban (C)"
   ]
  },
  {
   "cell_type": "markdown",
   "metadata": {},
   "source": [
    "#### Miért van különbség szöveges és bináris fájlok között?"
   ]
  },
  {
   "cell_type": "code",
   "execution_count": null,
   "metadata": {},
   "outputs": [],
   "source": [
    "src = r'''#include<stdio.h>\n",
    "\n",
    "int main()\n",
    "{\n",
    "    printf(\"Hello World\\n\");\n",
    "    return 0;\n",
    "}\n",
    "'''\n",
    "print(src, file=open('hello.c', 'w'))"
   ]
  },
  {
   "cell_type": "code",
   "execution_count": null,
   "metadata": {},
   "outputs": [],
   "source": [
    "%%bash\n",
    "cat hello.c"
   ]
  },
  {
   "cell_type": "code",
   "execution_count": null,
   "metadata": {},
   "outputs": [],
   "source": [
    "%%bash\n",
    "gcc hello.c\n",
    "cat -A a.out"
   ]
  },
  {
   "cell_type": "markdown",
   "metadata": {},
   "source": [
    "#### Miért nincs különbség szöveges és bináris fájlok között?"
   ]
  },
  {
   "cell_type": "code",
   "execution_count": null,
   "metadata": {},
   "outputs": [],
   "source": [
    "%%bash\n",
    "xxd -b hello.c"
   ]
  },
  {
   "cell_type": "code",
   "execution_count": null,
   "metadata": {},
   "outputs": [],
   "source": [
    "%%bash\n",
    "xxd -b a.out"
   ]
  },
  {
   "cell_type": "markdown",
   "metadata": {},
   "source": [
    "## 2. Karakterkódolások"
   ]
  },
  {
   "cell_type": "markdown",
   "metadata": {},
   "source": [
    "Karakterkódolás: a karakterkészlet („ábécé”) és a bitek közti\n",
    "kapcsolat leírása.\n",
    "\n",
    "* nem minden számít külön karakternek\n",
    "  _<br/>A dőlt, félkövér, ligatúrák, alsó/felső index,\n",
    "  stb karakterek sokszor csak a fontkészletekben vannak._\n",
    "* nem kell minden lehetséges bitsorozathoz karaktert rendelni\n",
    "  _<br/>Pl. az ASCII nem rendel karaktert az 1-el kezdődő bájtokhoz (a $11111111$ nem jelent semmit)_\n",
    "* nem kell minden lehetséges karakterhez bitsorozatot rendelni\n",
    "  _<br/>Pl. az ASCII nem kódolja a cirill karaktereket._"
   ]
  },
  {
   "cell_type": "markdown",
   "metadata": {},
   "source": [
    "__encoding__: $\\{String\\} \\to \\{Bitsorozat\\}$\n",
    "\n",
    "Példa: $\\ ABC \\to 01000001\\ 01000010\\ 01000011$\n",
    "\n",
    "Alkalmazás: pl. szövegbevitel"
   ]
  },
  {
   "cell_type": "markdown",
   "metadata": {},
   "source": [
    "__decoding__: $\\{Bitsorozat\\} \\to \\{String\\}$\n",
    "\n",
    "Példa: $\\ 01000001\\ 01000010\\ 01000011 \\to ABC$\n",
    "\n",
    "Alkalmazás: pl. szövegmegjelenítés"
   ]
  },
  {
   "cell_type": "markdown",
   "metadata": {
    "slideshow": {
     "slide_type": "-"
    }
   },
   "source": [
    "### 2.1. ASCII"
   ]
  },
  {
   "cell_type": "markdown",
   "metadata": {},
   "source": [
    "* 1963, USA: ékezet nélküli, angol karakterek\n",
    "* távírókhoz: vezérlőkarakterek, pl. [CR](https://youtu.be/Pp2IJIk5qvc), LF, ESC, BELL\n",
    "* 128 karakter – 7 bit (0-tól 127-ig számozva)\n",
    "* ahol 1 bájt = 8 bit: ’0’ prefix minden ASCII-kód elé"
   ]
  },
  {
   "cell_type": "markdown",
   "metadata": {},
   "source": [
    "<img src='https://upload.wikimedia.org/wikipedia/commons/c/cf/USASCII_code_chart.png' title='ASCII karaktertábla' />"
   ]
  },
  {
   "cell_type": "markdown",
   "metadata": {},
   "source": [
    "#### 2.1.1. Bitenkénti operátorok, letter case"
   ]
  },
  {
   "cell_type": "code",
   "execution_count": null,
   "metadata": {},
   "outputs": [],
   "source": [
    "bin(0b1000001 | 0b0100000)"
   ]
  },
  {
   "cell_type": "code",
   "execution_count": null,
   "metadata": {},
   "outputs": [],
   "source": [
    "bin(0b1100001 ^ 0b0100000)"
   ]
  },
  {
   "cell_type": "code",
   "execution_count": null,
   "metadata": {},
   "outputs": [],
   "source": [
    "chr(65 | 32)"
   ]
  },
  {
   "cell_type": "code",
   "execution_count": null,
   "metadata": {},
   "outputs": [],
   "source": [
    "ord('a')"
   ]
  },
  {
   "cell_type": "markdown",
   "metadata": {},
   "source": [
    "##### Feladat\n",
    "\n",
    "A fentiek segítségével írjunk olyan python függvényt,\n",
    "* ami kisbetűsíti az ascii nagybetűket, minden mást érintetlenül hagy (ascii_lower),\n",
    "* ami nagybetűsíti az ascii kisbetűket, minden mást érintetlenül hagy (ascii_upper).\n",
    "\n",
    "Használat:\n",
    "\n",
    "```python\n",
    ">>> ascii_lower('U')\n",
    "'u'\n",
    ">>> ascii_lower('Ű')\n",
    "'Ű'\n",
    ">>> ascii_upper('g')\n",
    "'G'\n",
    ">>> ascii_upper('!')\n",
    "'!'\n",
    "```\n",
    "\n",
    "Módosítsuk a függvényeinket, hogy ne csak egy-egy karakterre, de hosszabb stringekre is működjenek!"
   ]
  },
  {
   "cell_type": "markdown",
   "metadata": {
    "slideshow": {
     "slide_type": "-"
    }
   },
   "source": [
    "### 2.2. Kiterjesztett ASCII"
   ]
  },
  {
   "cell_type": "markdown",
   "metadata": {},
   "source": [
    "Van egy maradék bit, használjuk ki!\n",
    "\n",
    "* [ISO 8859](https://en.wikipedia.org/wiki/ISO/IEC_8859#Table) (1983)\n",
    "    - ISO 8859-1: nyugat-európai (_latin-1_)\n",
    "    - ISO 8859-2: közép-európai (_latin-2_)\n",
    "    - ISO 8859-5/6/7/8: cirill / arab / görög / héber\n",
    "* [Windows code pages](https://en.wikipedia.org/wiki/Windows_code_page) (1985)\n",
    "    - Windows-1250: közép- és kelet-európai\n",
    "    - Windows-1252: nyugat-európai"
   ]
  },
  {
   "cell_type": "markdown",
   "metadata": {},
   "source": [
    "Summa:\n",
    "\n",
    "* fix, 1-bájtos kódolások\n",
    "* több külön lapon lévő nyelv használata egy dokumentumban probléma (többnyelvű lapok)\n",
    "* minden bájtsorozat érvényes (lehetne) és dekódolható (lehetne) bármelyik kódolással"
   ]
  },
  {
   "cell_type": "markdown",
   "metadata": {
    "slideshow": {
     "slide_type": "-"
    }
   },
   "source": [
    "### 2.3. Unicode"
   ]
  },
  {
   "cell_type": "markdown",
   "metadata": {},
   "source": [
    "* 1988, egy ideig vele párhuzamosan fut az Universal Character Set (UCS, 1989), ami később beolvad a Unicode-ba\n",
    "* cél minden írásrendszer karaktereit egy egységes kódolásban kezelni\n",
    "* két lépcsős felépítés:\n",
    "    * Unicode: karakter $\\to$ kódpont\n",
    "    * Unicode-kompatibilis karakterkódolás (többféle): kódpont $\\to$ bitek     "
   ]
  },
  {
   "cell_type": "markdown",
   "metadata": {},
   "source": [
    "#### 2.3.1. Kódpontok"
   ]
  },
  {
   "cell_type": "markdown",
   "metadata": {},
   "source": [
    "* jelölés: U+XXXX (négy-hat jegyű hexakód, pl. 'A' = U+0041)\n",
    "* 17 lap (0-10FFFF), egyenként $2^{16}$ hellyel (kb. 1.100.000 hely)\n",
    "    * 0\\. lap: [Basic Multilingual Plane](https://upload.wikimedia.org/wikipedia/commons/8/8e/Roadmap_to_Unicode_BMP.svg)\n",
    "    * 1\\. lap: Supplementary Multilingual Plane\n",
    "    * 2., 3. és 14. lap: kiegészítő lapok\n",
    "    * 4-13. lapok: nem használtak (még)\n",
    "    * 15-16. lapok: saját használatra\n",
    "* Unicode 10.0 (2017): kb. 137.000 foglalt (kb. 12%)\n",
    "    * [kódtáblák](https://www.unicode.org/charts/)\n",
    "    * [leírás](http://www.unicode.org/versions/Unicode10.0.0/UnicodeStandard-10.0.pdf)"
   ]
  },
  {
   "cell_type": "markdown",
   "metadata": {},
   "source": [
    "#### 2.3.2. Főbb tulajdonságok"
   ]
  },
  {
   "cell_type": "markdown",
   "metadata": {},
   "source": [
    "* univerzális\n",
    "* karaktereket kódol, nem glifákat\n",
    "\n",
    "<img src=\"images/charVSglyph.png\">\n",
    "\n",
    "* szemantika: minden karakternek jelentése van\n",
    "* plain text: a Unicode-karakterek sima szöveget kódolnak\n",
    "    * Unicode-karakter + fontkészlet = glifa\n",
    "* dinamikus komponálás\n",
    "\n",
    "<img src=\"images/composition.png\">\n",
    "\n",
    "<img src=\"images/ordering.png\">\n",
    "\n",
    "* stabilitás: ha egy karakter egyszer egy kódpontra lett definiálva, akkor az ott is van, és nem fog megváltozni vagy eltűnni\n",
    "* konvertálhatóság: átjárhatóság más karakterkódolások felé"
   ]
  },
  {
   "cell_type": "markdown",
   "metadata": {},
   "source": [
    "#### 2.3.2. UTF és UCS karakterkódolások"
   ]
  },
  {
   "cell_type": "markdown",
   "metadata": {},
   "source": [
    "* több lehetséges karakterkódolás, ami a kódpontokat bitekre képezi\n",
    "    * UCS: _Universal Character Set_, beolvadt a Unicode-ba\n",
    "    * UTF: _Unicode Transformation Format_\n",
    "* állandó hosszúságú (tömb, indexelhetőség, string-hossz)\n",
    "* változó hosszúságú (a fentiek mind nem)"
   ]
  },
  {
   "cell_type": "markdown",
   "metadata": {},
   "source": [
    "__UCS-4 / UTF-32__\n",
    "\n",
    "* állandó hosszúságú, 4 bájt\n",
    "* sok hely: kb 2,1 milliárd ($2^{31}$ -- előjelbit nem használt)\n",
    "* hátrányok:\n",
    "    * pazarló\n",
    "    * NUL-bájtok a szövegben"
   ]
  },
  {
   "cell_type": "markdown",
   "metadata": {},
   "source": [
    "__UCS-2__\n",
    "\n",
    "* állandó hosszúságú, 2 bájt\n",
    "* kevés hely: kb 65 ezer ($2^{16}$)\n",
    "* egy az egyben kódolja a BMP-t\n",
    "* szokás keverni a UTF-16-tal, de nem azonos vele (részhalmaz)"
   ]
  },
  {
   "cell_type": "markdown",
   "metadata": {},
   "source": [
    "__UTF-16__\n",
    "\n",
    "* változó hosszúságú, 2 vagy 4 bájt\n",
    "* 2 bájton egy az egyben kódolja a BMP-t\n",
    "* 4 bájton a Unicode többi részét ([hogyan?](https://en.wikipedia.org/wiki/UTF-16#Description))\n",
    "* nem minden bájtsorozat jólformált: \n",
    "    * 4 bájt esetén: az első két bájt és a második két bájt mindig különbözik \n",
    "    * 2 bájt esetén: az önálló 2 bájt mindig különbözik egy 4 bájtos bármelyik darabjától"
   ]
  },
  {
   "cell_type": "markdown",
   "metadata": {},
   "source": [
    "__UTF-8__\n",
    "\n",
    "* változó hosszúságú, 1-4 bájt\n",
    "* 1 bájton egy az egyben kódolja a ASCII-t\n",
    "* 2-4 bájton a Unicode többi részét ([hogyan?](https://en.wikipedia.org/wiki/UTF-8#Description))\n",
    "* nem minden bájtsorozat jólformált, a bájtsorozat eleje mindig megkülönböztethető"
   ]
  },
  {
   "cell_type": "markdown",
   "metadata": {},
   "source": [
    "<img src='https://upload.wikimedia.org/wikipedia/commons/c/c4/Utf8webgrowth.svg'>"
   ]
  },
  {
   "cell_type": "markdown",
   "metadata": {},
   "source": [
    "### 3. Parancssor"
   ]
  },
  {
   "cell_type": "markdown",
   "metadata": {},
   "source": [
    "Nincsen _plain text_ kódolás nélkül."
   ]
  },
  {
   "cell_type": "markdown",
   "metadata": {},
   "source": [
    "HTML példa: Honnan tudja a böngésző, hogyan dekódolja a HTML header-t?\n",
    "\n",
    "```html\n",
    "<head>\n",
    "    <meta http-equiv=\"Content-Type\" content=\"text/html; charset=UTF-8\" />\n",
    "</head>\n",
    "```"
   ]
  },
  {
   "cell_type": "markdown",
   "metadata": {},
   "source": [
    "Mi alapján lehet tippelni?\n",
    "\n",
    "1. ?\n",
    "2. ?"
   ]
  },
  {
   "cell_type": "code",
   "execution_count": null,
   "metadata": {},
   "outputs": [],
   "source": [
    "%%bash\n",
    "\n",
    "file hello.c\n",
    "echo\n",
    "file a.out"
   ]
  },
  {
   "cell_type": "code",
   "execution_count": null,
   "metadata": {},
   "outputs": [],
   "source": [
    "%%bash\n",
    "# -i kapcsoló: MIME típus (Multipurpose Internet Mail Extensions)\n",
    "\n",
    "file -i hello.c\n",
    "echo\n",
    "file -i a.out"
   ]
  },
  {
   "cell_type": "code",
   "execution_count": null,
   "metadata": {},
   "outputs": [],
   "source": [
    "%%bash\n",
    "# Miért működik?\n",
    "\n",
    "iconv -f utf-8 -t latin1 hello.c"
   ]
  },
  {
   "cell_type": "code",
   "execution_count": null,
   "metadata": {},
   "outputs": [],
   "source": [
    "%%bash\n",
    "# Mi a baj?\n",
    "\n",
    "echo 'árvíztűrő' | iconv -f utf-8 -t latin1"
   ]
  },
  {
   "cell_type": "code",
   "execution_count": null,
   "metadata": {},
   "outputs": [],
   "source": [
    "%%bash\n",
    "# Mi a jó?\n",
    "# Mi a baj?\n",
    "\n",
    "echo 'árvíztûrõ' | iconv -f utf-8 -t latin1\n",
    "echo 'árvíztűrő' | iconv -f utf-8 -t latin2\n",
    "echo '�' # U+FFFD REPLACEMENT CHARACTER"
   ]
  },
  {
   "cell_type": "code",
   "execution_count": null,
   "metadata": {},
   "outputs": [],
   "source": [
    "%%bash\n",
    "# A tippelés korlátai.\n",
    "\n",
    "echo 'árvíztűrő' | iconv -f utf-8 -t iso-8859-2 >latin.txt\n",
    "file latin.txt\n",
    "echo\n",
    "file -i latin.txt"
   ]
  },
  {
   "cell_type": "markdown",
   "metadata": {},
   "source": [
    "##### További hasznos parancsok, csomagok\n",
    "\n",
    "* `recode`: hasonló az `iconv`-hoz, konvertál különböző kódolások között\n",
    "* `ascii`: ASCII karakterekről infó, karaktertábla\n",
    "* [Unicode Utilities](http://billposer.org/Software/unidesc.html): Unicode karakterekről infók, több parancsot tartalmazó csomag\n",
    "* vim\n",
    "    * `:as[cii]`\n",
    "    * `ga`\n",
    "    * [vim-characterize](https://github.com/tpope/vim-characterize)"
   ]
  },
  {
   "cell_type": "markdown",
   "metadata": {},
   "source": [
    "### 4. Python"
   ]
  },
  {
   "cell_type": "markdown",
   "metadata": {},
   "source": [
    "#### 4.1. Built-ins"
   ]
  },
  {
   "cell_type": "markdown",
   "metadata": {},
   "source": [
    "##### string"
   ]
  },
  {
   "cell_type": "markdown",
   "metadata": {},
   "source": [
    "* Unicode kódpontok sorozata (belső reprezentációhoz l. [PEP393](https://www.python.org/dev/peps/pep-0393/))\n",
    "* nincs külön 'karakter' típus\n",
    "* immutábilis\n",
    "* idézőjelek (opcionális `u` prefixszel a python2 kompatibilitás végett)\n",
    "* `str()`"
   ]
  },
  {
   "cell_type": "markdown",
   "metadata": {},
   "source": [
    "##### bytes"
   ]
  },
  {
   "cell_type": "markdown",
   "metadata": {},
   "source": [
    "* bájtok (0-255) sorozata\n",
    "* immutábilis (mutábilis verziója a _bytearray_)\n",
    "* idézőjelek `b` prefixszel, pl. `b'alma'`\n",
    "* `bytes()`"
   ]
  },
  {
   "cell_type": "markdown",
   "metadata": {},
   "source": [
    "A legtöbb itt fontos függvény számára az opcionális `encoding` paraméterrel megadható a kódolás.\n",
    "\n",
    "Pythonban haszálható standard kódolások és aliasaik [itt](https://docs.python.org/3/library/codecs.html#standard-encodings)."
   ]
  },
  {
   "cell_type": "code",
   "execution_count": null,
   "metadata": {},
   "outputs": [],
   "source": [
    "b'alma'"
   ]
  },
  {
   "cell_type": "code",
   "execution_count": null,
   "metadata": {},
   "outputs": [],
   "source": [
    "# Mi a baj?\n",
    "\n",
    "b'árvíztűrő'"
   ]
  },
  {
   "cell_type": "code",
   "execution_count": null,
   "metadata": {},
   "outputs": [],
   "source": [
    "for i in memoryview(b'alma'):\n",
    "    print(chr(i), bin(i), hex(i), i)"
   ]
  },
  {
   "cell_type": "markdown",
   "metadata": {},
   "source": [
    "##### Encoding ( $string \\to bytes$)"
   ]
  },
  {
   "cell_type": "code",
   "execution_count": null,
   "metadata": {},
   "outputs": [],
   "source": [
    "'alma'.encode()"
   ]
  },
  {
   "cell_type": "code",
   "execution_count": null,
   "metadata": {},
   "outputs": [],
   "source": [
    "'alma'.encode(encoding='utf_8')"
   ]
  },
  {
   "cell_type": "code",
   "execution_count": null,
   "metadata": {},
   "outputs": [],
   "source": [
    "'alma'.encode(encoding='utf_16')"
   ]
  },
  {
   "cell_type": "code",
   "execution_count": null,
   "metadata": {},
   "outputs": [],
   "source": [
    "'alma'.encode(encoding='utf_32')"
   ]
  },
  {
   "cell_type": "code",
   "execution_count": null,
   "metadata": {},
   "outputs": [],
   "source": [
    "print(\n",
    "    'alma'.encode(encoding='ascii'),\n",
    "    'alma'.encode(encoding='latin1'),\n",
    "    'alma'.encode(encoding='latin2'),\n",
    "    sep='\\n'\n",
    ")"
   ]
  },
  {
   "cell_type": "code",
   "execution_count": null,
   "metadata": {},
   "outputs": [],
   "source": [
    "# Mi a baj?\n",
    "\n",
    "'árvíztűrő'.encode(encoding='ascii')"
   ]
  },
  {
   "cell_type": "code",
   "execution_count": null,
   "metadata": {},
   "outputs": [],
   "source": [
    "'árvíztűrő'.encode(encoding='latin1') # iso8859_2"
   ]
  },
  {
   "cell_type": "code",
   "execution_count": null,
   "metadata": {},
   "outputs": [],
   "source": [
    "'árvíztűrő'.encode(encoding='latin2') # iso8859_2"
   ]
  },
  {
   "cell_type": "code",
   "execution_count": null,
   "metadata": {},
   "outputs": [],
   "source": [
    "'árvíztûrõ'.encode(encoding='latin1')"
   ]
  },
  {
   "cell_type": "markdown",
   "metadata": {},
   "source": [
    "##### Decoding ( $bytes \\to string$)"
   ]
  },
  {
   "cell_type": "code",
   "execution_count": null,
   "metadata": {},
   "outputs": [],
   "source": [
    "print(\n",
    "    b'alma'.decode(),\n",
    "    b'alma'.decode(encoding='utf-8'),\n",
    "    b'alma'.decode(encoding='ascii'),\n",
    "    sep='\\n'\n",
    ")"
   ]
  },
  {
   "cell_type": "code",
   "execution_count": null,
   "metadata": {},
   "outputs": [],
   "source": [
    "b'alma'.decode(encoding='utf-16')"
   ]
  },
  {
   "cell_type": "code",
   "execution_count": null,
   "metadata": {},
   "outputs": [],
   "source": [
    "b'alma'.decode(encoding='utf-32')"
   ]
  },
  {
   "cell_type": "code",
   "execution_count": null,
   "metadata": {},
   "outputs": [],
   "source": [
    "b'\\xe1rv\\xedzt\\xfbr\\xf5'.decode(encoding='latin2')"
   ]
  },
  {
   "cell_type": "code",
   "execution_count": null,
   "metadata": {},
   "outputs": [],
   "source": [
    "b'\\xe1rv\\xedzt\\xfbr\\xf5'.decode(encoding='latin1')"
   ]
  },
  {
   "cell_type": "code",
   "execution_count": null,
   "metadata": {},
   "outputs": [],
   "source": [
    "b'\\xe1rv\\xedzt\\xfbr\\xf5'.decode(encoding='iso8859_6') # arab"
   ]
  },
  {
   "cell_type": "code",
   "execution_count": null,
   "metadata": {},
   "outputs": [],
   "source": [
    "b'\\xe1rv\\xedzt\\xfbr\\xf5'.decode(encoding='iso8859_7') # görög"
   ]
  },
  {
   "cell_type": "markdown",
   "metadata": {},
   "source": [
    "##### Fájlkezelés"
   ]
  },
  {
   "cell_type": "code",
   "execution_count": null,
   "metadata": {},
   "outputs": [],
   "source": [
    "# default: text, utf8\n",
    "\n",
    "open('hello.c').read()"
   ]
  },
  {
   "cell_type": "code",
   "execution_count": null,
   "metadata": {},
   "outputs": [],
   "source": [
    "# bináris\n",
    "\n",
    "open('hello.c', 'br').read()"
   ]
  },
  {
   "cell_type": "code",
   "execution_count": null,
   "metadata": {},
   "outputs": [],
   "source": [
    "# iso8859\n",
    "\n",
    "print(\n",
    "    open('latin.txt', encoding='latin1').read(),\n",
    "    open('latin.txt', encoding='latin2').read(),\n",
    "    open('latin.txt', encoding='iso8859_7').read(),\n",
    "    sep=''\n",
    ")"
   ]
  },
  {
   "cell_type": "code",
   "execution_count": null,
   "metadata": {},
   "outputs": [],
   "source": [
    "open('latin.txt', encoding='iso8859_6').read()"
   ]
  },
  {
   "cell_type": "code",
   "execution_count": null,
   "metadata": {},
   "outputs": [],
   "source": [
    "open('write-test.txt', 'w').write('árvíztűrő')\n",
    "open('write-test.txt').read()"
   ]
  },
  {
   "cell_type": "code",
   "execution_count": null,
   "metadata": {},
   "outputs": [],
   "source": [
    "open('write-test.txt', 'w', encoding='U16').write('árvíztűrő')\n",
    "open('write-test.txt', 'rb').read()"
   ]
  },
  {
   "cell_type": "code",
   "execution_count": null,
   "metadata": {},
   "outputs": [],
   "source": [
    "open('write-test.txt', 'w', encoding='ascii').write('árvíztűrő')\n",
    "open('write-test.txt', 'rb').read()"
   ]
  },
  {
   "cell_type": "markdown",
   "metadata": {},
   "source": [
    "#### 4.2. Csomagok"
   ]
  },
  {
   "cell_type": "markdown",
   "metadata": {},
   "source": [
    "##### Kódolás detektálása"
   ]
  },
  {
   "cell_type": "markdown",
   "metadata": {},
   "source": [
    "[chardet](http://chardet.readthedocs.io/en/latest/) csomag"
   ]
  },
  {
   "cell_type": "code",
   "execution_count": null,
   "metadata": {},
   "outputs": [],
   "source": [
    "import chardet\n",
    "\n",
    "chardet.detect(open('hello.c', 'rb').read())"
   ]
  },
  {
   "cell_type": "code",
   "execution_count": null,
   "metadata": {},
   "outputs": [],
   "source": [
    "chardet.detect(open('latin.txt', 'rb').read())"
   ]
  },
  {
   "cell_type": "markdown",
   "metadata": {},
   "source": [
    "##### Unicode tulajdonságok"
   ]
  },
  {
   "cell_type": "markdown",
   "metadata": {},
   "source": [
    "[unicodedata](https://docs.python.org/3.6/library/unicodedata.html) csomag"
   ]
  },
  {
   "cell_type": "markdown",
   "metadata": {},
   "source": [
    "[unicode karakterosztályok](http://www.unicode.org/reports/tr44/#General_Category_Values)"
   ]
  },
  {
   "cell_type": "code",
   "execution_count": null,
   "metadata": {},
   "outputs": [],
   "source": [
    "import unicodedata as ud\n",
    "\n",
    "print(ud.name('ő'))\n",
    "print(ud.category('ő'))"
   ]
  },
  {
   "cell_type": "markdown",
   "metadata": {},
   "source": [
    "Sok karakter többféleképpen is kifejezhető Unicode-ban.\n",
    "\n",
    "* NFD: dekomponált normálforma: alap karakter + 0 hosszúságú kiegészítő karakterek (pl. ékezetek)\n",
    "* NFC: komponált normálforma: egyetlen karakter, mindennel felszerelve -- nem minden karakternek van NFC-je"
   ]
  },
  {
   "cell_type": "code",
   "execution_count": null,
   "metadata": {},
   "outputs": [],
   "source": [
    "nf = ud.normalize('NFD', 'ő')\n",
    "print(nf, len(nf))"
   ]
  },
  {
   "cell_type": "code",
   "execution_count": null,
   "metadata": {},
   "outputs": [],
   "source": [
    "nf = ud.normalize('NFD', 'z̈')\n",
    "print(nf, len(nf))\n",
    "print(nf[0], '\\t', ud.category(nf[0]), ud.name(nf[0]))\n",
    "print(nf[1], '\\t', ud.category(nf[1]), ud.name(nf[1]))"
   ]
  },
  {
   "cell_type": "code",
   "execution_count": null,
   "metadata": {},
   "outputs": [],
   "source": [
    "nf = ud.normalize('NFC', 'ő')\n",
    "print(nf, len(nf))"
   ]
  },
  {
   "cell_type": "code",
   "execution_count": null,
   "metadata": {},
   "outputs": [],
   "source": [
    "ud.decomposition('ő')"
   ]
  },
  {
   "cell_type": "code",
   "execution_count": null,
   "metadata": {},
   "outputs": [],
   "source": [
    "for x in ud.decomposition('ő').split():\n",
    "    c = chr(int(x, base=16))\n",
    "    print(c, '\\t', ud.category(c), ud.name(c))"
   ]
  },
  {
   "cell_type": "markdown",
   "metadata": {},
   "source": [
    "***"
   ]
  },
  {
   "cell_type": "markdown",
   "metadata": {},
   "source": [
    "### 5. Irodalom"
   ]
  },
  {
   "cell_type": "markdown",
   "metadata": {},
   "source": [
    "* [Character sets, encodings, and Unicode](http://www.gammon.com.au/unicode/)\n",
    "* [The Absolute Minimum Every Software Developer Absolutely, Positively Must Know About Unicode and Character Sets](https://www.joelonsoftware.com/2003/10/08/the-absolute-minimum-every-software-developer-absolutely-positively-must-know-about-unicode-and-character-sets-no-excuses/)\n",
    "* [Python: Unicode HOWTO](https://docs.python.org/3/howto/unicode.html)\n",
    "* [The Unicode® Standard: A Technical Introduction](http://www.unicode.org/standard/principles.html)\n",
    "* [Latest Version of the Unicode Standard](http://www.unicode.org/versions/latest/)"
   ]
  },
  {
   "cell_type": "markdown",
   "metadata": {},
   "source": [
    "***"
   ]
  },
  {
   "cell_type": "code",
   "execution_count": null,
   "metadata": {},
   "outputs": [],
   "source": [
    "%%bash\n",
    "# takarítás\n",
    "\n",
    "rm -f hello.c\n",
    "rm -f a.out\n",
    "rm -f latin.txt\n",
    "rm -f write-test.txt"
   ]
  }
 ],
 "metadata": {
  "kernelspec": {
   "display_name": "Python 3",
   "language": "python",
   "name": "python3"
  },
  "language_info": {
   "codemirror_mode": {
    "name": "ipython",
    "version": 3
   },
   "file_extension": ".py",
   "mimetype": "text/x-python",
   "name": "python",
   "nbconvert_exporter": "python",
   "pygments_lexer": "ipython3",
   "version": "3.6.4"
  }
 },
 "nbformat": 4,
 "nbformat_minor": 2
}
