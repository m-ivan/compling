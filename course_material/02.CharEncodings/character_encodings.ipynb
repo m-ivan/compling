{
 "cells": [
  {
   "cell_type": "markdown",
   "metadata": {
    "slideshow": {
     "slide_type": "-"
    }
   },
   "source": [
    "# 2. Karakterkódolás\n",
    "\n",
    "Számítógépes nyelvészet, 2018 tavasz\n",
    "\n",
    "Simon Eszter, Mittelholcz Iván\n",
    "\n",
    "MTA, Nyelvtudományi Intézet"
   ]
  },
  {
   "cell_type": "markdown",
   "metadata": {},
   "source": [
    "## Tartalom\n",
    "\n",
    "* [1. Szöveges fájlok](#1.-Sz%C3%B6veges-f%C3%A1jlok)\n",
    "    + [1.1. POSIX definíció](#1.1.-POSIX-definíció)\n",
    "    + [1.2. Magyarázatok](#1.2.-Magyarázatok)\n",
    "* [2. Karakterkódolások](#2.-Karakterk%C3%B3dol%C3%A1sok)\n",
    "    + [2.1. ASCII](#2.1.-ASCII)\n",
    "    + [2.2. Kiterjesztett ASCII](#2.2.-Kiterjesztett-ASCII)\n",
    "    + [2.3. Unicode](#2.3.-Unicode)\n",
    "* [3. Tanulságok](#3.-Tanulságok)\n",
    "    * [3.1. Parancssor](#3.1.-Parancssor)\n",
    "* [4. Python](#4.-Python)\n",
    "* [5. Irodalom](#5.-Irodalom)"
   ]
  },
  {
   "cell_type": "markdown",
   "metadata": {
    "slideshow": {
     "slide_type": "-"
    }
   },
   "source": [
    "## 1. Szöveges fájlok"
   ]
  },
  {
   "cell_type": "markdown",
   "metadata": {
    "slideshow": {
     "slide_type": "-"
    }
   },
   "source": [
    "### 1.1. [POSIX definíció](http://pubs.opengroup.org/onlinepubs/9699919799/basedefs/V1_chap03.html#tag_03_403)\n",
    "> A file that contains characters organized into zero or more lines.\n",
    "The lines do not contain NUL characters and none can exceed {LINE\\_MAX} bytes in length,\n",
    "including the \\<newline\\> character. Although POSIX.1-2008 does not distinguish between text files and binary files (see the ISO C standard), many utilities only produce predictable or meaningful output when operating on text files."
   ]
  },
  {
   "cell_type": "markdown",
   "metadata": {
    "slideshow": {
     "slide_type": "-"
    }
   },
   "source": [
    "### 1.2. Magyarázatok"
   ]
  },
  {
   "cell_type": "markdown",
   "metadata": {
    "slideshow": {
     "slide_type": "-"
    }
   },
   "source": [
    "__POSIX__: Portable Operating System Interface for uniX"
   ]
  },
  {
   "cell_type": "markdown",
   "metadata": {
    "slideshow": {
     "slide_type": "-"
    }
   },
   "source": [
    "__karakter__: betűk, számok, írásjelek, nem nyomtatható (vezérlő)jelek"
   ]
  },
  {
   "cell_type": "markdown",
   "metadata": {
    "slideshow": {
     "slide_type": "-"
    }
   },
   "source": [
    "__sor__\n",
    "* line feed (LF); carriage return (CR) (Na de milyen karakterkódolásban?)\n",
    "* oprendszer függő\n",
    "    * Windows: CR+LF\n",
    "    * *nix: LF\n",
    "    * classic MacOS: CR"
   ]
  },
  {
   "cell_type": "code",
   "execution_count": null,
   "metadata": {},
   "outputs": [],
   "source": [
    "%%bash\n",
    "# Hány sor van egy szövegben?\n",
    "echo -n 'alma' | wc -l\n",
    "echo 'alma' | wc -l\n",
    "echo -e 'alma\\n' | wc -l"
   ]
  },
  {
   "cell_type": "markdown",
   "metadata": {},
   "source": [
    "__NUL-karakter__: C-stringek záró eleme; null-bájt (00000000)"
   ]
  },
  {
   "cell_type": "markdown",
   "metadata": {},
   "source": [
    "__LINE_MAX__: A _limits.h_ header-ben definiált érték egy sor\n",
    "maximális hosszára, bájtban (C)"
   ]
  },
  {
   "cell_type": "markdown",
   "metadata": {},
   "source": [
    "#### Miért van különbség szöveges és bináris fájlok között?"
   ]
  },
  {
   "cell_type": "code",
   "execution_count": null,
   "metadata": {},
   "outputs": [],
   "source": [
    "src = '''#include<stdio.h>\n",
    "\n",
    "int main()\n",
    "{\n",
    "    printf(\"Hello World\\\\n\");\n",
    "    return 0;\n",
    "}\n",
    "'''\n",
    "print(src, file=open('hello.c', 'w'))"
   ]
  },
  {
   "cell_type": "code",
   "execution_count": null,
   "metadata": {},
   "outputs": [],
   "source": [
    "%%bash\n",
    "cat hello.c"
   ]
  },
  {
   "cell_type": "code",
   "execution_count": null,
   "metadata": {},
   "outputs": [],
   "source": [
    "%%bash\n",
    "gcc hello.c\n",
    "cat -A a.out"
   ]
  },
  {
   "cell_type": "markdown",
   "metadata": {},
   "source": [
    "#### Miért nincs különbség szöveges és bináris fájlok között?"
   ]
  },
  {
   "cell_type": "code",
   "execution_count": null,
   "metadata": {},
   "outputs": [],
   "source": [
    "%%bash\n",
    "xxd -b hello.c"
   ]
  },
  {
   "cell_type": "code",
   "execution_count": null,
   "metadata": {},
   "outputs": [],
   "source": [
    "%%bash\n",
    "xxd -b a.out"
   ]
  },
  {
   "cell_type": "markdown",
   "metadata": {},
   "source": [
    "## 2. Karakterkódolások"
   ]
  },
  {
   "cell_type": "markdown",
   "metadata": {},
   "source": [
    "Karakterkódolás: a karakterkészlet („ábécé”) és a bitek közti\n",
    "kapcsolatot leírása.\n",
    "\n",
    "* nem minden számít külön karakternek\n",
    "  _<br/>A dőlt, félkövér, ligatúrák, alsó/felső index,\n",
    "  stb karakterek sokszor csak a fontkészletekben vannak._\n",
    "* nem kell minden lehetséges bitsorozathoz karaktert rendelni\n",
    "  _<br/>Pl. az ASCII nem rendel karaktert az 1-el kezdődő bájtokhoz (a $11111111$ nem jelent semmit)_\n",
    "* nem kell minden lehetséges karakterhez bitsorozatot rendelni\n",
    "  _<br/>Pl. az ASCII nem kódolja a cirill karaktereket._"
   ]
  },
  {
   "cell_type": "markdown",
   "metadata": {},
   "source": [
    "__encoding__: $\\{String\\} \\to \\{Bitsorozat\\}$\n",
    "\n",
    "Példa: $\\ ABC \\to 01000001\\ 01000010\\ 01000011$\n",
    "\n",
    "Alkalmazás: pl. szövegbevitel"
   ]
  },
  {
   "cell_type": "markdown",
   "metadata": {},
   "source": [
    "__decoding__: $\\{Bitsorozat\\} \\to \\{String\\}$\n",
    "\n",
    "Példa: $\\ 01000001\\ 01000010\\ 01000011 \\to ABC$\n",
    "\n",
    "Alkalmazás: pl. szövegmegjelenítés"
   ]
  },
  {
   "cell_type": "markdown",
   "metadata": {
    "slideshow": {
     "slide_type": "-"
    }
   },
   "source": [
    "### 2.1. ASCII"
   ]
  },
  {
   "cell_type": "markdown",
   "metadata": {},
   "source": [
    "* 1963, USA: ékezet nélküli, angol karakterek\n",
    "* távírókhoz: vezérlőkarakterek, pl [CR](https://youtu.be/Pp2IJIk5qvc), LF, ESC, BELL\n",
    "* 128 karkter – 7 bit (0-tól 127-ig számozva)\n",
    "* ahol 1 bájt = 8 bit: ’0’ prefix minden ASCII-kód elé"
   ]
  },
  {
   "cell_type": "markdown",
   "metadata": {},
   "source": [
    "<img src='https://upload.wikimedia.org/wikipedia/commons/c/cf/USASCII_code_chart.png' title='ASCII karaktertábla' />"
   ]
  },
  {
   "cell_type": "markdown",
   "metadata": {},
   "source": [
    "#### 2.1.1. Bitenkénti operátorok, letter case"
   ]
  },
  {
   "cell_type": "code",
   "execution_count": null,
   "metadata": {},
   "outputs": [],
   "source": [
    "bin(0b1000001 | 0b0100000)"
   ]
  },
  {
   "cell_type": "code",
   "execution_count": null,
   "metadata": {},
   "outputs": [],
   "source": [
    "bin(0b1100001 ^ 0b0100000)"
   ]
  },
  {
   "cell_type": "code",
   "execution_count": null,
   "metadata": {},
   "outputs": [],
   "source": [
    "chr(65 | 32)"
   ]
  },
  {
   "cell_type": "code",
   "execution_count": null,
   "metadata": {},
   "outputs": [],
   "source": [
    "ord('a')"
   ]
  },
  {
   "cell_type": "markdown",
   "metadata": {},
   "source": [
    "##### Feladat\n",
    "\n",
    "A fentiek segítségével írjunk olyan python függvényt,\n",
    "* ami kisbetűsíti az ascii nagybetűket, minden mást érintetlenül hagy (ascii_lower),\n",
    "* ami nagybetűsíti az ascii kisbetűket, minden mást érintetlenül hagy (ascii_upper).\n",
    "\n",
    "Használat:\n",
    "\n",
    "```python\n",
    ">>> ascii_lower('U')\n",
    "'u'\n",
    ">>> ascii_lower('Ű')\n",
    "'Ű'\n",
    ">>> ascii_upper('g')\n",
    "'G'\n",
    ">>> ascii_upper('!')\n",
    "'!'\n",
    "```\n",
    "\n",
    "Módosítsuk a függvényeinket, hogy ne csak egy-egy karakterre, de hosszabb stringekre is működjenek!"
   ]
  },
  {
   "cell_type": "markdown",
   "metadata": {
    "slideshow": {
     "slide_type": "-"
    }
   },
   "source": [
    "### 2.2. Kiterjesztett ASCII"
   ]
  },
  {
   "cell_type": "markdown",
   "metadata": {},
   "source": [
    "Van egy maradék bit, használjuk ki!\n",
    "\n",
    "* [ISO 8859](https://en.wikipedia.org/wiki/ISO/IEC_8859#Table) (1983)\n",
    "    - ISO 8859-1: nyugat-európai\n",
    "    - ISO 8859-2: közép-európai\n",
    "    - ISO 8859-5/6/7/8: cirill / arab / görög / héber\n",
    "* [Windows code pages](https://en.wikipedia.org/wiki/Windows_code_page) (1985)\n",
    "    - Windows-1250: közép- és kelet-európai\n",
    "    - Windows-1252: nyugat-európai"
   ]
  },
  {
   "cell_type": "markdown",
   "metadata": {},
   "source": [
    "Summa:\n",
    "\n",
    "* fix, 1-bájtos kódolások\n",
    "* több külön lapon lévő nyelv használata egy dokumentumban probléma (többnyelvű lapok)\n",
    "* minden bájtsorozat érvényes (lehetne) és dekódolható (lehetne) bármelyik kódolással"
   ]
  },
  {
   "cell_type": "markdown",
   "metadata": {
    "slideshow": {
     "slide_type": "-"
    }
   },
   "source": [
    "### 2.3. Unicode"
   ]
  },
  {
   "cell_type": "markdown",
   "metadata": {},
   "source": [
    "* 1988, egy ideig vele párhuzamosan fut az Universal Character Set (UCS, 1989), ami később beolvad a Unicode-ba\n",
    "* cél minden írásrendszer karaktereit egy egységes kódolásban kezelni\n",
    "* két lépcsős felépítés:\n",
    "    * Unicode: karakter $\\to$ kódpont\n",
    "    * karakterkódolás: kódpont $\\to$ bitek (ebből több van)    "
   ]
  },
  {
   "cell_type": "markdown",
   "metadata": {},
   "source": [
    "#### 3.2.1. Kódpontok"
   ]
  },
  {
   "cell_type": "markdown",
   "metadata": {},
   "source": [
    "* jelölés: U+XXXX (négy-hat jegyű hexakód, pl. 'A' = U+0041)\n",
    "* 17 lap, egyenként $2^{16}$ hellyel (kb. 1.100.000 hely)\n",
    "    * 0\\. lap: [Basic Multilingual Plane](https://upload.wikimedia.org/wikipedia/commons/8/8e/Roadmap_to_Unicode_BMP.svg)\n",
    "    * 2., 3. és 14. lap: kiegészító lapok\n",
    "    * 4-13. lapok: nem használtak (még)\n",
    "    * 15-16. lapok: saját használatra\n",
    "* Unicode 10.0 (2017): kb 137.000 foglalt (kb 12%)"
   ]
  },
  {
   "cell_type": "markdown",
   "metadata": {},
   "source": [
    "#### 3.2.2. UTF és UTC karakterkódolások"
   ]
  },
  {
   "cell_type": "markdown",
   "metadata": {},
   "source": [
    "* több lehetséges karakterkódolás, ami a kódpontokat bitekre képezi\n",
    "    * UCS: _Universal Character Set_, beolvadt a Unicode-ba\n",
    "    * UTF: _Unicode Transformation Format_\n",
    "* állandó hosszúságú (tömb, indexelhetőség, string-hossz)\n",
    "* változó hosszúságú (a fentiek mind nem)"
   ]
  },
  {
   "cell_type": "markdown",
   "metadata": {},
   "source": [
    "__UCS-4 / UTF-32__\n",
    "\n",
    "* állandó hosszúságú, 4 bájt\n",
    "* sok hely: kb 2,1 milliárd ($2^{31}$ -- előjelbit nem használt)\n",
    "* hátrányok:\n",
    "    * pazarló\n",
    "    * NUL-bájtok a szövegben"
   ]
  },
  {
   "cell_type": "markdown",
   "metadata": {},
   "source": [
    "__UCS-2__\n",
    "\n",
    "* állandó hosszúságú, 2 bájt\n",
    "* kevés hely: kb 65 ezer ($2^{16}$)\n",
    "* egy az egyben kódolja a BMP-t\n",
    "* szokás keverni a UTF-16-tal, de nem azonos vele (részhalmaz)"
   ]
  },
  {
   "cell_type": "markdown",
   "metadata": {},
   "source": [
    "__UTF-16__\n",
    "\n",
    "* változó hosszúságú, 2 vagy 4 bájt\n",
    "* 2 bájton egy az egyben kódolja a BMP-t\n",
    "* 4 bájton a Unicode többi részét ([hogyan?](https://en.wikipedia.org/wiki/UTF-16#Description))\n",
    "* nem minden bájtsorozat jólformált, az egy-, első- és második-bájtok mind különböznek"
   ]
  },
  {
   "cell_type": "markdown",
   "metadata": {},
   "source": [
    "__UTF-8__\n",
    "\n",
    "* változó hosszúságú, 1-4 bájt\n",
    "* 1 bájton egy az egyben kódolja a ASCII-t\n",
    "* 2-4 bájton a Unicode többi részét ([hogyan?](https://en.wikipedia.org/wiki/UTF-8#Description))\n",
    "* nem minden bájtsorozat jólformált, az egy-, kezdő- és folytató-bájtok mind különböznek"
   ]
  },
  {
   "cell_type": "markdown",
   "metadata": {},
   "source": [
    "<img src='https://upload.wikimedia.org/wikipedia/commons/c/c4/Utf8webgrowth.svg'>"
   ]
  },
  {
   "cell_type": "markdown",
   "metadata": {},
   "source": [
    "### 3. Tanulságok"
   ]
  },
  {
   "cell_type": "markdown",
   "metadata": {},
   "source": [
    "Nincsen _plain text_, kódolás nélkül."
   ]
  },
  {
   "cell_type": "markdown",
   "metadata": {},
   "source": [
    "HTML példa: Honnan tudja a böngésző, hogy dekódolja a HTML header-t?\n",
    "\n",
    "```html\n",
    "<head>\n",
    "    <meta http-equiv=\"Content-Type\" content=\"text/html; charset=UTF-8\" />\n",
    "</head>\n",
    "```"
   ]
  },
  {
   "cell_type": "markdown",
   "metadata": {},
   "source": [
    "\n",
    "\n",
    "Mi alapján lehet tippelni?"
   ]
  },
  {
   "cell_type": "markdown",
   "metadata": {},
   "source": [
    "#### 3.1. Parancssor"
   ]
  },
  {
   "cell_type": "code",
   "execution_count": null,
   "metadata": {},
   "outputs": [],
   "source": [
    "%%bash\n",
    "\n",
    "file hello.c\n",
    "echo\n",
    "file a.out"
   ]
  },
  {
   "cell_type": "code",
   "execution_count": null,
   "metadata": {},
   "outputs": [],
   "source": [
    "%%bash\n",
    "# -i kapcsoló: MIME típus (Multipurpose Internet Mail Extensions)\n",
    "\n",
    "file -i hello.c\n",
    "echo\n",
    "file -i a.out"
   ]
  },
  {
   "cell_type": "code",
   "execution_count": null,
   "metadata": {},
   "outputs": [],
   "source": [
    "%%bash\n",
    "# Miért működik?\n",
    "\n",
    "iconv -f utf-8 -t latin1 hello.c"
   ]
  },
  {
   "cell_type": "code",
   "execution_count": null,
   "metadata": {},
   "outputs": [],
   "source": [
    "%%bash\n",
    "# Mi a baj?\n",
    "\n",
    "echo 'árvíztűrő' | iconv -f utf-8 -t latin1"
   ]
  },
  {
   "cell_type": "code",
   "execution_count": null,
   "metadata": {},
   "outputs": [],
   "source": [
    "%%bash\n",
    "# Mi a jó?\n",
    "# Mi a baj?\n",
    "\n",
    "echo 'árvíztûrõ' | iconv -f utf-8 -t latin1\n",
    "echo 'árvíztűrő' | iconv -f utf-8 -t latin2\n",
    "echo '�' # U+FFFD REPLACEMENT CHARACTER"
   ]
  },
  {
   "cell_type": "code",
   "execution_count": null,
   "metadata": {},
   "outputs": [],
   "source": [
    "%%bash\n",
    "# A tippelés korlátai.\n",
    "\n",
    "echo 'árvíztűrő' | iconv -f utf-8 -t iso-8859-2 >latin.txt\n",
    "file latin.txt\n",
    "echo\n",
    "file -i latin.txt"
   ]
  },
  {
   "cell_type": "markdown",
   "metadata": {},
   "source": [
    "##### További hasznos parancsok, csomagok\n",
    "\n",
    "* `recode`: hasonló az `iconv`-hoz, konvertál különböző kódolások között\n",
    "* `ascii`: ASCII karakterekről infó, karaktertábla\n",
    "* [Unicode Utilities](http://billposer.org/Software/unidesc.html): Unicode karakterekről infók, több parancsot tartalmazó csomag\n",
    "* vim\n",
    "    * `:as[cii]`\n",
    "    * `ga`\n",
    "    * [vim-characterize](https://github.com/tpope/vim-characterize)"
   ]
  },
  {
   "cell_type": "markdown",
   "metadata": {},
   "source": [
    "### 4. Python"
   ]
  },
  {
   "cell_type": "markdown",
   "metadata": {},
   "source": [
    "### 5. Irodalom"
   ]
  },
  {
   "cell_type": "markdown",
   "metadata": {},
   "source": [
    "* [Character sets, encodings, and Unicode](http://www.gammon.com.au/unicode/)\n",
    "* [The Absolute Minimum Every Software Developer Absolutely, Positively Must Know About Unicode and Character Sets](https://www.joelonsoftware.com/2003/10/08/the-absolute-minimum-every-software-developer-absolutely-positively-must-know-about-unicode-and-character-sets-no-excuses/)\n",
    "* [Python: Unicode HOWTO](https://docs.python.org/3/howto/unicode.html)\n",
    "* [The Unicode® Standard: A Technical Introduction](http://www.unicode.org/standard/principles.html)\n",
    "* [Latest Version of the Unicode Standard](http://www.unicode.org/versions/latest/)"
   ]
  },
  {
   "cell_type": "markdown",
   "metadata": {},
   "source": [
    "***"
   ]
  },
  {
   "cell_type": "code",
   "execution_count": null,
   "metadata": {},
   "outputs": [],
   "source": [
    "%%bash\n",
    "# takarítás\n",
    "\n",
    "rm -f hello.c\n",
    "rm -f a.out\n",
    "rm -f latin.txt"
   ]
  }
 ],
 "metadata": {
  "kernelspec": {
   "display_name": "Python 3",
   "language": "python",
   "name": "python3"
  },
  "language_info": {
   "codemirror_mode": {
    "name": "ipython",
    "version": 3
   },
   "file_extension": ".py",
   "mimetype": "text/x-python",
   "name": "python",
   "nbconvert_exporter": "python",
   "pygments_lexer": "ipython3",
   "version": "3.6.4"
  }
 },
 "nbformat": 4,
 "nbformat_minor": 2
}
