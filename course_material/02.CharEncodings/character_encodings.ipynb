{
 "cells": [
  {
   "cell_type": "markdown",
   "metadata": {
    "slideshow": {
     "slide_type": "-"
    }
   },
   "source": [
    "# 2. Karakterkódolás\n",
    "\n",
    "Számítógépes nyelvészet, 2018 tavasz\n",
    "\n",
    "Simon Eszter, Mittelholcz Iván\n",
    "\n",
    "MTA, Nyelvtudományi Intézet"
   ]
  },
  {
   "cell_type": "markdown",
   "metadata": {},
   "source": [
    "## Tartalom\n",
    "\n",
    "* [1. Szöveges fájlok](#1.-Sz%C3%B6veges-f%C3%A1jlok)\n",
    "    + [1.1. POSIX definíció](#1.1.-POSIX-definíció)\n",
    "    + [1.2. Magyarázatok](#1.2.-Magyarázatok)\n",
    "* [2. Karakterkódolások](#2.-Karakterk%C3%B3dol%C3%A1sok)\n",
    "    + [2.1. ASCII](#2.1.-ASCII)\n",
    "    + [2.2. Kiterjesztett ASCII](#2.2.-Kiterjesztett-ASCII)\n",
    "    + [2.3. Unicode](#2.3.-Unicode)\n",
    "* [3. Tanulságok](#3.-Tanulságok)\n",
    "    * [3.1. Parancssor](#3.1.-Parancssor)\n",
    "* [4. Python](#4.-Python)\n",
    "* [5. Irodalom](#5.-Irodalom)"
   ]
  },
  {
   "cell_type": "markdown",
   "metadata": {
    "slideshow": {
     "slide_type": "-"
    }
   },
   "source": [
    "## 1. Szöveges fájlok"
   ]
  },
  {
   "cell_type": "markdown",
   "metadata": {
    "slideshow": {
     "slide_type": "-"
    }
   },
   "source": [
    "### 1.1. [POSIX definíció](http://pubs.opengroup.org/onlinepubs/9699919799/basedefs/V1_chap03.html#tag_03_403)\n",
    "> A file that contains characters organized into zero or more lines.\n",
    "The lines do not contain NUL characters and none can exceed {LINE\\_MAX} bytes in length,\n",
    "including the \\<newline\\> character. Although POSIX.1-2008 does not distinguish between text files and binary files (see the ISO C standard), many utilities only produce predictable or meaningful output when operating on text files."
   ]
  },
  {
   "cell_type": "markdown",
   "metadata": {
    "slideshow": {
     "slide_type": "-"
    }
   },
   "source": [
    "### 1.2. Magyarázatok"
   ]
  },
  {
   "cell_type": "markdown",
   "metadata": {
    "slideshow": {
     "slide_type": "-"
    }
   },
   "source": [
    "__POSIX__: Portable Operating System Interface for uniX"
   ]
  },
  {
   "cell_type": "markdown",
   "metadata": {
    "slideshow": {
     "slide_type": "-"
    }
   },
   "source": [
    "__karakter__: betűk, számok, írásjelek, nem nyomtatható (vezérlő)jelek"
   ]
  },
  {
   "cell_type": "markdown",
   "metadata": {
    "slideshow": {
     "slide_type": "-"
    }
   },
   "source": [
    "__sor__\n",
    "* line feed (LF); carriage return (CR) (Na de milyen karakterkódolásban?)\n",
    "* oprendszer függő\n",
    "    * Windows: CR+LF\n",
    "    * *nix: LF\n",
    "    * classic MacOS: CR"
   ]
  },
  {
   "cell_type": "code",
   "execution_count": null,
   "metadata": {},
   "outputs": [],
   "source": [
    "%%bash\n",
    "# Hány sor van egy szövegben?\n",
    "echo -n 'alma' | wc -l\n",
    "echo 'alma' | wc -l\n",
    "echo -e 'alma\\n' | wc -l"
   ]
  },
  {
   "cell_type": "markdown",
   "metadata": {},
   "source": [
    "__NUL-karakter__: C-stringek záró eleme; null-bájt (00000000)"
   ]
  },
  {
   "cell_type": "markdown",
   "metadata": {},
   "source": [
    "__LINE_MAX__: A _limits.h_ header-ben definiált érték egy sor\n",
    "maximális hosszára, bájtban (C)"
   ]
  },
  {
   "cell_type": "markdown",
   "metadata": {},
   "source": [
    "#### Miért van különbség szöveges és bináris fájlok között?"
   ]
  },
  {
   "cell_type": "code",
   "execution_count": 66,
   "metadata": {},
   "outputs": [],
   "source": [
    "src = '''#include<stdio.h>\n",
    "\n",
    "int main()\n",
    "{\n",
    "    printf(\"Hello World\\\\n\");\n",
    "    return 0;\n",
    "}\n",
    "'''\n",
    "print(src, file=open('hello.c', 'w'))"
   ]
  },
  {
   "cell_type": "code",
   "execution_count": 67,
   "metadata": {},
   "outputs": [
    {
     "name": "stdout",
     "output_type": "stream",
     "text": [
      "#include<stdio.h>\n",
      "\n",
      "int main()\n",
      "{\n",
      "    printf(\"Hello World\\n\");\n",
      "    return 0;\n",
      "}\n",
      "\n"
     ]
    }
   ],
   "source": [
    "%%bash\n",
    "cat hello.c"
   ]
  },
  {
   "cell_type": "code",
   "execution_count": 68,
   "metadata": {},
   "outputs": [
    {
     "name": "stdout",
     "output_type": "stream",
     "text": [
      "^?ELF^B^A^A^@^@^@^@^@^@^@^@^@^C^@>^@^A^@^@^@0^E^@^@^@^@^@^@@^@^@^@^@^@^@^@(^Y^@^@^@^@^@^@^@^@^@^@@^@8^@^I^@@^@^]^@^\\^@^F^@^@^@^E^@^@^@@^@^@^@^@^@^@^@@^@^@^@^@^@^@^@@^@^@^@^@^@^@^@M-x^A^@^@^@^@^@^@M-x^A^@^@^@^@^@^@^H^@^@^@^@^@^@^@^C^@^@^@^D^@^@^@8^B^@^@^@^@^@^@8^B^@^@^@^@^@^@8^B^@^@^@^@^@^@^\\^@^@^@^@^@^@^@^\\^@^@^@^@^@^@^@^A^@^@^@^@^@^@^@^A^@^@^@^E^@^@^@^@^@^@^@^@^@^@^@^@^@^@^@^@^@^@^@^@^@^@^@^@^@^@^@8^H^@^@^@^@^@^@8^H^@^@^@^@^@^@^@^@ ^@^@^@^@^@^A^@^@^@^F^@^@^@M-8^M^@^@^@^@^@^@M-8^M ^@^@^@^@^@M-8^M ^@^@^@^@^@X^B^@^@^@^@^@^@`^B^@^@^@^@^@^@^@^@ ^@^@^@^@^@^B^@^@^@^F^@^@^@M-H^M^@^@^@^@^@^@M-H^M ^@^@^@^@^@M-H^M ^@^@^@^@^@M-p^A^@^@^@^@^@^@M-p^A^@^@^@^@^@^@^H^@^@^@^@^@^@^@^D^@^@^@^D^@^@^@T^B^@^@^@^@^@^@T^B^@^@^@^@^@^@T^B^@^@^@^@^@^@D^@^@^@^@^@^@^@D^@^@^@^@^@^@^@^D^@^@^@^@^@^@^@PM-etd^D^@^@^@M-p^F^@^@^@^@^@^@M-p^F^@^@^@^@^@^@M-p^F^@^@^@^@^@^@<^@^@^@^@^@^@^@<^@^@^@^@^@^@^@^D^@^@^@^@^@^@^@QM-etd^F^@^@^@^@^@^@^@^@^@^@^@^@^@^@^@^@^@^@^@^@^@^@^@^@^@^@^@^@^@^@^@^@^@^@^@^@^@^@^@^@^@^@^@^P^@^@^@^@^@^@^@RM-etd^D^@^@^@M-8^M^@^@^@^@^@^@M-8^M ^@^@^@^@^@M-8^M ^@^@^@^@^@H^B^@^@^@^@^@^@H^B^@^@^@^@^@^@^A^@^@^@^@^@^@^@/lib64/ld-linux-x86-64.so.2^@^D^@^@^@^P^@^@^@^A^@^@^@GNU^@^@^@^@^@^C^@^@^@^B^@^@^@^@^@^@^@^D^@^@^@^T^@^@^@^C^@^@^@GNU^@wPM-l`^DG5\\^[M-U^EM-{M-,M-^_M->iM-@lrM-T^A^@^@^@^A^@^@^@^A^@^@^@^@^@^@^@^@^@^@^@^@^@^@^@^@^@^@^@^@^@^@^@^@^@^@^@^@^@^@^@^@^@^@^@^@^@^@^@^@^@^@^@^@^@^@^@=^@^@^@ ^@^@^@^@^@^@^@^@^@^@^@^@^@^@^@^@^@^@^@^K^@^@^@^R^@^@^@^@^@^@^@^@^@^@^@^@^@^@^@^@^@^@^@^_^@^@^@^R^@^@^@^@^@^@^@^@^@^@^@^@^@^@^@^@^@^@^@Y^@^@^@ ^@^@^@^@^@^@^@^@^@^@^@^@^@^@^@^@^@^@^@h^@^@^@ ^@^@^@^@^@^@^@^@^@^@^@^@^@^@^@^@^@^@^@^P^@^@^@\"^@^@^@^@^@^@^@^@^@^@^@^@^@^@^@^@^@^@^@^@libc.so.6^@puts^@__cxa_finalize^@__libc_start_main^@GLIBC_2.2.5^@_ITM_deregisterTMCloneTable^@__gmon_start__^@_ITM_registerTMCloneTable^@^@^@^@^@^B^@^B^@^@^@^@^@^B^@^A^@^A^@^A^@^@^@^P^@^@^@^@^@^@^@u^Zi^I^@^@^B^@1^@^@^@^@^@^@^@M-8^M ^@^@^@^@^@^H^@^@^@^@^@^@^@0^F^@^@^@^@^@^@M-@^M ^@^@^@^@^@^H^@^@^@^@^@^@^@M-p^E^@^@^@^@^@^@^H^P ^@^@^@^@^@^H^@^@^@^@^@^@^@^H^P ^@^@^@^@^@M-X^O ^@^@^@^@^@^F^@^@^@^A^@^@^@^@^@^@^@^@^@^@^@M-`^O ^@^@^@^@^@^F^@^@^@^C^@^@^@^@^@^@^@^@^@^@^@M-h^O ^@^@^@^@^@^F^@^@^@^D^@^@^@^@^@^@^@^@^@^@^@M-p^O ^@^@^@^@^@^F^@^@^@^E^@^@^@^@^@^@^@^@^@^@^@M-x^O ^@^@^@^@^@^F^@^@^@^F^@^@^@^@^@^@^@^@^@^@^@M-P^O ^@^@^@^@^@^G^@^@^@^B^@^@^@^@^@^@^@^@^@^@^@HM-^CM-l^HHM-^K^EM-u$\n",
      " ^@HM-^EM-@t^BM-^?M-PHM-^CM-D^HM-C^@M-^?5M-:$\n",
      " ^@M-^?%M-<$\n",
      " ^@^O^_@^@M-^?%M-:$\n",
      " ^@h^@^@^@^@M-iM-`M-^?M-^?M-^?M-^?%M-R$\n",
      " ^@fM-^P^@^@^@^@^@^@^@^@1M-mIM-^IM-Q^HM-^IM-bHM-^CM-dM-pPTLM-^M^EM-^J^A^@^@HM-^M^M^S^A^@^@HM-^M=M-f^@^@^@M-^?^UM-^F$\n",
      " ^@M-t^O^_D^@^@HM-^M=M-)$\n",
      " ^@UHM-^M^EM-!$\n",
      " ^@H9M-xHM-^IM-et^YHM-^K^EZ$\n",
      " ^@HM-^EM-@t^M]M-^?M-`f.^O^_M-^D^@^@^@^@^@]M-C^O^_@^@f.^O^_M-^D^@^@^@^@^@HM-^M=i$\n",
      " ^@HM-^M5b$\n",
      " ^@UH)M-~HM-^IM-eHM-AM-~^CHM-^IM-pHM-AM-h?H^AM-FHM-QM-~t^XHM-^K^E!$\n",
      " ^@HM-^EM-@t^L]M-^?M-`f^O^_M-^D^@^@^@^@^@]M-C^O^_@^@f.^O^_M-^D^@^@^@^@^@M-^@=^Y$\n",
      " ^@^@u/HM-^C=M-w^I ^@^@UHM-^IM-et^LHM-^K=M-z^I ^@M-h^MM-^?M-^?M-^?M-hHM-^?M-^?M-^?M-F^EM-q^I ^@^A]M-C^O^_M-^@^@^@^@^@M-sM-Cf^O^_D^@^@UHM-^IM-e]M-ifM-^?M-^?M-^?UHM-^IM-eHM-^M=M-^_^@^@^@M-hM-FM-~M-^?M-^?M-8^@^@^@^@]M-Cf.^O^_M-^D^@^@^@^@^@^O^_D^@^@AWAVAM-^IM-^?AUATLM-^M%F^G ^@UHM-^M-F^G ^@SIM-^IM-vIM-^IM-UL)M-eHM-^CM-l^HHM-AM-}^CM-hWM-~M-^?M-^?HM-^EM-mt 1M-[^O^_M-^D^@^@^@^@^@LM-^IM-jLM-^IM-vDM-^IM-^?AM-^?^TM-\\HM-^CM-C^AH9M-]uM-jHM-^CM-D^H[]A\\A]A^A_M-CM-^Pf.^O^_M-^D^@^@^@^@^@M-sM-C^@^@HM-^CM-l^HHM-^CM-D^HM-C^@^@^@^A^@^B^@Hello World^@^A^[^C;<^@^@^@^F^@^@^@^PM-~M-^?M-^?M-^H^@^@^@0M-~M-^?M-^?M-0^@^@^@@M-~M-^?M-^?X^@^@^@JM-^?M-^?M-^?M-H^@^@^@pM-^?M-^?M-^?M-h^@^@^@M-`M-^?M-^?M-^?0^A^@^@^@^@^@^@^T^@^@^@^@^@^@^@^AzR^@^Ax^P^A^[^L^G^HM-^P^A^G^P^T^@^@^@^\\^@^@^@M-`M-}M-^?M-^?+^@^@^@^@^@^@^@^@^@^@^@^T^@^@^@^@^@^@^@^AzR^@^Ax^P^A^[^L^G^HM-^P^A^@^@$^@^@^@^\\^@^@^@M-^@M-}M-^?M-^? ^@^@^@^@^N^PF^N^XJ^O^Kw^HM-^@^@?^Z;*3$\"^@^@^@^@^T^@^@^@D^@^@^@xM-}M-^?M-^?^H^@^@^@^@^@^@^@^@^@^@^@^\\^@^@^@\\^@^@^@zM-~M-^?M-^?^W^@^@^@^@A^N^PM-^F^BC^M^FR^L^G^H^@^@^@D^@^@^@|^@^@^@M-^@M-~M-^?M-^?e^@^@^@^@B^N^PM-^O^BB^N^XM-^N^CE^N M-^M^DB^N(M-^L^EH^N0M-^F^FH^N8M-^C^GM^N@r^N8A^N0A^N(B^N B^N^XB^N^PB^N^H^@^P^@^@^@M-D^@^@^@M-(M-~M-^?M-^?^B^@^@^@^@^@^@^@^@^@^@^@^@^@^@^@^@^@^@^@^@^@^@^@^@^@^@^@^@^@^@^@^@^@^@^@^@^@^@^@^@^@^@^@^@^@^@^@^@^@^@^@^@^@^@^@^@^@^@^@^@^@^@^@^@^@^@^@^@^@^@^@^@^@^@^@^@^@^@^@^@^@^@^@^@^@^@^@^@^@^@^@^@^@^@^@^@^@^@^@^@^@^@^@^@^@^@^@^@^@^@^@^@^@^@^@^@^@^@^@^@^@^@^@^@^@^@^@^@^@^@^@^@^@^@^@^@^@^@^@^@^@^@^@^@^@^@^@^@^@^@^@^@^@^@^@^@^@^@^@^@^@^@^@^@^@^@^@^@^@^@^@^@^@^@^@^@^@^@^@^@^@^@^@^@^@^@^@^@^@^@^@^@^@^@^@^@^@^@^@^@^@^@^@^@^@^@^@^@^@^@^@^@^@^@^@^@^@^@^@^@^@^@^@^@^@^@^@^@^@^@^@^@^@^@^@^@^@^@^@^@^@^@^@^@^@^@^@^@^@^@^@^@^@^@^@^@^@^@^@^@^@^@^@^@^@^@^@^@^@^@^@^@^@^@^@^@^@^@^@^@^@^@^@^@^@^@^@^@^@^@^@^@^@^@^@^@^@^@^@^@^@^@^@^@^@^@^@^@^@^@^@^@^@^@^@^@^@^@^@^@^@^@^@^@^@^@^@^@^@^@^@^@^@^@^@^@^@^@^@^@^@^@^@^@^@^@^@^@^@^@^@^@^@^@^@^@^@^@^@^@^@^@^@^@^@^@^@^@^@^@^@^@^@^@^@^@^@^@^@^@^@^@^@^@^@^@^@^@^@^@^@^@^@^@^@^@^@^@^@^@^@^@^@^@^@^@^@^@^@^@^@^@^@^@^@^@^@^@^@^@^@^@^@^@^@^@^@^@^@^@^@^@^@^@^@^@^@^@^@^@^@^@^@^@^@^@^@^@^@^@^@^@^@^@^@^@^@^@^@^@^@^@^@^@^@^@^@^@^@^@^@^@^@^@^@^@^@^@^@^@^@^@^@^@^@^@^@^@^@^@^@^@^@^@^@^@^@^@^@^@^@^@^@^@^@^@^@^@^@^@^@^@^@^@^@^@^@^@^@^@^@^@^@^@^@^@^@^@^@^@^@^@^@^@^@^@^@^@^@^@^@^@^@^@^@^@^@^@^@^@^@^@^@^@^@^@^@^@^@^@^@^@^@^@^@^@^@^@^@^@^@^@^@^@^@^@^@^@^@^@^@^@^@^@^@^@^@^@^@^@^@^@^@^@^@^@^@^@^@^@^@^@^@^@^@^@^@^@^@^@^@^@^@^@^@^@^@^@^@^@^@^@^@^@^@^@^@^@^@^@^@^@^@^@^@^@^@^@^@^@^@^@^@^@^@^@^@^@^@^@^@^@^@^@^@^@^@^@^@^@^@^@^@^@^@^@^@^@^@^@^@^@^@^@^@^@^@^@^@^@^@^@^@^@^@^@^@^@^@^@^@^@^@^@^@^@^@^@^@^@^@^@^@^@^@^@^@^@^@^@^@^@^@^@^@^@^@^@^@^@^@^@^@^@^@^@^@^@^@^@^@^@^@^@^@^@^@^@^@^@^@^@^@^@^@^@^@^@^@^@^@^@^@^@^@^@^@^@^@^@^@^@^@^@^@^@^@^@^@^@^@^@^@^@^@^@^@^@^@^@^@^@^@^@^@^@^@^@^@^@^@^@^@^@^@^@^@^@^@^@^@^@^@^@^@^@^@^@^@^@^@^@^@^@^@^@^@^@^@^@^@^@^@^@^@^@^@^@^@^@^@^@^@^@^@^@^@^@^@^@^@^@^@^@^@^@^@^@^@^@^@^@^@^@^@^@^@^@^@^@^@^@^@^@^@^@^@^@^@^@^@^@^@^@^@^@^@^@^@^@^@^@^@^@^@^@^@^@^@^@^@^@^@^@^@^@^@^@^@^@^@^@^@^@^@^@^@^@^@^@^@^@^@^@^@^@^@^@^@^@^@^@^@^@^@^@^@^@^@^@^@^@^@^@^@^@^@^@^@^@^@^@^@^@^@^@^@^@^@^@^@^@^@^@^@^@^@^@^@^@^@^@^@^@^@^@^@^@^@^@^@^@^@^@^@^@^@^@^@^@^@^@^@^@^@^@^@^@^@^@^@^@^@^@^@^@^@^@^@^@^@^@^@^@^@^@^@^@^@^@^@^@^@^@^@^@^@^@^@^@^@^@^@^@^@^@^@^@^@^@^@^@^@^@^@^@^@^@^@^@^@^@^@^@^@^@^@^@^@^@^@^@^@^@^@^@^@^@^@^@^@^@^@^@^@^@^@^@^@^@^@^@^@^@^@^@^@^@^@^@^@^@^@^@^@^@^@^@^@^@^@^@^@^@^@^@^@^@^@^@^@^@^@^@^@^@^@^@^@^@^@^@^@^@^@^@^@^@^@^@^@^@^@^@^@^@^@^@^@^@^@^@^@^@^@^@^@^@^@^@^@^@^@^@^@^@^@^@^@^@^@^@^@^@^@^@^@^@^@^@^@^@^@^@^@^@^@^@^@^@^@^@^@^@^@^@^@^@^@^@^@^@^@^@^@^@^@^@^@^@^@^@^@^@^@^@^@^@^@^@^@^@^@^@^@^@^@^@^@^@^@^@^@^@^@^@^@^@^@^@^@^@^@^@^@^@^@^@^@^@^@^@^@^@^@^@^@^@^@^@^@^@^@^@^@^@^@^@^@^@^@^@^@^@^@^@^@^@^@^@^@^@^@^@^@^@^@^@^@^@^@^@^@^@^@^@^@^@^@^@^@^@^@^@^@^@^@^@^@^@^@^@^@^@^@^@^@^@^@^@^@^@^@^@^@^@^@^@^@^@^@^@^@^@^@^@^@^@^@^@^@^@^@^@^@^@^@^@^@^@^@^@^@^@^@^@^@^@^@^@^@^@^@^@^@^@^@^@^@^@^@^@^@^@^@^@^@^@^@^@^@^@^@^@^@^@^@^@^@^@^@^@^@^@^@^@^@^@^@^@^@^@^@^@^@^@^@^@^@^@^@^@^@^@^@^@^@^@^@^@^@^@^@^@^@^@^@^@^@^@^@^@^@^@^@^@^@^@^@0^F^@^@^@^@^@^@M-p^E^@^@^@^@^@^@^A^@^@^@^@^@^@^@^A^@^@^@^@^@^@^@^L^@^@^@^@^@^@^@M-h^D^@^@^@^@^@^@^M^@^@^@^@^@^@^@M-T^F^@^@^@^@^@^@^Y^@^@^@^@^@^@^@M-8^M ^@^@^@^@^@^[^@^@^@^@^@^@^@^H^@^@^@^@^@^@^@^Z^@^@^@^@^@^@^@M-@^M ^@^@^@^@^@^\\^@^@^@^@^@^@^@^H^@^@^@^@^@^@^@M-uM-~M-^?o^@^@^@^@M-^X^B^@^@^@^@^@^@^E^@^@^@^@^@^@^@`^C^@^@^@^@^@^@^F^@^@^@^@^@^@^@M-8^B^@^@^@^@^@^@$\n",
      "^@^@^@^@^@^@^@M-^B^@^@^@^@^@^@^@^K^@^@^@^@^@^@^@^X^@^@^@^@^@^@^@^U^@^@^@^@^@^@^@^@^@^@^@^@^@^@^@^C^@^@^@^@^@^@^@M-8^O ^@^@^@^@^@^B^@^@^@^@^@^@^@^X^@^@^@^@^@^@^@^T^@^@^@^@^@^@^@^G^@^@^@^@^@^@^@^W^@^@^@^@^@^@^@M-P^D^@^@^@^@^@^@^G^@^@^@^@^@^@^@^P^D^@^@^@^@^@^@^H^@^@^@^@^@^@^@M-@^@^@^@^@^@^@^@^I^@^@^@^@^@^@^@^X^@^@^@^@^@^@^@^^^@^@^@^@^@^@^@^H^@^@^@^@^@^@^@M-{M-^?M-^?o^@^@^@^@^A^@^@^H^@^@^@^@M-~M-^?M-^?o^@^@^@^@M-p^C^@^@^@^@^@^@M-^?M-^?M-^?o^@^@^@^@^A^@^@^@^@^@^@^@M-pM-^?M-^?o^@^@^@^@M-b^C^@^@^@^@^@^@M-yM-^?M-^?o^@^@^@^@^C^@^@^@^@^@^@^@^@^@^@^@^@^@^@^@^@^@^@^@^@^@^@^@^@^@^@^@^@^@^@^@^@^@^@^@^@^@^@^@^@^@^@^@^@^@^@^@^@^@^@^@^@^@^@^@^@^@^@^@^@^@^@^@^@^@^@^@^@^@^@^@^@^@^@^@^@^@^@^@^@^@^@^@^@^@^@^@M-H^M ^@^@^@^@^@^@^@^@^@^@^@^@^@^@^@^@^@^@^@^@^@^V^E^@^@^@^@^@^@^@^@^@^@^@^@^@^@^@^@^@^@^@^@^@^@^@^@^@^@^@^@^@^@^@^@^@^@^@^@^@^@^@^@^@^@^@^@^@^@^@^@^@^@^@^@^@^@^H^P ^@^@^@^@^@GCC: (Ubuntu 7.2.0-8ubuntu3) 7.2.0^@^@^@^@^@^@^@^@^@^@^@^@^@^@^@^@^@^@^@^@^@^@^@^@^@^@^@^@^@^@^@^@^@^@^C^@^A^@8^B^@^@^@^@^@^@^@^@^@^@^@^@^@^@^@^@^@^@^C^@^B^@T^B^@^@^@^@^@^@^@^@^@^@^@^@^@^@^@^@^@^@^C^@^C^@t^B^@^@^@^@^@^@^@^@^@^@^@^@^@^@^@^@^@^@^C^@^D^@M-^X^B^@^@^@^@^@^@^@^@^@^@^@^@^@^@^@^@^@^@^C^@^E^@M-8^B^@^@^@^@^@^@^@^@^@^@^@^@^@^@^@^@^@^@^C^@^F^@`^C^@^@^@^@^@^@^@^@^@^@^@^@^@^@^@^@^@^@^C^@^G^@M-b^C^@^@^@^@^@^@^@^@^@^@^@^@^@^@^@^@^@^@^C^@^H^@M-p^C^@^@^@^@^@^@^@^@^@^@^@^@^@^@^@^@^@^@^C^@^I^@^P^D^@^@^@^@^@^@^@^@^@^@^@^@^@^@^@^@^@^@^C^@$\n",
      "^@M-P^D^@^@^@^@^@^@^@^@^@^@^@^@^@^@^@^@^@^@^C^@^K^@M-h^D^@^@^@^@^@^@^@^@^@^@^@^@^@^@^@^@^@^@^C^@^L^@^@^E^@^@^@^@^@^@^@^@^@^@^@^@^@^@^@^@^@^@^C^@^M^@ ^E^@^@^@^@^@^@^@^@^@^@^@^@^@^@^@^@^@^@^C^@^N^@0^E^@^@^@^@^@^@^@^@^@^@^@^@^@^@^@^@^@^@^C^@^O^@M-T^F^@^@^@^@^@^@^@^@^@^@^@^@^@^@^@^@^@^@^C^@^P^@M-`^F^@^@^@^@^@^@^@^@^@^@^@^@^@^@^@^@^@^@^C^@^Q^@M-p^F^@^@^@^@^@^@^@^@^@^@^@^@^@^@^@^@^@^@^C^@^R^@0^G^@^@^@^@^@^@^@^@^@^@^@^@^@^@^@^@^@^@^C^@^S^@M-8^M ^@^@^@^@^@^@^@^@^@^@^@^@^@^@^@^@^@^C^@^T^@M-@^M ^@^@^@^@^@^@^@^@^@^@^@^@^@^@^@^@^@^C^@^U^@M-H^M ^@^@^@^@^@^@^@^@^@^@^@^@^@^@^@^@^@^C^@^V^@M-8^O ^@^@^@^@^@^@^@^@^@^@^@^@^@^@^@^@^@^C^@^W^@^@^P ^@^@^@^@^@^@^@^@^@^@^@^@^@^@^@^@^@^C^@^X^@^P^P ^@^@^@^@^@^@^@^@^@^@^@^@^@^@^@^@^@^C^@^Y^@^@^@^@^@^@^@^@^@^@^@^@^@^@^@^@^@^A^@^@^@^D^@M-qM-^?^@^@^@^@^@^@^@^@^@^@^@^@^@^@^@^@^L^@^@^@^B^@^N^@`^E^@^@^@^@^@^@^@^@^@^@^@^@^@^@^N^@^@^@^B^@^N^@M- ^E^@^@^@^@^@^@^@^@^@^@^@^@^@^@!^@^@^@^B^@^N^@M-p^E^@^@^@^@^@^@^@^@^@^@^@^@^@^@7^@^@^@^A^@^X^@^P^P ^@^@^@^@^@^A^@^@^@^@^@^@^@F^@^@^@^A^@^T^@M-@^M ^@^@^@^@^@^@^@^@^@^@^@^@^@m^@^@^@^B^@^N^@0^F^@^@^@^@^@^@^@^@^@^@^@^@^@^@y^@^@^@^A^@^S^@M-8^M ^@^@^@^@^@^@^@^@^@^@^@^@^@M-^X^@^@^@^D^@M-qM-^?^@^@^@^@^@^@^@^@^@^@^@^@^@^@^@^@^A^@^@^@^D^@M-qM-^?^@^@^@^@^@^@^@^@^@^@^@^@^@^@^@^@M- ^@^@^@^A^@^R^@4^H^@^@^@^@^@^@^@^@^@^@^@^@^@^@^@^@^@^@^D^@M-qM-^?^@^@^@^@^@^@^@^@^@^@^@^@^@^@^@^@M-.^@^@^@^@^@^S^@M-@^M ^@^@^@^@^@^@^@^@^@^@^@^@^@M-?^@^@^@^A^@^U^@M-H^M ^@^@^@^@^@^@^@^@^@^@^@^@^@M-H^@^@^@^@^@^S^@M-8^M ^@^@^@^@^@^@^@^@^@^@^@^@^@M-[^@^@^@^@^@^Q^@M-p^F^@^@^@^@^@^@^@^@^@^@^@^@^@^@M-n^@^@^@^A^@^V^@M-8^O ^@^@^@^@^@^@^@^@^@^@^@^@^@^D^A^@^@^R^@^N^@M-P^F^@^@^@^@^@^@^B^@^@^@^@^@^@^@^T^A^@^@ ^@^@^@^@^@^@^@^@^@^@^@^@^@^@^@^@^@^@^@j^A^@^@ ^@^W^@^@^P ^@^@^@^@^@^@^@^@^@^@^@^@^@0^A^@^@^R^@^@^@^@^@^@^@^@^@^@^@^@^@^@^@^@^@^@^@B^A^@^@^P^@^W^@^P^P ^@^@^@^@^@^@^@^@^@^@^@^@^@^N^A^@^@^R^@^O^@M-T^F^@^@^@^@^@^@^@^@^@^@^@^@^@^@I^A^@^@^R^@^@^@^@^@^@^@^@^@^@^@^@^@^@^@^@^@^@^@h^A^@^@^P^@^W^@^@^P ^@^@^@^@^@^@^@^@^@^@^@^@^@u^A^@^@ ^@^@^@^@^@^@^@^@^@^@^@^@^@^@^@^@^@^@^@M-^D^A^@^@^Q^B^W^@^H^P ^@^@^@^@^@^@^@^@^@^@^@^@^@M-^Q^A^@^@^Q^@^P^@M-`^F^@^@^@^@^@^@^D^@^@^@^@^@^@^@M- ^A^@^@^R^@^N^@`^F^@^@^@^@^@^@e^@^@^@^@^@^@^@M-:^@^@^@^P^@^X^@^X^P ^@^@^@^@^@^@^@^@^@^@^@^@^@n^A^@^@^R^@^N^@0^E^@^@^@^@^@^@+^@^@^@^@^@^@^@M-0^A^@^@^P^@^X^@^P^P ^@^@^@^@^@^@^@^@^@^@^@^@^@M-<^A^@^@^R^@^N^@:^F^@^@^@^@^@^@^W^@^@^@^@^@^@^@M-A^A^@^@^Q^B^W^@^P^P ^@^@^@^@^@^@^@^@^@^@^@^@^@M-M^A^@^@ ^@^@^@^@^@^@^@^@^@^@^@^@^@^@^@^@^@^@^@M-g^A^@^@\"^@^@^@^@^@^@^@^@^@^@^@^@^@^@^@^@^@^@^@M-*^A^@^@^R^@^K^@M-h^D^@^@^@^@^@^@^@^@^@^@^@^@^@^@^@crtstuff.c^@deregister_tm_clones^@__do_global_dtors_aux^@completed.7632^@__do_global_dtors_aux_fini_array_entry^@frame_dummy^@__frame_dummy_init_array_entry^@hello.c^@__FRAME_END__^@__init_array_end^@_DYNAMIC^@__init_array_start^@__GNU_EH_FRAME_HDR^@_GLOBAL_OFFSET_TABLE_^@__libc_csu_fini^@_ITM_deregisterTMCloneTable^@puts@@GLIBC_2.2.5^@_edata^@__libc_start_main@@GLIBC_2.2.5^@__data_start^@__gmon_start__^@__dso_handle^@_IO_stdin_used^@__libc_csu_init^@__bss_start^@main^@__TMC_END__^@_ITM_registerTMCloneTable^@__cxa_finalize@@GLIBC_2.2.5^@^@.symtab^@.strtab^@.shstrtab^@.interp^@.note.ABI-tag^@.note.gnu.build-id^@.gnu.hash^@.dynsym^@.dynstr^@.gnu.version^@.gnu.version_r^@.rela.dyn^@.rela.plt^@.init^@.plt.got^@.text^@.fini^@.rodata^@.eh_frame_hdr^@.eh_frame^@.init_array^@.fini_array^@.dynamic^@.data^@.bss^@.comment^@^@^@^@^@^@^@^@^@^@^@^@^@^@^@^@^@^@^@^@^@^@^@^@^@^@^@^@^@^@^@^@^@^@^@^@^@^@^@^@^@^@^@^@^@^@^@^@^@^@^@^@^@^@^@^@^@^@^@^@^@^@^@^@^@^@^@^@^@^@^@^@^[^@^@^@^A^@^@^@^B^@^@^@^@^@^@^@8^B^@^@^@^@^@^@8^B^@^@^@^@^@^@^\\^@^@^@^@^@^@^@^@^@^@^@^@^@^@^@^A^@^@^@^@^@^@^@^@^@^@^@^@^@^@^@#^@^@^@^G^@^@^@^B^@^@^@^@^@^@^@T^B^@^@^@^@^@^@T^B^@^@^@^@^@^@ ^@^@^@^@^@^@^@^@^@^@^@^@^@^@^@^D^@^@^@^@^@^@^@^@^@^@^@^@^@^@^@1^@^@^@^G^@^@^@^B^@^@^@^@^@^@^@t^B^@^@^@^@^@^@t^B^@^@^@^@^@^@$^@^@^@^@^@^@^@^@^@^@^@^@^@^@^@^D^@^@^@^@^@^@^@^@^@^@^@^@^@^@^@D^@^@^@M-vM-^?M-^?o^B^@^@^@^@^@^@^@M-^X^B^@^@^@^@^@^@M-^X^B^@^@^@^@^@^@^\\^@^@^@^@^@^@^@^E^@^@^@^@^@^@^@^H^@^@^@^@^@^@^@^@^@^@^@^@^@^@^@N^@^@^@^K^@^@^@^B^@^@^@^@^@^@^@M-8^B^@^@^@^@^@^@M-8^B^@^@^@^@^@^@M-(^@^@^@^@^@^@^@^F^@^@^@^A^@^@^@^H^@^@^@^@^@^@^@^X^@^@^@^@^@^@^@V^@^@^@^C^@^@^@^B^@^@^@^@^@^@^@`^C^@^@^@^@^@^@`^C^@^@^@^@^@^@M-^B^@^@^@^@^@^@^@^@^@^@^@^@^@^@^@^A^@^@^@^@^@^@^@^@^@^@^@^@^@^@^@^^@^@^@M-^?M-^?M-^?o^B^@^@^@^@^@^@^@M-b^C^@^@^@^@^@^@M-b^C^@^@^@^@^@^@^N^@^@^@^@^@^@^@^E^@^@^@^@^@^@^@^B^@^@^@^@^@^@^@^B^@^@^@^@^@^@^@k^@^@^@M-~M-^?M-^?o^B^@^@^@^@^@^@^@M-p^C^@^@^@^@^@^@M-p^C^@^@^@^@^@^@ ^@^@^@^@^@^@^@^F^@^@^@^A^@^@^@^H^@^@^@^@^@^@^@^@^@^@^@^@^@^@^@z^@^@^@^D^@^@^@^B^@^@^@^@^@^@^@^P^D^@^@^@^@^@^@^P^D^@^@^@^@^@^@M-@^@^@^@^@^@^@^@^E^@^@^@^@^@^@^@^H^@^@^@^@^@^@^@^X^@^@^@^@^@^@^@M-^D^@^@^@^D^@^@^@B^@^@^@^@^@^@^@M-P^D^@^@^@^@^@^@M-P^D^@^@^@^@^@^@^X^@^@^@^@^@^@^@^E^@^@^@^V^@^@^@^H^@^@^@^@^@^@^@^X^@^@^@^@^@^@^@M-^N^@^@^@^A^@^@^@^F^@^@^@^@^@^@^@M-h^D^@^@^@^@^@^@M-h^D^@^@^@^@^@^@^W^@^@^@^@^@^@^@^@^@^@^@^@^@^@^@^D^@^@^@^@^@^@^@^@^@^@^@^@^@^@^@M-^I^@^@^@^A^@^@^@^F^@^@^@^@^@^@^@^@^E^@^@^@^@^@^@^@^E^@^@^@^@^@^@ ^@^@^@^@^@^@^@^@^@^@^@^@^@^@^@^P^@^@^@^@^@^@^@^P^@^@^@^@^@^@^@M-^T^@^@^@^A^@^@^@^F^@^@^@^@^@^@^@ ^E^@^@^@^@^@^@ ^E^@^@^@^@^@^@^H^@^@^@^@^@^@^@^@^@^@^@^@^@^@^@^H^@^@^@^@^@^@^@^H^@^@^@^@^@^@^@M-^]^@^@^@^A^@^@^@^F^@^@^@^@^@^@^@0^E^@^@^@^@^@^@0^E^@^@^@^@^@^@M-\"^A^@^@^@^@^@^@^@^@^@^@^@^@^@^@^P^@^@^@^@^@^@^@^@^@^@^@^@^@^@^@M-#^@^@^@^A^@^@^@^F^@^@^@^@^@^@^@M-T^F^@^@^@^@^@^@M-T^F^@^@^@^@^@^@^I^@^@^@^@^@^@^@^@^@^@^@^@^@^@^@^D^@^@^@^@^@^@^@^@^@^@^@^@^@^@^@M-)^@^@^@^A^@^@^@^B^@^@^@^@^@^@^@M-`^F^@^@^@^@^@^@M-`^F^@^@^@^@^@^@^P^@^@^@^@^@^@^@^@^@^@^@^@^@^@^@^D^@^@^@^@^@^@^@^@^@^@^@^@^@^@^@M-1^@^@^@^A^@^@^@^B^@^@^@^@^@^@^@M-p^F^@^@^@^@^@^@M-p^F^@^@^@^@^@^@<^@^@^@^@^@^@^@^@^@^@^@^@^@^@^@^D^@^@^@^@^@^@^@^@^@^@^@^@^@^@^@M-?^@^@^@^A^@^@^@^B^@^@^@^@^@^@^@0^G^@^@^@^@^@^@0^G^@^@^@^@^@^@^H^A^@^@^@^@^@^@^@^@^@^@^@^@^@^@^H^@^@^@^@^@^@^@^@^@^@^@^@^@^@^@M-I^@^@^@^N^@^@^@^C^@^@^@^@^@^@^@M-8^M ^@^@^@^@^@M-8^M^@^@^@^@^@^@^H^@^@^@^@^@^@^@^@^@^@^@^@^@^@^@^H^@^@^@^@^@^@^@^H^@^@^@^@^@^@^@M-U^@^@^@^O^@^@^@^C^@^@^@^@^@^@^@M-@^M ^@^@^@^@^@M-@^M^@^@^@^@^@^@^H^@^@^@^@^@^@^@^@^@^@^@^@^@^@^@^H^@^@^@^@^@^@^@^H^@^@^@^@^@^@^@M-a^@^@^@^F^@^@^@^C^@^@^@^@^@^@^@M-H^M ^@^@^@^@^@M-H^M^@^@^@^@^@^@M-p^A^@^@^@^@^@^@^F^@^@^@^@^@^@^@^H^@^@^@^@^@^@^@^P^@^@^@^@^@^@^@M-^X^@^@^@^A^@^@^@^C^@^@^@^@^@^@^@M-8^O ^@^@^@^@^@M-8^O^@^@^@^@^@^@H^@^@^@^@^@^@^@^@^@^@^@^@^@^@^@^H^@^@^@^@^@^@^@^H^@^@^@^@^@^@^@M-j^@^@^@^A^@^@^@^C^@^@^@^@^@^@^@^@^P ^@^@^@^@^@^@^P^@^@^@^@^@^@^P^@^@^@^@^@^@^@^@^@^@^@^@^@^@^@^H^@^@^@^@^@^@^@^@^@^@^@^@^@^@^@M-p^@^@^@^H^@^@^@^C^@^@^@^@^@^@^@^P^P ^@^@^@^@^@^P^P^@^@^@^@^@^@^H^@^@^@^@^@^@^@^@^@^@^@^@^@^@^@^A^@^@^@^@^@^@^@^@^@^@^@^@^@^@^@M-u^@^@^@^A^@^@^@0^@^@^@^@^@^@^@^@^@^@^@^@^@^@^@^P^P^@^@^@^@^@^@#^@^@^@^@^@^@^@^@^@^@^@^@^@^@^@^A^@^@^@^@^@^@^@^A^@^@^@^@^@^@^@^A^@^@^@^B^@^@^@^@^@^@^@^@^@^@^@^@^@^@^@^@^@^@^@8^P^@^@^@^@^@^@M-h^E^@^@^@^@^@^@^[^@^@^@+^@^@^@^H^@^@^@^@^@^@^@^X^@^@^@^@^@^@^@^I^@^@^@^C^@^@^@^@^@^@^@^@^@^@^@^@^@^@^@^@^@^@^@ ^V^@^@^@^@^@^@^C^B^@^@^@^@^@^@^@^@^@^@^@^@^@^@^A^@^@^@^@^@^@^@^@^@^@^@^@^@^@^@^Q^@^@^@^C^@^@^@^@^@^@^@^@^@^@^@^@^@^@^@^@^@^@^@#^X^@^@^@^@^@^@M-~^@^@^@^@^@^@^@^@^@^@^@^@^@^@^@^A^@^@^@^@^@^@^@^@^@^@^@^@^@^@^@"
     ]
    }
   ],
   "source": [
    "%%bash\n",
    "gcc hello.c\n",
    "cat -A a.out"
   ]
  },
  {
   "cell_type": "markdown",
   "metadata": {},
   "source": [
    "#### Miért nincs különbség szöveges és bináris fájlok között?"
   ]
  },
  {
   "cell_type": "code",
   "execution_count": null,
   "metadata": {},
   "outputs": [],
   "source": [
    "%%bash\n",
    "xxd -b hello.c"
   ]
  },
  {
   "cell_type": "code",
   "execution_count": null,
   "metadata": {},
   "outputs": [],
   "source": [
    "%%bash\n",
    "xxd -b a.out"
   ]
  },
  {
   "cell_type": "markdown",
   "metadata": {},
   "source": [
    "## 2. Karakterkódolások"
   ]
  },
  {
   "cell_type": "markdown",
   "metadata": {},
   "source": [
    "Karakterkódolás: a karakterkészlet („ábécé”) és a bitek közti\n",
    "kapcsolatot leírása.\n",
    "\n",
    "* nem minden számít külön karakternek\n",
    "  _<br/>A dőlt, félkövér, ligatúrák, alsó/felső index,\n",
    "  stb karakterek sokszor csak a fontkészletekben vannak._\n",
    "* nem kell minden lehetséges bitsorozathoz karaktert rendelni\n",
    "  _<br/>Pl. az ASCII nem rendel karaktert az 1-el kezdődő bájtokhoz (a $11111111$ nem jelent semmit)_\n",
    "* nem kell minden lehetséges karakterhez bitsorozatot rendelni\n",
    "  _<br/>Pl. az ASCII nem kódolja a cirill karaktereket._"
   ]
  },
  {
   "cell_type": "markdown",
   "metadata": {},
   "source": [
    "__encoding__: $\\{String\\} \\to \\{Bitsorozat\\}$\n",
    "\n",
    "Példa: $\\ ABC \\to 01000001\\ 01000010\\ 01000011$\n",
    "\n",
    "Alkalmazás: pl. szövegbevitel"
   ]
  },
  {
   "cell_type": "markdown",
   "metadata": {},
   "source": [
    "__decoding__: $\\{Bitsorozat\\} \\to \\{String\\}$\n",
    "\n",
    "Példa: $\\ 01000001\\ 01000010\\ 01000011 \\to ABC$\n",
    "\n",
    "Alkalmazás: pl. szövegmegjelenítés"
   ]
  },
  {
   "cell_type": "markdown",
   "metadata": {
    "slideshow": {
     "slide_type": "-"
    }
   },
   "source": [
    "### 2.1. ASCII"
   ]
  },
  {
   "cell_type": "markdown",
   "metadata": {},
   "source": [
    "* 1963, USA: ékezet nélküli, angol karakterek\n",
    "* távírókhoz: vezérlőkarakterek, pl [CR](https://youtu.be/Pp2IJIk5qvc), LF, ESC, BELL\n",
    "* 128 karkter – 7 bit (0-tól 127-ig számozva)\n",
    "* ahol 1 bájt = 8 bit: ’0’ prefix minden ASCII-kód elé"
   ]
  },
  {
   "cell_type": "markdown",
   "metadata": {},
   "source": [
    "<img src='https://upload.wikimedia.org/wikipedia/commons/c/cf/USASCII_code_chart.png' title='ASCII karaktertábla' />"
   ]
  },
  {
   "cell_type": "markdown",
   "metadata": {},
   "source": [
    "#### 2.1.1. Bitenkénti operátorok, letter case"
   ]
  },
  {
   "cell_type": "code",
   "execution_count": 17,
   "metadata": {},
   "outputs": [
    {
     "data": {
      "text/plain": [
       "'0b1100001'"
      ]
     },
     "execution_count": 17,
     "metadata": {},
     "output_type": "execute_result"
    }
   ],
   "source": [
    "bin(0b1000001 | 0b0100000)"
   ]
  },
  {
   "cell_type": "code",
   "execution_count": 19,
   "metadata": {},
   "outputs": [
    {
     "data": {
      "text/plain": [
       "'0b1000001'"
      ]
     },
     "execution_count": 19,
     "metadata": {},
     "output_type": "execute_result"
    }
   ],
   "source": [
    "bin(0b1100001 ^ 0b0100000)"
   ]
  },
  {
   "cell_type": "code",
   "execution_count": 20,
   "metadata": {},
   "outputs": [
    {
     "data": {
      "text/plain": [
       "'a'"
      ]
     },
     "execution_count": 20,
     "metadata": {},
     "output_type": "execute_result"
    }
   ],
   "source": [
    "chr(65 | 32)"
   ]
  },
  {
   "cell_type": "code",
   "execution_count": 21,
   "metadata": {},
   "outputs": [
    {
     "data": {
      "text/plain": [
       "97"
      ]
     },
     "execution_count": 21,
     "metadata": {},
     "output_type": "execute_result"
    }
   ],
   "source": [
    "ord('a')"
   ]
  },
  {
   "cell_type": "code",
   "execution_count": 49,
   "metadata": {},
   "outputs": [
    {
     "name": "stdout",
     "output_type": "stream",
     "text": [
      "1\n",
      "`\n",
      "A\n",
      "G\n",
      "Z\n",
      "{\n"
     ]
    }
   ],
   "source": [
    "\n",
    "\n",
    "print(ascii_upper('1'))\n",
    "print(ascii_upper('`'))\n",
    "print(ascii_upper('a'))\n",
    "print(ascii_upper('g'))\n",
    "print(ascii_upper('z'))\n",
    "print(ascii_upper('{'))"
   ]
  },
  {
   "cell_type": "markdown",
   "metadata": {},
   "source": [
    "##### Feladat\n",
    "\n",
    "A fentiek segítségével írjunk olyan python függvényt,\n",
    "* ami kisbetűsíti az ascii nagybetűket, minden mást érintetlenül hagy (ascii_lower),\n",
    "* ami nagybetűsíti az ascii kisbetűket, minden mást érintetlenül hagy (ascii_upper).\n",
    "\n",
    "Használat:\n",
    "\n",
    "```python\n",
    ">>> ascii_lower('U')\n",
    "'u'\n",
    ">>> ascii_lower('Ű')\n",
    "'Ű'\n",
    ">>> ascii_upper('g')\n",
    "'G'\n",
    ">>> ascii_upper('!')\n",
    "'!'\n",
    "```\n",
    "\n",
    "Módosítsuk a függvényeinket, hogy ne csak egy-egy karakterre, de hosszabb stringekre is működjenek!"
   ]
  },
  {
   "cell_type": "markdown",
   "metadata": {},
   "source": [
    "<font color=white>\n",
    "\n",
    "def ascii_upper(char):\n",
    "    res = char\n",
    "    if 'a' <= char <= 'z':\n",
    "        res = chr(ord(char) ^ 32)\n",
    "    return res\n",
    "\n",
    "def ascii_upper(char):\n",
    "    res = char\n",
    "    if isinstance(char, str) and len(char) == 1 and 'a' <= char <= 'z':\n",
    "        res = chr(ord(char) ^ 32)\n",
    "    return res\n",
    "\n",
    "def ascii_upper(char):\n",
    "    res = char\n",
    "    try:\n",
    "        if 'a' <= char <= 'z':\n",
    "            res = chr(ord(char) ^ 32)\n",
    "    except TypeError as err:\n",
    "        pass\n",
    "    return res\n",
    "\n",
    "print(ascii_upper('g'))\n",
    "print(ascii_upper('ű'))\n",
    "print(ascii_upper('!'))\n",
    "print(ascii_upper('1'))\n",
    "print(ascii_upper(1))\n",
    "print(ascii_upper('alma'))\n",
    "\n",
    "#</font>\n"
   ]
  },
  {
   "cell_type": "code",
   "execution_count": 52,
   "metadata": {},
   "outputs": [
    {
     "data": {
      "text/plain": [
       "'B'"
      ]
     },
     "execution_count": 52,
     "metadata": {},
     "output_type": "execute_result"
    }
   ],
   "source": [
    "ascii_upper('b')"
   ]
  },
  {
   "cell_type": "code",
   "execution_count": 54,
   "metadata": {},
   "outputs": [
    {
     "data": {
      "text/plain": [
       "'ű'"
      ]
     },
     "execution_count": 54,
     "metadata": {},
     "output_type": "execute_result"
    }
   ],
   "source": [
    "ascii_upper('ű')"
   ]
  },
  {
   "cell_type": "code",
   "execution_count": 3,
   "metadata": {},
   "outputs": [
    {
     "data": {
      "text/plain": [
       "str"
      ]
     },
     "execution_count": 3,
     "metadata": {},
     "output_type": "execute_result"
    }
   ],
   "source": [
    "type('b')"
   ]
  },
  {
   "cell_type": "code",
   "execution_count": 11,
   "metadata": {},
   "outputs": [],
   "source": [
    "ord??"
   ]
  },
  {
   "cell_type": "markdown",
   "metadata": {
    "slideshow": {
     "slide_type": "-"
    }
   },
   "source": [
    "### 2.2. Kiterjesztett ASCII"
   ]
  },
  {
   "cell_type": "markdown",
   "metadata": {},
   "source": [
    "Van egy maradék bit, használjuk ki!\n",
    "\n",
    "* [ISO 8859](https://en.wikipedia.org/wiki/ISO/IEC_8859#Table) (1983)\n",
    "    - ISO 8859-1: nyugat-európai\n",
    "    - ISO 8859-2: közép-európai\n",
    "    - ISO 8859-5/6/7/8: cirill / arab / görög / héber\n",
    "* [Windows code pages](https://en.wikipedia.org/wiki/Windows_code_page) (1985)\n",
    "    - Windows-1250: közép- és kelet-európai\n",
    "    - Windows-1252: nyugat-európai"
   ]
  },
  {
   "cell_type": "markdown",
   "metadata": {},
   "source": [
    "Summa:\n",
    "\n",
    "* fix, 1-bájtos kódolások\n",
    "* több külön lapon lévő nyelv használata egy dokumentumban probléma (többnyelvű lapok)\n",
    "* minden bájtsorozat érvényes (lehetne) és dekódolható (lehetne) bármelyik kódolással"
   ]
  },
  {
   "cell_type": "markdown",
   "metadata": {
    "slideshow": {
     "slide_type": "-"
    }
   },
   "source": [
    "### 2.3. Unicode"
   ]
  },
  {
   "cell_type": "markdown",
   "metadata": {},
   "source": [
    "* 1988, egy ideig vele párhuzamosan fut az Universal Coded Character Set (UCS, 1989), ami később beolvad a Unicode-ba\n",
    "* cél minden írásrendszer karaktereit egy egységes kódolásban kezelni\n",
    "* két lépcsős felépítés:\n",
    "    * Unicode: karakter $\\to$ kódpont\n",
    "    * karakterkódolás: kódpont $\\to$ bitek (ebből több van)    "
   ]
  },
  {
   "cell_type": "markdown",
   "metadata": {},
   "source": [
    "#### 3.2.1. Kódpontok"
   ]
  },
  {
   "cell_type": "markdown",
   "metadata": {},
   "source": [
    "* jelölés: U+XXXX (négy-hat jegyű hexakód, pl. 'A' = U+0041)\n",
    "* 17 lap, egyenként $2^{16}$ hellyel (kb. 1.100.000 hely)\n",
    "    * 0\\. lap: [Basic Multilingual Plane](https://upload.wikimedia.org/wikipedia/commons/8/8e/Roadmap_to_Unicode_BMP.svg)\n",
    "    * 2., 3. és 14. lap: kiegészító lapok\n",
    "    * 4-13. lapok: nem használtak (még)\n",
    "    * 15-16. lapok: saját használatra\n",
    "* Unicode 10.0 (2017): kb 137.000 foglalt (kb 12%)"
   ]
  },
  {
   "cell_type": "markdown",
   "metadata": {},
   "source": [
    "* több lehetséges karakterkódolás, ami a kódpontokat bitekre képezi\n",
    "* állandó hosszúságú (tömb, indexelhetőség, string-hossz)\n",
    "* változó hosszúságú (a fentiek mind nem)"
   ]
  },
  {
   "cell_type": "markdown",
   "metadata": {},
   "source": [
    "#### 3.2.2. UTF és UTC karakterkódolások"
   ]
  },
  {
   "cell_type": "markdown",
   "metadata": {},
   "source": [
    "* több lehetséges karakterkódolás, ami a kódpontokat bitekre képezi\n",
    "    * UCS: _Universal Character Set_, beolvadt a Unicode-ba\n",
    "    * UTF: _Unicode Transformation Format_\n",
    "* állandó hosszúságú (tömb, indexelhetőség, string-hossz)\n",
    "* változó hosszúságú (a fentiek mind nem)"
   ]
  },
  {
   "cell_type": "markdown",
   "metadata": {},
   "source": [
    "__UCS-4 / UTF-32__\n",
    "\n",
    "* állandó hosszúságú, 4 bájt\n",
    "* sok hely: kb 2,1 milliárd ($2^{31}$ -- előjelbit nem használt)\n",
    "* hátrányok:\n",
    "    * pazarló\n",
    "    * NUL-bájtok a szövegben"
   ]
  },
  {
   "cell_type": "markdown",
   "metadata": {},
   "source": [
    "__UCS-2__\n",
    "\n",
    "* állandó hosszúságú, 2 bájt\n",
    "* kevés hely: kb 65 ezer ($2^{16}$)\n",
    "* egy az egyben kódolja a BMP-t\n",
    "* szokás keverni a UTF-16-tal, de nem azonos vele (részhalmaz)"
   ]
  },
  {
   "cell_type": "markdown",
   "metadata": {},
   "source": [
    "__UTF-16__\n",
    "\n",
    "* változó hosszúságú, 2 vagy 4 bájt\n",
    "* 2 bájton egy az egyben kódolja a BMP-t\n",
    "* 4 bájton a Unicode többi részét ([hogyan?](https://en.wikipedia.org/wiki/UTF-16#Description))\n",
    "* nem minden bájtsorozat jólformált, az egy-, első- és második-bájtok mind különböznek"
   ]
  },
  {
   "cell_type": "markdown",
   "metadata": {},
   "source": [
    "__UTF-8__\n",
    "\n",
    "* változó hosszúságú, 1-4 bájt\n",
    "* 1 bájton egy az egyben kódolja a ASCII-t\n",
    "* 2-4 bájton a Unicode többi részét ([hogyan?](https://en.wikipedia.org/wiki/UTF-8#Description))\n",
    "* nem minden bájtsorozat jólformált, az egy-, kezdő- és folytató-bájtok mind különböznek"
   ]
  },
  {
   "cell_type": "markdown",
   "metadata": {},
   "source": [
    "<img src='https://upload.wikimedia.org/wikipedia/commons/c/c4/Utf8webgrowth.svg'>"
   ]
  },
  {
   "cell_type": "markdown",
   "metadata": {},
   "source": [
    "### 3. Tanulságok"
   ]
  },
  {
   "cell_type": "markdown",
   "metadata": {},
   "source": [
    "Nincsen _plain text_, kódolás nélkül."
   ]
  },
  {
   "cell_type": "markdown",
   "metadata": {},
   "source": [
    "HTML példa: Honnan tudja a böngésző, hogy dekódolja a HTML header-t?\n",
    "\n",
    "```html\n",
    "<head>\n",
    "    <meta http-equiv=\"Content-Type\" content=\"text/html; charset=UTF-8\" />\n",
    "</head>\n",
    "```"
   ]
  },
  {
   "cell_type": "markdown",
   "metadata": {},
   "source": [
    "\n",
    "\n",
    "Mi alapján lehet tippelni?"
   ]
  },
  {
   "cell_type": "markdown",
   "metadata": {},
   "source": [
    "#### 3.1. Parancssor"
   ]
  },
  {
   "cell_type": "code",
   "execution_count": 31,
   "metadata": {},
   "outputs": [
    {
     "name": "stdout",
     "output_type": "stream",
     "text": [
      "hello.c: C source, ASCII text\n",
      "\n",
      "a.out: ELF 64-bit LSB shared object, x86-64, version 1 (SYSV), dynamically linked, interpreter /lib64/ld-linux-x86-64.so.2, for GNU/Linux 3.2.0, BuildID[sha1]=7750ec600447355c1bd505fbac9fbe69c06c72d4, not stripped\n"
     ]
    }
   ],
   "source": [
    "%%bash\n",
    "\n",
    "file hello.c\n",
    "echo\n",
    "file a.out"
   ]
  },
  {
   "cell_type": "code",
   "execution_count": 32,
   "metadata": {},
   "outputs": [
    {
     "name": "stdout",
     "output_type": "stream",
     "text": [
      "hello.c: text/x-c; charset=us-ascii\n",
      "\n",
      "a.out: application/x-sharedlib; charset=binary\n"
     ]
    }
   ],
   "source": [
    "%%bash\n",
    "# -i kapcsoló: MIME típus (Multipurpose Internet Mail Extensions)\n",
    "\n",
    "file -i hello.c\n",
    "echo\n",
    "file -i a.out"
   ]
  },
  {
   "cell_type": "code",
   "execution_count": 55,
   "metadata": {},
   "outputs": [
    {
     "name": "stdout",
     "output_type": "stream",
     "text": [
      "#include<stdio.h>\n",
      "\n",
      "int main()\n",
      "{\n",
      "    printf(\"Hello World\\n\");\n",
      "    return 0;\n",
      "}\n",
      "\n"
     ]
    }
   ],
   "source": [
    "%%bash\n",
    "# Miért működik?\n",
    "\n",
    "iconv -f utf-8 -t latin1 hello.c"
   ]
  },
  {
   "cell_type": "code",
   "execution_count": 33,
   "metadata": {},
   "outputs": [
    {
     "name": "stdout",
     "output_type": "stream",
     "text": [
      "�rv�zt"
     ]
    },
    {
     "name": "stderr",
     "output_type": "stream",
     "text": [
      "iconv: illegal input sequence at position 8\n"
     ]
    }
   ],
   "source": [
    "%%bash\n",
    "# Mi a baj?\n",
    "\n",
    "echo 'árvíztűrő' | iconv -f utf-8 -t latin1"
   ]
  },
  {
   "cell_type": "code",
   "execution_count": 60,
   "metadata": {},
   "outputs": [
    {
     "name": "stdout",
     "output_type": "stream",
     "text": [
      "�rv�zt�r�\n",
      "�rv�zt�r�\n",
      "�\n"
     ]
    }
   ],
   "source": [
    "%%bash\n",
    "# Mi a jó?\n",
    "# Mi a baj?\n",
    "\n",
    "echo 'árvíztûrõ' | iconv -f utf-8 -t latin1\n",
    "echo 'árvíztűrő' | iconv -f utf-8 -t latin2\n",
    "echo '�' # U+FFFD REPLACEMENT CHARACTER"
   ]
  },
  {
   "cell_type": "code",
   "execution_count": 61,
   "metadata": {},
   "outputs": [
    {
     "name": "stdout",
     "output_type": "stream",
     "text": [
      "latin2.txt: ISO-8859 text\n",
      "\n",
      "latin2.txt: text/plain; charset=iso-8859-1\n"
     ]
    }
   ],
   "source": [
    "%%bash\n",
    "# A tippelés korlátai.\n",
    "\n",
    "echo 'árvíztűrő' | iconv -f utf-8 -t iso-8859-2 >latin2.txt\n",
    "file latin2.txt\n",
    "echo\n",
    "file -i latin2.txt"
   ]
  },
  {
   "cell_type": "markdown",
   "metadata": {},
   "source": [
    "##### További hasznos parancsok, csomagok\n",
    "\n",
    "* `recode`: hasonló az `iconv`-hoz, konvertál különböző kódolások között\n",
    "* `ascii`: ASCII karakterekről infó, karaktertábla\n",
    "* [Unicode Utilities](http://billposer.org/Software/unidesc.html): Unicode karakterekről infók, több parancsot tartalmazó csomag\n",
    "* vim\n",
    "    * `:as[cii]`\n",
    "    * `ga`\n",
    "    * [vim-characterize](https://github.com/tpope/vim-characterize)"
   ]
  },
  {
   "cell_type": "markdown",
   "metadata": {},
   "source": [
    "### 4. Python"
   ]
  },
  {
   "cell_type": "markdown",
   "metadata": {},
   "source": [
    "### 5. Irodalom"
   ]
  },
  {
   "cell_type": "markdown",
   "metadata": {},
   "source": [
    "* [Character sets, encodings, and Unicode](http://www.gammon.com.au/unicode/)\n",
    "* [The Absolute Minimum Every Software Developer Absolutely, Positively Must Know About Unicode and Character Sets](https://www.joelonsoftware.com/2003/10/08/the-absolute-minimum-every-software-developer-absolutely-positively-must-know-about-unicode-and-character-sets-no-excuses/)\n",
    "* [Python: Unicode HOWTO](https://docs.python.org/3/howto/unicode.html)\n",
    "* [The Unicode® Standard: A Technical Introduction](http://www.unicode.org/standard/principles.html)\n",
    "* [Latest Version of the Unicode Standard](http://www.unicode.org/versions/latest/)"
   ]
  },
  {
   "cell_type": "markdown",
   "metadata": {},
   "source": [
    "***"
   ]
  },
  {
   "cell_type": "code",
   "execution_count": 72,
   "metadata": {},
   "outputs": [],
   "source": [
    "%%bash\n",
    "# takarítás\n",
    "\n",
    "rm -f hello.c\n",
    "rm -f a.out\n",
    "rm -f latin2.txt"
   ]
  }
 ],
 "metadata": {
  "kernelspec": {
   "display_name": "Python 3",
   "language": "python",
   "name": "python3"
  },
  "language_info": {
   "codemirror_mode": {
    "name": "ipython",
    "version": 3
   },
   "file_extension": ".py",
   "mimetype": "text/x-python",
   "name": "python",
   "nbconvert_exporter": "python",
   "pygments_lexer": "ipython3",
   "version": "3.6.4"
  }
 },
 "nbformat": 4,
 "nbformat_minor": 2
}
