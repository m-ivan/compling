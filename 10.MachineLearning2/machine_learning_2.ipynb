{
 "cells": [
  {
   "cell_type": "markdown",
   "metadata": {},
   "source": [
    "# 10. Gépi tanulás – gyakorlat"
   ]
  },
  {
   "cell_type": "markdown",
   "metadata": {},
   "source": [
    ">Számítógépes nyelvészet, 2018 tavasz\n",
    "\n",
    ">Simon Eszter, Mittelholcz Iván\n",
    "\n",
    ">MTA, Nyelvtudományi Intézet"
   ]
  },
  {
   "cell_type": "markdown",
   "metadata": {},
   "source": [
    "## 1. Scikit-learn"
   ]
  },
  {
   "cell_type": "markdown",
   "metadata": {},
   "source": [
    "TODO"
   ]
  },
  {
   "cell_type": "markdown",
   "metadata": {},
   "source": [
    "## 2. Huntag3"
   ]
  },
  {
   "cell_type": "markdown",
   "metadata": {},
   "source": [
    "### 2.1. Előkészületek"
   ]
  },
  {
   "cell_type": "markdown",
   "metadata": {},
   "source": [
    "* [HunTag3](https://github.com/ppke-nlpg/HunTag3) letöltése\n",
    "* kitömörítése"
   ]
  },
  {
   "cell_type": "code",
   "execution_count": null,
   "metadata": {},
   "outputs": [],
   "source": [
    "%%bash\n",
    "\n",
    "wget -q -c https://github.com/ppke-nlpg/HunTag3/archive/master.zip\n",
    "unzip -q -u master.zip"
   ]
  },
  {
   "cell_type": "markdown",
   "metadata": {},
   "source": [
    "### 2.2. Adatok"
   ]
  },
  {
   "cell_type": "markdown",
   "metadata": {},
   "source": [
    "Forrás: http://hlt.sztaki.hu/resources/hunnerwiki.html\n",
    "\n",
    "Oszlopok:\n",
    "\n",
    "1. **token**\n",
    "2. egyértelműsített morfológiai elemzés (KR kód)\n",
    "3. lemma\n",
    "4. **gold standard**"
   ]
  },
  {
   "cell_type": "code",
   "execution_count": null,
   "metadata": {
    "scrolled": true
   },
   "outputs": [],
   "source": [
    "!head -n 13 huwiki.ner.sample.train.tsv"
   ]
  },
  {
   "cell_type": "markdown",
   "metadata": {},
   "source": [
    "### 2.3. Features"
   ]
  },
  {
   "cell_type": "markdown",
   "metadata": {},
   "source": [
    "A *feature*-öket *on the fly* generáljuk a tanítás során rövid függvényekkel, melyek bemenetüket a TSV valamelyik oszlopából vehetik.\n",
    "\n",
    "Ezen függvények helye a *features.py* fájlban van. A HunTag3-mal jön egy alap *features.py*, ezt módosíthatjuk, vagy sajátot is írhatunk.\n",
    "\n",
    "Hogy milyen featur-öket akarunk használni, és melyik feature a TSV melyik oszlopát használja, azt az általunk írt konfigfájlban tudjuk megadni."
   ]
  },
  {
   "cell_type": "markdown",
   "metadata": {},
   "source": [
    "#### konfig"
   ]
  },
  {
   "cell_type": "markdown",
   "metadata": {},
   "source": [
    "A konfigurációs beállításokat [YAML](https://en.wikipedia.org/wiki/YAML) formátumban kell megadni.\n",
    "\n",
    "* *name*: a *most-informative-features* kimenetében ezen a néven jelenik meg a *feature*\n",
    "* *type*: lehet *token*, *sentence*, vagy *lex*, ezek a feature-ök függvényeinek is prefixei egyben\n",
    "* *actionName*: a függvény neve, *type* prefix nélkül\n",
    "    * *lex*: lexikai jegynél a lexikon elérési útját kell megadni\n",
    "* *fields*: TSV oszlop száma (0-ával kezdődik)"
   ]
  },
  {
   "cell_type": "code",
   "execution_count": null,
   "metadata": {},
   "outputs": [],
   "source": [
    "%%writefile HunTag3-master/myconf.yaml\n",
    "\n",
    "%YAML 1.1\n",
    "---\n",
    "default:\n",
    "  cutoff: 1  #  1 if not set\n",
    "  radius: 3  # -1 if not set\n",
    "\n",
    "features:\n",
    " - # szóalak\n",
    "    name: token\n",
    "    type: token\n",
    "    actionName: getToken\n",
    "    fields: 0\n",
    " - # morf elemzés\n",
    "    name: ana\n",
    "    type: token\n",
    "    actionName: getAna\n",
    "    fields: 1\n",
    " - # csupa nagybetű-e\n",
    "    name: isUpper\n",
    "    type: token\n",
    "    actionName: isUpper\n",
    "    fields: 0\n",
    "# - # org lista\n",
    "#    name: orglist\n",
    "#    type: lex\n",
    "#    actionName: hunner/lex_from_Eszter.Simon/org.fromtraincorpus.lex\n",
    "#    fields: 0\n",
    "# - # loc lista\n",
    "#    name: loclist\n",
    "#    type: lex\n",
    "#    actionName: hunner/lex_from_Eszter.Simon/loc.fromtraincorpus.lex\n",
    "#    fields: 0\n",
    "# - # misc lista\n",
    "#    name: misclist\n",
    "#    type: lex\n",
    "#    actionName: hunner/lex_from_Eszter.Simon/misc.fromtraincorpus.lex\n",
    "#    fields: 0\n",
    "# - # per lista\n",
    "#    name: perlist\n",
    "#    type: lex\n",
    "#    actionName: hunner/lex_from_Eszter.Simon/per.fromtraincorpus.lex\n",
    "#    fields: 0\n",
    "...\n",
    "\n"
   ]
  },
  {
   "cell_type": "markdown",
   "metadata": {},
   "source": [
    "#### features"
   ]
  },
  {
   "cell_type": "markdown",
   "metadata": {},
   "source": [
    "* egy feature-függvénynek listával kell visszatérnie\n",
    "* a *bool* típusú visszatérési értékeket konvertálni kell *int*-re"
   ]
  },
  {
   "cell_type": "code",
   "execution_count": null,
   "metadata": {},
   "outputs": [],
   "source": [
    "%%writefile HunTag3-master/features.py\n",
    "\n",
    "def token_isUpper(token, _=None):\n",
    "    return [int(token.isupper())]\n",
    "\n",
    "def token_getToken(token, _=None):\n",
    "    return [token]\n",
    "\n",
    "def token_getAna(ana, _=None):\n",
    "    return [ana]\n"
   ]
  },
  {
   "cell_type": "markdown",
   "metadata": {},
   "source": [
    "### 2.4. Tanítás"
   ]
  },
  {
   "cell_type": "markdown",
   "metadata": {},
   "source": [
    "#### megfigyelési modell"
   ]
  },
  {
   "cell_type": "code",
   "execution_count": null,
   "metadata": {},
   "outputs": [],
   "source": [
    "%%bash\n",
    "\n",
    "cd HunTag3-master/\n",
    "python3 huntag.py train -i ../huwiki.ner.sample.train.tsv -c myconf.yaml -m NER\n",
    "ls -l NER.model"
   ]
  },
  {
   "cell_type": "markdown",
   "metadata": {},
   "source": [
    "#### átmenet modell"
   ]
  },
  {
   "cell_type": "code",
   "execution_count": null,
   "metadata": {},
   "outputs": [],
   "source": [
    "%%bash\n",
    "\n",
    "cd HunTag3-master/\n",
    "python3 huntag.py transmodel-train -i ../huwiki.ner.sample.train.tsv -m NER"
   ]
  },
  {
   "cell_type": "markdown",
   "metadata": {},
   "source": [
    "### 2.5. Címkézés, tesztelés, kiértékelés"
   ]
  },
  {
   "cell_type": "markdown",
   "metadata": {},
   "source": [
    "### címkézés"
   ]
  },
  {
   "cell_type": "code",
   "execution_count": null,
   "metadata": {},
   "outputs": [],
   "source": [
    "%%bash\n",
    "\n",
    "cd HunTag3-master/\n",
    "python3 huntag.py tag -i ../huwiki.ner.sample.test.tsv -c myconf.yaml -m NER -o huwiki.ner.test.tagged.tsv"
   ]
  },
  {
   "cell_type": "markdown",
   "metadata": {},
   "source": [
    "#### kiértékelés"
   ]
  },
  {
   "cell_type": "code",
   "execution_count": null,
   "metadata": {},
   "outputs": [],
   "source": [
    "%%bash\n",
    "\n",
    "cd HunTag3-master/\n",
    "python3 utils/eval.py -c -i huwiki.ner.test.tagged.tsv"
   ]
  },
  {
   "cell_type": "markdown",
   "metadata": {},
   "source": [
    "### 2.6. Feladatok"
   ]
  },
  {
   "cell_type": "markdown",
   "metadata": {},
   "source": [
    "Implementáljatok pár új feature-t és értékeljétek ki ezekkel a ner-taggert.\n",
    "Az új feature-ök legyenek:\n",
    "\n",
    "* szófaj (része az elemzésnek a 2. oszlopban)\n",
    "* lemma (3. oszlop)\n",
    "* nagybetűvel kezdődik-e\n",
    "* van-e benne nagybetű"
   ]
  },
  {
   "cell_type": "markdown",
   "metadata": {},
   "source": [
    "#### konfig"
   ]
  },
  {
   "cell_type": "code",
   "execution_count": null,
   "metadata": {},
   "outputs": [],
   "source": [
    "%%writefile HunTag3-master/myconf.yaml\n",
    "\n",
    "%YAML 1.1\n",
    "---\n",
    "default:\n",
    "  cutoff: 1  #  1 if not set\n",
    "  radius: 3  # -1 if not set\n",
    "\n",
    "features:\n",
    " - # szóalak\n",
    "    name: token\n",
    "    type: token\n",
    "    actionName: getToken\n",
    "    fields: 0\n",
    " - # morf elemzés\n",
    "    name: ana\n",
    "    type: token\n",
    "    actionName: getAna\n",
    "    fields: 1\n",
    "# - # szófajkód\n",
    "#    name: pos\n",
    "#    type: ...\n",
    "#    actionName: getPos\n",
    "#    fields: ...\n",
    "#\n",
    "# - # lemma\n",
    "#    name: lem\n",
    "#    type: ...\n",
    "#    actionName: getLem\n",
    "#    fields: ...\n",
    " - # csupa nagybetű-e\n",
    "    name: isUpper\n",
    "    type: token\n",
    "    actionName: isUpper\n",
    "    fields: 0\n",
    "# - # nagybetűvel kezdődik-e\n",
    "#    name: isTitle\n",
    "#    type: ...\n",
    "#    actionName: isTitle\n",
    "#    fields: ...\n",
    "# - # van-e benne nagybetű\n",
    "#    name: hasUpper\n",
    "#    type: ...\n",
    "#    actionName: hasUpper\n",
    "#    fields: ...\n",
    "...\n",
    "\n"
   ]
  },
  {
   "cell_type": "markdown",
   "metadata": {},
   "source": [
    "#### features"
   ]
  },
  {
   "cell_type": "code",
   "execution_count": null,
   "metadata": {},
   "outputs": [],
   "source": [
    "%%writefile HunTag3-master/features.py\n",
    "\n",
    "\n",
    "def token_getToken(token, _=None):\n",
    "    return [token]\n",
    "\n",
    "def token_getAna(ana, _=None):\n",
    "    return [ana]\n",
    "\n",
    "#def token_getPos(ana, _=None):\n",
    "#    return ...\n",
    "\n",
    "#def token_getLem(lem, _=None):\n",
    "#    return ...\n",
    "\n",
    "def token_isUpper(token, _=None):\n",
    "    return [int(token.isupper())]\n",
    "\n",
    "#def token_isTitle(token, _=None):\n",
    "#    return ...\n",
    "\n",
    "#def token_hasUpper(token, _=None):\n",
    "#    return ...\n",
    "\n"
   ]
  },
  {
   "cell_type": "markdown",
   "metadata": {},
   "source": [
    "#### megfigyelési modell"
   ]
  },
  {
   "cell_type": "code",
   "execution_count": null,
   "metadata": {},
   "outputs": [],
   "source": [
    "%%bash\n",
    "\n",
    "cd HunTag3-master/\n",
    "python3 huntag.py train -i ../huwiki.ner.sample.train.tsv -c myconf.yaml -m NER\n",
    "ls -l NER.model"
   ]
  },
  {
   "cell_type": "markdown",
   "metadata": {},
   "source": [
    "#### átmenet modell"
   ]
  },
  {
   "cell_type": "code",
   "execution_count": null,
   "metadata": {},
   "outputs": [],
   "source": [
    "%%bash\n",
    "\n",
    "cd HunTag3-master/\n",
    "python3 huntag.py transmodel-train -i ../huwiki.ner.sample.train.tsv -m NER"
   ]
  },
  {
   "cell_type": "markdown",
   "metadata": {},
   "source": [
    "#### címkézés"
   ]
  },
  {
   "cell_type": "code",
   "execution_count": null,
   "metadata": {},
   "outputs": [],
   "source": [
    "%%bash\n",
    "\n",
    "cd HunTag3-master/\n",
    "python3 huntag.py tag -i ../huwiki.ner.sample.test.tsv -c myconf.yaml -m NER -o huwiki.ner.test.tagged.tsv"
   ]
  },
  {
   "cell_type": "markdown",
   "metadata": {},
   "source": [
    "#### kiértékelés"
   ]
  },
  {
   "cell_type": "code",
   "execution_count": null,
   "metadata": {},
   "outputs": [],
   "source": [
    "%%bash\n",
    "\n",
    "cd HunTag3-master/\n",
    "python3 utils/eval.py -c -i huwiki.ner.test.tagged.tsv"
   ]
  }
 ],
 "metadata": {
  "kernelspec": {
   "display_name": "Python 3",
   "language": "python",
   "name": "python3"
  },
  "language_info": {
   "codemirror_mode": {
    "name": "ipython",
    "version": 3
   },
   "file_extension": ".py",
   "mimetype": "text/x-python",
   "name": "python",
   "nbconvert_exporter": "python",
   "pygments_lexer": "ipython3",
   "version": "3.6.5"
  }
 },
 "nbformat": 4,
 "nbformat_minor": 2
}
