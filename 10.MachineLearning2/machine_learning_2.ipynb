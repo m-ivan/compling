{
 "cells": [
  {
   "cell_type": "markdown",
   "metadata": {},
   "source": [
    "# 10. Gépi tanulás 1. – HunTag3"
   ]
  },
  {
   "cell_type": "markdown",
   "metadata": {},
   "source": [
    ">Számítógépes nyelvészet, 2018 tavasz\n",
    "\n",
    ">Simon Eszter, Mittelholcz Iván\n",
    "\n",
    ">MTA, Nyelvtudományi Intézet"
   ]
  },
  {
   "cell_type": "markdown",
   "metadata": {},
   "source": [
    "## Előkészületek"
   ]
  },
  {
   "cell_type": "markdown",
   "metadata": {},
   "source": [
    "* [HunTag3](https://github.com/ppke-nlpg/HunTag3) letöltése\n",
    "* kitömörítése"
   ]
  },
  {
   "cell_type": "code",
   "execution_count": 8,
   "metadata": {},
   "outputs": [],
   "source": [
    "%%bash\n",
    "\n",
    "wget -q -c https://github.com/ppke-nlpg/HunTag3/archive/master.zip\n",
    "unzip -q -u master.zip"
   ]
  },
  {
   "cell_type": "markdown",
   "metadata": {},
   "source": [
    "## Adatok"
   ]
  },
  {
   "cell_type": "markdown",
   "metadata": {},
   "source": [
    "Forrás: http://hlt.sztaki.hu/resources/hunnerwiki.html\n",
    "\n",
    "Oszlopok:\n",
    "\n",
    "1. **token**\n",
    "2. egyértelműsített morfológiai elemzés (KR kód)\n",
    "3. lemma\n",
    "4. **gold standard**"
   ]
  },
  {
   "cell_type": "code",
   "execution_count": 102,
   "metadata": {
    "scrolled": true
   },
   "outputs": [
    {
     "name": "stdout",
     "output_type": "stream",
     "text": [
      "Legkorábbi\tADJ\tkorai\tO\r\n",
      "festményei\tNOUN<PLUR><POSS>\tfestmény\tO\r\n",
      "Grazban\tNOUN<CAS<INE>>\tgraz\tB-LOC\r\n",
      "(\tPUNCT\t(\tO\r\n",
      "1742-ből\tNOUN<CAS<ELA>>\t1742\tO\r\n",
      ")\tPUNCT\t)\tO\r\n",
      "és\tCONJ\tés\tO\r\n",
      "Szlovéniában\tNOUN<CAS<INE>>\tszlovénia\tB-LOC\r\n",
      "(\tPUNCT\t(\tO\r\n",
      "1744-45-ből\tNOUN<CAS<ELA>>\t1744-45\tO\r\n",
      ")\tPUNCT\t)\tO\r\n",
      "találhatók\tADJ<PLUR>\ttalálható\tO\r\n",
      ".\tPUNCT\t.\tO\r\n"
     ]
    }
   ],
   "source": [
    "!head -n 13 huwiki.ner.sample.train.tsv"
   ]
  },
  {
   "cell_type": "markdown",
   "metadata": {},
   "source": [
    "## Features"
   ]
  },
  {
   "cell_type": "markdown",
   "metadata": {},
   "source": [
    "A *feature*-öket *on the fly* generáljuk a tanítás során rövid függvényekkel, melyek bemenetüket a TSV valamelyik oszlopából vehetik.\n",
    "\n",
    "Ezen függvények helye a *features.py* fájlban van. A HunTag3-mal jön egy alap *features.py*, de sajátot is írhatunk.\n",
    "\n",
    "Hogy milyen featur-öket akarunk használni, és melyik feature a TSV melyik oszlopát használja, azt az általunk írt konfigfájlban tudjuk megadni. A konfigurációs beállításokat [YAML](https://en.wikipedia.org/wiki/YAML) formátumban kell megadni.\n",
    "\n",
    "* *name*: a *most-informative-features* kimenetében ezen a néven jelenik meg a *feature*\n",
    "* *type*: lehet token, sentence, vagy lexical, ezek a feature-ök függvényeinek is prefixei egyben\n",
    "* *actionName*: a függvény neve, *type* prefix nélkül\n",
    "* *fields*: TSV oszlop száma (0-ával kezdődik)"
   ]
  },
  {
   "cell_type": "markdown",
   "metadata": {},
   "source": [
    "**konfig**"
   ]
  },
  {
   "cell_type": "code",
   "execution_count": 136,
   "metadata": {},
   "outputs": [
    {
     "name": "stdout",
     "output_type": "stream",
     "text": [
      "Overwriting HunTag3-master/myconf.yaml\n"
     ]
    }
   ],
   "source": [
    "%%writefile HunTag3-master/myconf.yaml\n",
    "\n",
    "%YAML 1.1\n",
    "---\n",
    "default:\n",
    "  cutoff: 1  #  1 if not set\n",
    "  radius: 3  # -1 if not set\n",
    "\n",
    "features:\n",
    " - # szóalak\n",
    "    name: token\n",
    "    type: token\n",
    "    actionName: getToken\n",
    "    fields: 0\n",
    " - # morf elemzés\n",
    "    name: ana\n",
    "    type: token\n",
    "    actionName: getAna\n",
    "    fields: 1\n",
    " - # csupa nagybetű-e\n",
    "    name: isUpper\n",
    "    type: token\n",
    "    actionName: isUpper\n",
    "    fields: 0\n",
    "...\n",
    "\n"
   ]
  },
  {
   "cell_type": "markdown",
   "metadata": {},
   "source": [
    "**features**"
   ]
  },
  {
   "cell_type": "code",
   "execution_count": 128,
   "metadata": {},
   "outputs": [
    {
     "name": "stdout",
     "output_type": "stream",
     "text": [
      "Overwriting HunTag3-master/features.py\n"
     ]
    }
   ],
   "source": [
    "%%writefile HunTag3-master/features.py\n",
    "\n",
    "def token_isUpper(token, _=None):\n",
    "    return [int(token.isupper())]\n",
    "\n",
    "def token_getToken(token, _=None):\n",
    "    return [token]\n",
    "\n",
    "def token_getAna(ana, _=None):\n",
    "    return [ana]\n"
   ]
  },
  {
   "cell_type": "markdown",
   "metadata": {},
   "source": [
    "## Tanítás"
   ]
  },
  {
   "cell_type": "markdown",
   "metadata": {},
   "source": [
    "### megfigyelési modell"
   ]
  },
  {
   "cell_type": "code",
   "execution_count": 130,
   "metadata": {},
   "outputs": [
    {
     "name": "stdout",
     "output_type": "stream",
     "text": [
      "-rw-r--r-- 1 mittelholcz mittelholcz 1577355 ápr   24 17:02 NER.model\n"
     ]
    },
    {
     "name": "stderr",
     "output_type": "stream",
     "text": [
      "featurizing sentences...1000...1000...done!\n",
      "creating training problem...done!\n",
      "training with option(s) \"None\"...done\n",
      "saving model...done\n",
      "saving feature and label lists...done\n"
     ]
    }
   ],
   "source": [
    "%%bash\n",
    "\n",
    "cd HunTag3-master/\n",
    "python3 huntag.py train -i ../huwiki.ner.sample.train.tsv -c myconf.yaml -m NER\n",
    "ls -l NER.model"
   ]
  },
  {
   "cell_type": "markdown",
   "metadata": {},
   "source": [
    "### átmenet modell"
   ]
  },
  {
   "cell_type": "code",
   "execution_count": 131,
   "metadata": {},
   "outputs": [
    {
     "name": "stderr",
     "output_type": "stream",
     "text": [
      "lambda1: 0.07944765574823379\n",
      "lambda2: 0.7835260115606937\n",
      "lambda3: 0.1370263326910726\n"
     ]
    }
   ],
   "source": [
    "%%bash\n",
    "\n",
    "cd HunTag3-master/\n",
    "python3 huntag.py transmodel-train -i ../huwiki.ner.sample.train.tsv -m NER"
   ]
  },
  {
   "cell_type": "markdown",
   "metadata": {},
   "source": [
    "## Címkézés, tesztelés, kiértékelés"
   ]
  },
  {
   "cell_type": "markdown",
   "metadata": {},
   "source": [
    "### címkézés"
   ]
  },
  {
   "cell_type": "code",
   "execution_count": 132,
   "metadata": {},
   "outputs": [
    {
     "name": "stderr",
     "output_type": "stream",
     "text": [
      "loading transition model...done\n",
      "loading observation model...done\n",
      "500...done\n"
     ]
    }
   ],
   "source": [
    "%%bash\n",
    "\n",
    "cd HunTag3-master/\n",
    "python3 huntag.py tag -i ../huwiki.ner.sample.test.tsv -c myconf.yaml -m NER -o huwiki.ner.test.tagged.tsv"
   ]
  },
  {
   "cell_type": "markdown",
   "metadata": {},
   "source": [
    "### kiértékelés"
   ]
  },
  {
   "cell_type": "code",
   "execution_count": 133,
   "metadata": {},
   "outputs": [
    {
     "name": "stdout",
     "output_type": "stream",
     "text": [
      "processed 7232 tokens with 131 phrases;found: 17 phrases; correct: 8.\n",
      "accuracy:  96.96%; precision:  47.06%;recall:   6.11%; FB1:  10.81\n",
      "               LOC:precision:   0.00%;recall:   0.00%; FB1:   0.00\t0\n",
      "              MISC:precision:   0.00%;recall:   0.00%; FB1:   0.00\t0\n",
      "               ORG:precision:   0.00%;recall:   0.00%; FB1:   0.00\t0\n",
      "               PER:precision:  47.06%;recall:  26.67%; FB1:  34.04\t17\n"
     ]
    }
   ],
   "source": [
    "%%bash\n",
    "\n",
    "cd HunTag3-master/\n",
    "python3 utils/eval.py -c -i huwiki.ner.test.tagged.tsv"
   ]
  },
  {
   "cell_type": "code",
   "execution_count": 135,
   "metadata": {},
   "outputs": [
    {
     "name": "stderr",
     "output_type": "stream",
     "text": [
      "featurizing sentences...500...done!\n",
      "creating training problem...done!\n"
     ]
    }
   ],
   "source": [
    "%%bash\n",
    "\n",
    "cd HunTag3-master/\n",
    "python3 huntag.py most-informative-features -m NER -c myconf.yaml -i ../huwiki.ner.sample.test.tsv >NER.mostinf"
   ]
  },
  {
   "cell_type": "markdown",
   "metadata": {},
   "source": [
    "## Feladatok"
   ]
  },
  {
   "cell_type": "markdown",
   "metadata": {},
   "source": [
    "Implementáljatok pár új feature-t és értékeljétek ki ezekkel a ner-taggert.\n",
    "Az új feature-ök legyenek:\n",
    "\n",
    "* szófaj (része az elemzésnek a 2. oszlopban)\n",
    "* lemma (3. oszlop)\n",
    "* nagybetűvel kezdődik-e\n",
    "* van-e benne nagybetű"
   ]
  },
  {
   "cell_type": "markdown",
   "metadata": {},
   "source": [
    "**konfig**"
   ]
  },
  {
   "cell_type": "code",
   "execution_count": 143,
   "metadata": {},
   "outputs": [
    {
     "name": "stdout",
     "output_type": "stream",
     "text": [
      "Overwriting HunTag3-master/myconf.yaml\n"
     ]
    }
   ],
   "source": [
    "%%writefile HunTag3-master/myconf.yaml\n",
    "\n",
    "%YAML 1.1\n",
    "---\n",
    "default:\n",
    "  cutoff: 1  #  1 if not set\n",
    "  radius: 3  # -1 if not set\n",
    "\n",
    "features:\n",
    " - # szóalak\n",
    "    name: token\n",
    "    type: token\n",
    "    actionName: getToken\n",
    "    fields: 0\n",
    " - # morf elemzés\n",
    "    name: ana\n",
    "    type: token\n",
    "    actionName: getAna\n",
    "    fields: 1\n",
    "# - # szófajkód\n",
    "#    name: pos\n",
    "#    type: \n",
    "#    actionName: getPos\n",
    "#    fields: \n",
    "#\n",
    "# - # lemma\n",
    "#    name: lem\n",
    "#    type: \n",
    "#    actionName: getLem\n",
    "#    fields: \n",
    " - # csupa nagybetű-e\n",
    "    name: isUpper\n",
    "    type: token\n",
    "    actionName: isUpper\n",
    "    fields: 0\n",
    "# - # nagybetűvel kezdődik-e\n",
    "#    name: isTitle\n",
    "#    type: \n",
    "#    actionName: isTitle\n",
    "#    fields: \n",
    "# - # van-e benne nagybetű\n",
    "#    name: hasUpper\n",
    "#    type: \n",
    "#    actionName: hasUpper\n",
    "#    fields: \n",
    "...\n",
    "\n"
   ]
  },
  {
   "cell_type": "markdown",
   "metadata": {},
   "source": [
    "**features**"
   ]
  },
  {
   "cell_type": "code",
   "execution_count": 144,
   "metadata": {},
   "outputs": [
    {
     "name": "stdout",
     "output_type": "stream",
     "text": [
      "Overwriting HunTag3-master/features.py\n"
     ]
    }
   ],
   "source": [
    "%%writefile HunTag3-master/features.py\n",
    "\n",
    "\n",
    "def token_getToken(token, _=None):\n",
    "    return [token]\n",
    "\n",
    "def token_getAna(ana, _=None):\n",
    "    return [ana]\n",
    "\n",
    "#def token_getPos(ana, _=None):\n",
    "#    return [ana.split('<')[0]]\n",
    "\n",
    "#def token_getLem(lem, _=None):\n",
    "#    return [lem]\n",
    "\n",
    "def token_isUpper(token, _=None):\n",
    "    return [int(token.isupper())]\n",
    "\n",
    "#def token_isTitle(token, _=None):\n",
    "#    return [int(token.istitle())]\n",
    "\n",
    "#def token_hasUpper(token, _=None):\n",
    "#    return [int(token.lower() != token)]\n",
    "\n"
   ]
  },
  {
   "cell_type": "markdown",
   "metadata": {},
   "source": [
    "**megfigyelési modell**"
   ]
  },
  {
   "cell_type": "code",
   "execution_count": 145,
   "metadata": {},
   "outputs": [
    {
     "name": "stdout",
     "output_type": "stream",
     "text": [
      "-rw-r--r-- 1 mittelholcz mittelholcz 1577355 ápr   24 18:27 NER.model\n"
     ]
    },
    {
     "name": "stderr",
     "output_type": "stream",
     "text": [
      "featurizing sentences...1000...1000...done!\n",
      "creating training problem...done!\n",
      "training with option(s) \"None\"...done\n",
      "saving model...done\n",
      "saving feature and label lists...done\n"
     ]
    }
   ],
   "source": [
    "%%bash\n",
    "\n",
    "cd HunTag3-master/\n",
    "python3 huntag.py train -i ../huwiki.ner.sample.train.tsv -c myconf.yaml -m NER\n",
    "ls -l NER.model"
   ]
  },
  {
   "cell_type": "markdown",
   "metadata": {},
   "source": [
    "**átmenet modell**"
   ]
  },
  {
   "cell_type": "code",
   "execution_count": 146,
   "metadata": {},
   "outputs": [
    {
     "name": "stderr",
     "output_type": "stream",
     "text": [
      "lambda1: 0.07944765574823379\n",
      "lambda2: 0.7835260115606937\n",
      "lambda3: 0.1370263326910726\n"
     ]
    }
   ],
   "source": [
    "%%bash\n",
    "\n",
    "cd HunTag3-master/\n",
    "python3 huntag.py transmodel-train -i ../huwiki.ner.sample.train.tsv -m NER"
   ]
  },
  {
   "cell_type": "markdown",
   "metadata": {},
   "source": [
    "**címkézés**"
   ]
  },
  {
   "cell_type": "code",
   "execution_count": 147,
   "metadata": {},
   "outputs": [
    {
     "name": "stderr",
     "output_type": "stream",
     "text": [
      "loading transition model...done\n",
      "loading observation model...done\n",
      "500...done\n"
     ]
    }
   ],
   "source": [
    "%%bash\n",
    "\n",
    "cd HunTag3-master/\n",
    "python3 huntag.py tag -i ../huwiki.ner.sample.test.tsv -c myconf.yaml -m NER -o huwiki.ner.test.tagged.tsv"
   ]
  },
  {
   "cell_type": "markdown",
   "metadata": {},
   "source": [
    "**kiértékelés**"
   ]
  },
  {
   "cell_type": "code",
   "execution_count": 148,
   "metadata": {},
   "outputs": [
    {
     "name": "stdout",
     "output_type": "stream",
     "text": [
      "processed 7232 tokens with 131 phrases;found: 17 phrases; correct: 8.\n",
      "accuracy:  96.96%; precision:  47.06%;recall:   6.11%; FB1:  10.81\n",
      "               LOC:precision:   0.00%;recall:   0.00%; FB1:   0.00\t0\n",
      "              MISC:precision:   0.00%;recall:   0.00%; FB1:   0.00\t0\n",
      "               ORG:precision:   0.00%;recall:   0.00%; FB1:   0.00\t0\n",
      "               PER:precision:  47.06%;recall:  26.67%; FB1:  34.04\t17\n"
     ]
    }
   ],
   "source": [
    "%%bash\n",
    "\n",
    "cd HunTag3-master/\n",
    "python3 utils/eval.py -c -i huwiki.ner.test.tagged.tsv"
   ]
  }
 ],
 "metadata": {
  "kernelspec": {
   "display_name": "Python 3",
   "language": "python",
   "name": "python3"
  },
  "language_info": {
   "codemirror_mode": {
    "name": "ipython",
    "version": 3
   },
   "file_extension": ".py",
   "mimetype": "text/x-python",
   "name": "python",
   "nbconvert_exporter": "python",
   "pygments_lexer": "ipython3",
   "version": "3.6.3"
  }
 },
 "nbformat": 4,
 "nbformat_minor": 2
}
