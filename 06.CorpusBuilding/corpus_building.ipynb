{
 "cells": [
  {
   "cell_type": "markdown",
   "metadata": {},
   "source": [
    "# 6. Korpuszépítés"
   ]
  },
  {
   "cell_type": "markdown",
   "metadata": {},
   "source": [
    ">Számítógépes nyelvészet, 2018 tavasz\n",
    "\n",
    ">Simon Eszter, Mittelholcz Iván\n",
    "\n",
    ">MTA, Nyelvtudományi Intézet"
   ]
  },
  {
   "cell_type": "markdown",
   "metadata": {},
   "source": [
    "## Crawling és scraping"
   ]
  },
  {
   "cell_type": "markdown",
   "metadata": {},
   "source": [
    "robots.txt"
   ]
  },
  {
   "cell_type": "markdown",
   "metadata": {},
   "source": [
    "sitemap.xml"
   ]
  },
  {
   "cell_type": "markdown",
   "metadata": {},
   "source": [
    "`wget`: parancssoros letöltő program\n",
    "\n",
    "* `-m` vagy `--mirror`: teljes oldal (site) tükrözése, ez minden lapot (page) letölt\n",
    "* `-r` vagy `--recursive`: a megadott lapon található linkeket is letölti + az azokon találhatóakat is, sít.\n",
    "* `-l depth`: a rekuzív bejárás mélysége adható meg ezzel (default 5)\n",
    "* `-nd`: csak a fájlokat tölti le, nem hozza létre a könyvtárszerkezetet\n",
    "* `-P path/to/dir/`: célkönyvtár megadása\n",
    "* `-A acclist` ill. `-R rejlist`: elfogadandó és elutasítandó suffixek listája"
   ]
  },
  {
   "cell_type": "code",
   "execution_count": null,
   "metadata": {},
   "outputs": [],
   "source": [
    "%%bash\n",
    "\n",
    "#rm -rf guttenberg/\n",
    "#mkdir guttenberg\n",
    "#wget -r -l 2 -P guttenberg/ -nd -q -A \".txt\" http://www.gutenberg.org/ebooks/author/5845"
   ]
  }
 ],
 "metadata": {
  "kernelspec": {
   "display_name": "Python 3",
   "language": "python",
   "name": "python3"
  },
  "language_info": {
   "codemirror_mode": {
    "name": "ipython",
    "version": 3
   },
   "file_extension": ".py",
   "mimetype": "text/x-python",
   "name": "python",
   "nbconvert_exporter": "python",
   "pygments_lexer": "ipython3",
   "version": "3.6.4"
  }
 },
 "nbformat": 4,
 "nbformat_minor": 2
}
