{
 "cells": [
  {
   "cell_type": "markdown",
   "metadata": {},
   "source": [
    "# 6. Korpuszépítés"
   ]
  },
  {
   "cell_type": "markdown",
   "metadata": {},
   "source": [
    ">Számítógépes nyelvészet, 2018 tavasz\n",
    "\n",
    ">Simon Eszter, Mittelholcz Iván\n",
    "\n",
    ">MTA, Nyelvtudományi Intézet"
   ]
  },
  {
   "cell_type": "markdown",
   "metadata": {},
   "source": [
    "## Crawling és scraping"
   ]
  },
  {
   "cell_type": "markdown",
   "metadata": {},
   "source": [
    "**crawling**: Weboldalak letöltése, keresőrobotokkal, jelemzően indexelés céljából. Gyakran rekuzív, azaz a kezdő oldalon található linkeket \"követi\", sít."
   ]
  },
  {
   "cell_type": "markdown",
   "metadata": {},
   "source": [
    "**scraping**: Hasonló, de hangsúlyosabb az adatkinyerés, az oldalak és egyéb dokumentumok feldolgozása. Nem feltétlenül rekurzív, gyakran csak egy oldal a tárgya."
   ]
  },
  {
   "cell_type": "markdown",
   "metadata": {},
   "source": [
    "**sitemap.xml**: Az oldalon elérhető lapokat sorolja fel, robotok által feldolgozható formában (XML)."
   ]
  },
  {
   "cell_type": "markdown",
   "metadata": {},
   "source": [
    "**robots.txt**: Robotok számára tiltott ill. engedélyezett aloldalak részletezése. Figyelembevétele önkéntes, figyelembe nem vétele IP-cím letiltást eredményezhet. Sokszor tartalmazza sitemap.xml elérhetőségét is."
   ]
  },
  {
   "cell_type": "markdown",
   "metadata": {},
   "source": [
    "**Példák**\n",
    "\n",
    "* helyesiras.mta.hu\n",
    "    * http://helyesiras.mta.hu/robots.txt\n",
    "    * http://helyesiras.mta.hu/sitemap.xml\n",
    "* index.hu\n",
    "    * https://index.hu/robots.txt\n",
    "    * https://index.hu/sitemap/sitemapindex.xml"
   ]
  },
  {
   "cell_type": "markdown",
   "metadata": {},
   "source": [
    "## Wget"
   ]
  },
  {
   "cell_type": "markdown",
   "metadata": {},
   "source": [
    "Parancssoros letöltő program. \n",
    "\n",
    "Használat: `wget [OPTIONS] [URLS]`."
   ]
  },
  {
   "cell_type": "code",
   "execution_count": null,
   "metadata": {},
   "outputs": [],
   "source": [
    "%%bash\n",
    "\n",
    "wget -O nytud.html www.nytud.hu/index.html\n",
    "\n",
    "ls *.html"
   ]
  },
  {
   "cell_type": "markdown",
   "metadata": {},
   "source": [
    "Pár hasznos kapcsoló:\n",
    "\n",
    "* `-m` vagy `--mirror`: teljes (al)oldal (*site*) tükrözése könyvtárszerkezettel együtt, külső dolgok nélkül\n",
    "* `-r` vagy `--recursive`: a megadott lapon található linkeket is letölti és az azokon találhatóakat is, sít.\n",
    "    * `-l depth`: a rekuzív bejárás mélysége adható meg ezzel (default 5)\n",
    "    * `-H`: kívülre mutató linkeket is letölti\n",
    "* `-nd`: csak a fájlokat tölti le, nem hozza létre a könyvtárszerkezetet\n",
    "* `-P path/to/dir/`: célkönyvtár megadása\n",
    "* `-A acclist` ill. `-R rejlist`: elfogadandó és elutasítandó suffixek listája, pl. `-R \"*.png,*.jpg\"`\n",
    "* `--accept-regex urlregex` ill. `--reject-regex urlregex`: elfogadandó ill. elutasítandó fájlnevek mintái"
   ]
  },
  {
   "cell_type": "markdown",
   "metadata": {},
   "source": [
    "## BeautifulSoup"
   ]
  },
  {
   "cell_type": "markdown",
   "metadata": {},
   "source": [
    "A BeautifulSoup egy HTML és XML fájlok elemzésére, átalakítására szolgáló python csomag."
   ]
  },
  {
   "cell_type": "code",
   "execution_count": null,
   "metadata": {},
   "outputs": [],
   "source": [
    "from bs4 import BeautifulSoup as BS"
   ]
  },
  {
   "cell_type": "markdown",
   "metadata": {},
   "source": [
    "**Leveskészítés**"
   ]
  },
  {
   "cell_type": "code",
   "execution_count": null,
   "metadata": {},
   "outputs": [],
   "source": [
    "# stringből\n",
    "\n",
    "html = '''\n",
    "<html>\n",
    "    <head>\n",
    "        <title>BeautifulSoup példa</title>\n",
    "    </head>\n",
    "    <body>\n",
    "        <h1>A számítógépes nyelvészet örömei</h1>\n",
    "        <p>Lórum ipse természetesen kukodik nyesedik a csevézmény számára.\n",
    "        A kúra fakálásról felő matija szerint a szormányolt majháma 133\n",
    "        tatott retleni helyismeszet perál a hatlan lenzők bucnitására.</p>\n",
    "        <ul>\n",
    "            <li>A számítógépes nyelvészet jó.</li>\n",
    "            <li>A számítógépes nyelvészet szép.</li>\n",
    "        </ul>\n",
    "    </body>\n",
    "</html>\n",
    "'''\n",
    "\n",
    "soup = BS(html, 'html.parser')\n",
    "print(type(soup), '\\n\\n')\n",
    "print(soup.prettify())"
   ]
  },
  {
   "cell_type": "code",
   "execution_count": null,
   "metadata": {},
   "outputs": [],
   "source": [
    "# fájlból\n",
    "\n",
    "soup = BS(open('nytud.html', encoding='latin2'), 'html.parser')\n",
    "print(soup.prettify())"
   ]
  },
  {
   "cell_type": "markdown",
   "metadata": {},
   "source": [
    "**Tag-ek**"
   ]
  },
  {
   "cell_type": "code",
   "execution_count": null,
   "metadata": {},
   "outputs": [],
   "source": [
    "links = soup.find_all('a')\n",
    "for link in links[:10]:\n",
    "    print(link['href'])"
   ]
  },
  {
   "cell_type": "markdown",
   "metadata": {},
   "source": [
    "**Szöveg**"
   ]
  },
  {
   "cell_type": "code",
   "execution_count": null,
   "metadata": {},
   "outputs": [],
   "source": [
    "print(headers[0])\n",
    "print()\n",
    "print(headers[0].get_text())"
   ]
  },
  {
   "cell_type": "markdown",
   "metadata": {},
   "source": [
    "## Tika"
   ]
  },
  {
   "cell_type": "markdown",
   "metadata": {},
   "source": [
    "A Tika egy Java csomag, ami különböző fájlformátumok szöveges részeit tudja kezelni. Használható PDF, DOC, DOCX, HTML és más fájlokból szövegkinyerésre."
   ]
  },
  {
   "cell_type": "code",
   "execution_count": null,
   "metadata": {},
   "outputs": [],
   "source": [
    "%%bash\n",
    "\n",
    "# wget xenia.sote.hu/ftp/mirrors/www.apache.org/tika/tika-app-1.17.jar\n",
    "# cp /path/to/tika-app-1.17.jar .\n",
    "\n",
    "# java -jar tika-app-1.17.jar --help\n",
    "\n",
    "java -jar tika-app-1.17.jar -t proposal.pdf"
   ]
  },
  {
   "cell_type": "markdown",
   "metadata": {},
   "source": [
    "## Feladatok"
   ]
  },
  {
   "cell_type": "markdown",
   "metadata": {},
   "source": [
    "1. Töltsük le a http://clara.nytud.hu/~kk120/ oldal alatt található publikációkat html-ben.\n",
    "    1. A lábjegyzeteket tartalmazó számozott html fájlok nem kellenek (pl. *acs3.html*).\n",
    "2. BeautifulSoup segítségével az egyes html fájlokból nyerjük ki a bekezdéseik szövegét, mentsük ezeket txt-ként (azaz egy txt fájl tartalmazza egy html fájl összes bekezdését).\n",
    "3. Töltsük le a http://clara.nytud.hu/~kk120/ oldal alatt található pdf fájlokat.\n",
    "4. Írjunk python kódot, ami a Tika segítségével szöveges fájlokká alakítja ezeket.\n",
    "\n",
    "**Segítség**\n",
    "\n",
    "List comprehension: ha for ciklussal akarunk egy már meglévő listából egy másik listát készíteni így:\n",
    "\n",
    "```python\n",
    "l1 = [1, 2, 3]\n",
    "l2 = []\n",
    "for i in l1:\n",
    "    l2.append(i**2)\n",
    "# l2 = [1, 4, 9]\n",
    "```\n",
    "\n",
    "akkor lehet ezt is:\n",
    "\n",
    "```python\n",
    "l1 = [1, 2, 3]\n",
    "l2 = [x**2 for x in l1]\n",
    "# l2 = [1, 4, 9]\n",
    "```\n",
    "\n",
    "Egy könyvtár tartalmát egyszerűen beolvashatjuk a [*glob*](https://docs.python.org/3/library/glob.html) modul segítségével. Példa:\n",
    "\n",
    "```python\n",
    "import glob\n",
    "txts = glob.glob('*.txt')\n",
    "# ['a.txt', 'b.txt', 'c.txt']\n",
    "```\n",
    "\n",
    "Python-ból külső programot futtatni a [*subprocess*]() modul *run()* függvényével lehet. Példa:\n",
    "\n",
    "```python\n",
    "from subprocess import run, PIPE\n",
    "res = run(['ls', '-'], stdout=PIPE)\n",
    "# CompletedProcess ...\n",
    "res = res.stdout\n",
    "# b'a.txt\\nb.txt\\nc.txt\\n'\n",
    "```"
   ]
  },
  {
   "cell_type": "code",
   "execution_count": null,
   "metadata": {},
   "outputs": [],
   "source": [
    "%%bash\n",
    "# 1. feladat: html-ek letöltése\n",
    "\n",
    "rm -rf train && mkdir train\n",
    "wget -P train/ ... http://clara.nytud.hu/~kk120/\n",
    "ls train/*.html"
   ]
  },
  {
   "cell_type": "code",
   "execution_count": null,
   "metadata": {},
   "outputs": [],
   "source": [
    "%%bash\n",
    "# 1.A. feladat: számozatlan html-ek letöltése\n",
    "\n",
    "rm -rf train && mkdir train\n",
    "wget -P train/ ... http://clara.nytud.hu/~kk120/\n",
    "ls train/*.html"
   ]
  },
  {
   "cell_type": "code",
   "execution_count": null,
   "metadata": {},
   "outputs": [],
   "source": [
    "# 2. feladat: paragrafusok kinyerése és kiírása\n",
    "\n",
    "import glob\n",
    "from bs4 import BeautifulSoup as BS\n",
    "\n",
    "files = glob.glob('train/*.html')\n",
    "print(files)"
   ]
  },
  {
   "cell_type": "code",
   "execution_count": null,
   "metadata": {},
   "outputs": [],
   "source": [
    "# 2. feladat: folytatás...\n",
    "\n",
    "soups = [... for file in files]\n",
    "\n",
    "def get_paragraphs(soup):\n",
    "    res = ...\n",
    "    ...\n",
    "    return res\n",
    "\n",
    "[open(file+'.txt', 'w').write(get_paragraphs(soup)) for file, soup in soups]\n",
    "\n",
    "!ls train/*.txt"
   ]
  },
  {
   "cell_type": "code",
   "execution_count": null,
   "metadata": {},
   "outputs": [],
   "source": [
    "%%bash\n",
    "# 3. feladat: pdf-ek letöltése\n",
    "\n",
    "wget -P train/ ... http://clara.nytud.hu/~kk120/\n",
    "\n",
    "ls train/*.pdf"
   ]
  },
  {
   "cell_type": "code",
   "execution_count": null,
   "metadata": {},
   "outputs": [],
   "source": [
    "# 4. feladat: pdf-ek szöveggé alakítása\n",
    "\n",
    "from subprocess import run, PIPE\n",
    "\n",
    "files = glob.glob('train/*.pdf')[0:3]\n",
    "texts = [run(...) for x in files[0:3]]\n",
    "texts = [text.stdout for text in texts]\n",
    "\n",
    "print(texts[2])"
   ]
  },
  {
   "cell_type": "markdown",
   "metadata": {},
   "source": [
    "## Irodalom"
   ]
  },
  {
   "cell_type": "markdown",
   "metadata": {},
   "source": [
    "crawling:\n",
    "\n",
    "* [wget](https://www.gnu.org/software/wget/)\n",
    "* [curl](https://curl.haxx.se/)\n",
    "* [scrapy](https://scrapy.org/)\n",
    "\n",
    "boilerplate removal, extraction:\n",
    "\n",
    "* [BeautifulSoup](https://www.crummy.com/software/BeautifulSoup/bs4/doc/)\n",
    "* [jusText](https://github.com/miso-belica/jusText), [demo](https://nlp.fi.muni.cz/projects/justext/)\n",
    "* [pdftotext](https://en.wikipedia.org/wiki/Pdftotext)\n",
    "* [tika](https://tika.apache.org/)"
   ]
  }
 ],
 "metadata": {
  "kernelspec": {
   "display_name": "Python 3",
   "language": "python",
   "name": "python3"
  },
  "language_info": {
   "codemirror_mode": {
    "name": "ipython",
    "version": 3
   },
   "file_extension": ".py",
   "mimetype": "text/x-python",
   "name": "python",
   "nbconvert_exporter": "python",
   "pygments_lexer": "ipython3",
   "version": "3.6.4"
  }
 },
 "nbformat": 4,
 "nbformat_minor": 2
}
