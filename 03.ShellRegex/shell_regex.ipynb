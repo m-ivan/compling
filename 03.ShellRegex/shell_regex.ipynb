{
 "cells": [
  {
   "cell_type": "markdown",
   "metadata": {},
   "source": [
    "# 3. Shell és Regex"
   ]
  },
  {
   "cell_type": "markdown",
   "metadata": {},
   "source": [
    ">Számítógépes nyelvészet, 2018 tavasz\n",
    "\n",
    ">Simon Eszter, Mittelholcz Iván\n",
    "\n",
    ">MTA, Nyelvtudományi Intézet"
   ]
  },
  {
   "cell_type": "markdown",
   "metadata": {},
   "source": [
    "## Tartalom"
   ]
  },
  {
   "cell_type": "markdown",
   "metadata": {},
   "source": [
    "* [1. Shell](#1.-Shell)\n",
    "    * [1.1. Alapfogalmak](#1.1.-Alapfogalmak)\n",
    "    * [1.2. Történelem](#1.2.-Történelem)\n",
    "    * [1.3. Hogyan működik](#1.3.-Hogy-működik?)\n",
    "    * [1.4. Fájlkezelés](#1.4.-Fájlkezelés)\n",
    "    * [1.5. Tulajdonságok](#1.5.-Tulajdonságok)\n",
    "    * [1.6. Fontosabb parancsok](#1.6.-Fontosabb-parancsok)\n",
    "* [2. Regex](#2.-Regex)\n",
    "* [3. Irodalom](#3.-Irodalom)"
   ]
  },
  {
   "cell_type": "markdown",
   "metadata": {},
   "source": [
    "## 1. Shell"
   ]
  },
  {
   "cell_type": "markdown",
   "metadata": {},
   "source": [
    "### 1.1. Alapfogalmak"
   ]
  },
  {
   "cell_type": "markdown",
   "metadata": {},
   "source": [
    "Kernel (rendszermag): erőforrások kezelése, absztrakció\n",
    "\n",
    "* feladatütemezés (folyamatok hozzáférése a CPU-hoz)\n",
    "* memória (RAM) kezelés\n",
    "* fájlrendszer\n",
    "* I/O\n",
    "* stb."
   ]
  },
  {
   "cell_type": "markdown",
   "metadata": {},
   "source": [
    "Alkalmazások:\n",
    "\n",
    "* külön programok\n",
    "* a kernelen keresztül kommunikálnak másokkal"
   ]
  },
  {
   "cell_type": "markdown",
   "metadata": {},
   "source": [
    "Shell (rendszerhéj): karakteres felhasználói felület alkalmazások futtatására\n",
    "\n",
    "* maga is alkalmazás, több féle van, cserélhető\n",
    "    * mostanában Linux-ok többségén és OS X-en a [__bash__](https://www.gnu.org/software/bash/) az alapértelmezett\n",
    "* programozási nyelv (interpretált)"
   ]
  },
  {
   "cell_type": "code",
   "execution_count": 10,
   "metadata": {},
   "outputs": [
    {
     "name": "stdout",
     "output_type": "stream",
     "text": [
      "total 44\n",
      "drwxr-xr-x 5 mittelholcz mittelholcz  4096 febr  14 13:18 .\n",
      "drwxr-xr-x 6 mittelholcz mittelholcz  4096 febr   6 16:06 ..\n",
      "-rw-r--r-- 1 mittelholcz mittelholcz    33 febr  14 11:28 hello.sh\n",
      "drwxr-xr-x 2 mittelholcz mittelholcz  4096 febr   6 16:10 .ipynb_checkpoints\n",
      "-rw-r--r-- 1 mittelholcz mittelholcz 18550 febr  14 13:18 shell_regex.ipynb\n",
      "drwxr-xr-x 2 mittelholcz mittelholcz  4096 febr  14 11:28 train1\n",
      "drwxr-xr-x 2 mittelholcz mittelholcz  4096 febr  14 11:28 train2\n"
     ]
    }
   ],
   "source": [
    "%%bash\n",
    " ls -la"
   ]
  },
  {
   "cell_type": "markdown",
   "metadata": {},
   "source": [
    "### 1.2. Történelem"
   ]
  },
  {
   "cell_type": "markdown",
   "metadata": {},
   "source": [
    "* 1969: UNIX oprendszer. Kezdetben hozzávágják mindenkihez, aki gépet vesz, aztán rájönnek, hogy a szoftver is lehet üzlet $\\to$ zárt lesz.\n",
    "* 1983: GNU (GNU's Not Unix). UNIX-szerű, de nem tartalmaz UNIX-ból származó kódot. Open source. Kernel nincs (Hurd), minden más van (C fordító, debugger és library, shell, make, TeX, ablak kezelő, stb.).\n",
    "* 1991: Linux kernel.\n",
    "* Azóta:\n",
    "    * __GNU/Linux__. Linux kernel + GNU eszközök + mindenféle más. Röviden ezt nevezik Linux-nak.\n",
    "    * __UNIX-like__ vagy __\\*NIX__: olyan rendszerek, amik _hasonlóan néznek ki_, mint a UNIX (GNU/Linux, BSD, OS X, stb.)"
   ]
  },
  {
   "cell_type": "markdown",
   "metadata": {},
   "source": [
    "### 1.3. Hogy működik?"
   ]
  },
  {
   "cell_type": "markdown",
   "metadata": {},
   "source": [
    "**Keresési sorrend**\n",
    "\n",
    "* _alias_-ok között (`alias <név>='<utasítások>'`, pl. `alias ll='ls -l'`)\n",
    "* _builtin_-ek között (pl. `alias`, `type`, `echo`, bővebben l. [itt](https://www.gnu.org/software/bash/manual/html_node/Bash-Builtins.html))\n",
    "* *alkalmazás*ok között (pl. `ls`, `grep`, stb.)\n",
    "\n",
    "Mi számít külső alkalmazásnak? Ami a `$PATH` változóban felsorolt könyvtárakban van."
   ]
  },
  {
   "cell_type": "code",
   "execution_count": 11,
   "metadata": {},
   "outputs": [
    {
     "name": "stdout",
     "output_type": "stream",
     "text": [
      "/home/mittelholcz/bin:/usr/local/sbin:/usr/local/bin:/usr/sbin:/usr/bin:/sbin:/bin:/usr/games:/usr/local/games:/snap/bin:/usr/lib/jvm/java-8-oracle/bin:/usr/lib/jvm/java-8-oracle/db/bin:/usr/lib/jvm/java-8-oracle/jre/bin\n"
     ]
    }
   ],
   "source": [
    "%%bash\n",
    "\n",
    "echo $PATH"
   ]
  },
  {
   "cell_type": "markdown",
   "metadata": {},
   "source": [
    "**Változók**\n",
    "\n",
    "* minden string\n",
    "* a szóköz delimiter, utána új kifejezés kezdődik, ezért\n",
    "    * értékadásban az `=` körül nincs szóköz\n",
    "    * ha az érték szóközt tartalmaz, akkor idézőjel kell\n",
    "* duplaidézőjelnél van helyettesítés, szimplánál nincs\n",
    "* hivatkozás `$<változó>` vagy `${<változó>}` formában"
   ]
  },
  {
   "cell_type": "code",
   "execution_count": 59,
   "metadata": {},
   "outputs": [
    {
     "name": "stdout",
     "output_type": "stream",
     "text": [
      "alma\n",
      "alma barack\n",
      "$a citrom\n"
     ]
    }
   ],
   "source": [
    "%%bash\n",
    "\n",
    "# értékadás\n",
    "a=alma #barack\n",
    "b=\"$a barack\"\n",
    "c='$a citrom'\n",
    "\n",
    "# hivatkozás\n",
    "echo $a\n",
    "echo $b\n",
    "echo $c"
   ]
  },
  {
   "cell_type": "markdown",
   "metadata": {},
   "source": [
    "**Alkalmazás indítása**\n",
    "\n",
    "Ha külső parancsot kell végrehajtania, a shell\n",
    "\n",
    "1. létrehozza saját maga klónját (fork) -- gyerekfolyamat\n",
    "2. a forkban futtatja a kapott parancsot (exec).\n",
    "\n",
    "$\\to$ Semmilyen változás nem terjed visszafelé, minden csak a gyerekfolyamatokban érvényes (pl. PATH megváltoztatása, új alias, stb). Ez a shell szkriptekre is igaz: azok is új shell-ben futnak, nincs hatásuk az indíto shell-re."
   ]
  },
  {
   "cell_type": "code",
   "execution_count": 60,
   "metadata": {},
   "outputs": [
    {
     "name": "stdout",
     "output_type": "stream",
     "text": [
      "eredeti:\n",
      "uj: érték\n",
      "eredeti:\n"
     ]
    }
   ],
   "source": [
    "%%bash\n",
    "echo 'eredeti:' $valtozo\n",
    "bash\n",
    "valtozo='érték'\n",
    "echo 'uj:' $valtozo\n",
    "exit\n",
    "echo 'eredeti:' $valtozo"
   ]
  },
  {
   "cell_type": "markdown",
   "metadata": {},
   "source": [
    "**Gyakorlat**\n",
    "\n",
    "1. Írjunk Python shell-t!\n",
    "2. Írjunk shell-t!"
   ]
  },
  {
   "cell_type": "markdown",
   "metadata": {},
   "source": [
    "### 1.4. Fájlkezelés"
   ]
  },
  {
   "cell_type": "markdown",
   "metadata": {},
   "source": [
    "Alapvető parancsok\n",
    "\n",
    "* `ls`: könyvtár tartalmának listázása\n",
    "* `mkdir <könyvtár>`: könyvtár létrehozása\n",
    "* `rmdir <könyvtár>`: könyvtár törlése\n",
    "* `cp <honnan> <hova>`: fájl/könyvtár másolása\n",
    "* `mv <mit> <mire>`: fájl/könyvtár átnevezése/mozgatása \n",
    "* `rm <fájl>`: törlés\n",
    "* `pwd`: aktuális könyvtár\n",
    "\n",
    "Kiemelt könyvárak rövidítései:\n",
    "\n",
    "* `.`: jelenlegi könyvtár\n",
    "* `..`: szülő könyvtár\n",
    "* `/`: gyökér könyvtár\n",
    "\n",
    "A `..` segítségével lehet relatív elérési utat megadni visszafelé is."
   ]
  },
  {
   "cell_type": "markdown",
   "metadata": {},
   "source": [
    "### 1.5. Tulajdonságok"
   ]
  },
  {
   "cell_type": "markdown",
   "metadata": {},
   "source": [
    "**Programok indítása, paraméterezése**\n",
    "\n",
    "paraméterek:\n",
    "\n",
    "* opcionálisak vagy kötelezőek\n",
    "* rövidítettek vagy hosszúak (pl. `-a` vagy `--all`)\n",
    "* értéktelenek vagy értékesek esetleg opcionálisan értékesek (pl. `--color` vagy `--color=never`)."
   ]
  },
  {
   "cell_type": "code",
   "execution_count": 14,
   "metadata": {},
   "outputs": [
    {
     "name": "stdout",
     "output_type": "stream",
     "text": [
      "hello.sh\n",
      "shell_regex.ipynb\n",
      "train1\n",
      "train2\n",
      "\n",
      "total 44\n",
      "drwxr-xr-x 5 mittelholcz mittelholcz  4096 febr  14 13:26 .\n",
      "drwxr-xr-x 6 mittelholcz mittelholcz  4096 febr   6 16:06 ..\n",
      "-rw-r--r-- 1 mittelholcz mittelholcz    33 febr  14 11:28 hello.sh\n",
      "drwxr-xr-x 2 mittelholcz mittelholcz  4096 febr   6 16:10 .ipynb_checkpoints\n",
      "-rw-r--r-- 1 mittelholcz mittelholcz 19206 febr  14 13:26 shell_regex.ipynb\n",
      "drwxr-xr-x 2 mittelholcz mittelholcz  4096 febr  14 11:28 train1\n",
      "drwxr-xr-x 2 mittelholcz mittelholcz  4096 febr  14 11:28 train2\n",
      "\n",
      "total 44\n",
      "drwxr-xr-x 5 mittelholcz mittelholcz  4096 febr  14 13:26 .\n",
      "drwxr-xr-x 6 mittelholcz mittelholcz  4096 febr   6 16:06 ..\n",
      "-rw-r--r-- 1 mittelholcz mittelholcz    33 febr  14 11:28 hello.sh\n",
      "drwxr-xr-x 2 mittelholcz mittelholcz  4096 febr   6 16:10 .ipynb_checkpoints\n",
      "-rw-r--r-- 1 mittelholcz mittelholcz 19206 febr  14 13:26 shell_regex.ipynb\n",
      "drwxr-xr-x 2 mittelholcz mittelholcz  4096 febr  14 11:28 train1\n",
      "drwxr-xr-x 2 mittelholcz mittelholcz  4096 febr  14 11:28 train2\n",
      "\n",
      "total 44\n",
      "drwxr-xr-x 5 mittelholcz mittelholcz  4096 febr  14 13:26 \u001b[0m\u001b[01;34m.\u001b[0m\n",
      "drwxr-xr-x 6 mittelholcz mittelholcz  4096 febr   6 16:06 \u001b[01;34m..\u001b[0m\n",
      "-rw-r--r-- 1 mittelholcz mittelholcz    33 febr  14 11:28 hello.sh\n",
      "drwxr-xr-x 2 mittelholcz mittelholcz  4096 febr   6 16:10 \u001b[01;34m.ipynb_checkpoints\u001b[0m\n",
      "-rw-r--r-- 1 mittelholcz mittelholcz 19206 febr  14 13:26 shell_regex.ipynb\n",
      "drwxr-xr-x 2 mittelholcz mittelholcz  4096 febr  14 11:28 \u001b[01;34mtrain1\u001b[0m\n",
      "drwxr-xr-x 2 mittelholcz mittelholcz  4096 febr  14 11:28 \u001b[01;34mtrain2\u001b[0m\n"
     ]
    }
   ],
   "source": [
    "%%bash\n",
    "ls\n",
    "echo\n",
    "ls --all -l\n",
    "echo\n",
    "ls -la\n",
    "echo\n",
    "ls -la --color=always"
   ]
  },
  {
   "cell_type": "markdown",
   "metadata": {},
   "source": [
    "**Saját programok futtatása**\n",
    "\n",
    "* [shebang](https://en.wikipedia.org/wiki/Shebang_%28Unix%29)"
   ]
  },
  {
   "cell_type": "code",
   "execution_count": 15,
   "metadata": {},
   "outputs": [
    {
     "name": "stdout",
     "output_type": "stream",
     "text": [
      "#! /bin/bash\n",
      "echo 'Helló héj!'\n"
     ]
    }
   ],
   "source": [
    "%%bash\n",
    "cat hello.sh"
   ]
  },
  {
   "cell_type": "code",
   "execution_count": 16,
   "metadata": {},
   "outputs": [
    {
     "name": "stdout",
     "output_type": "stream",
     "text": [
      "Helló héj!\n"
     ]
    }
   ],
   "source": [
    "%%bash\n",
    "bash hello.sh"
   ]
  },
  {
   "cell_type": "code",
   "execution_count": 17,
   "metadata": {},
   "outputs": [
    {
     "name": "stderr",
     "output_type": "stream",
     "text": [
      "bash: line 1: ./hello.sh: Permission denied\n"
     ]
    }
   ],
   "source": [
    "%%bash\n",
    "./hello.sh"
   ]
  },
  {
   "cell_type": "markdown",
   "metadata": {},
   "source": [
    "**Jogosultságkezelés**\n",
    "\n",
    "Jogok:\n",
    "\n",
    "* olvasási (**r**)\n",
    "* írási (**w**)\n",
    "* végrehajtási (**x**)\n",
    "\n",
    "Felhasználók:\n",
    "\n",
    "* Tulajdonos (**u**)\n",
    "* Csoport (**g**)\n",
    "* Mások (**o**)\n",
    "\n",
    "Parancsok:\n",
    "\n",
    "* `chmod`: jogosultság megváltoztatása\n",
    "* `chown`: tulajdonos / csoport megváltoztatása"
   ]
  },
  {
   "cell_type": "code",
   "execution_count": 50,
   "metadata": {},
   "outputs": [
    {
     "name": "stdout",
     "output_type": "stream",
     "text": [
      "Helló héj!\n"
     ]
    }
   ],
   "source": [
    "%%bash\n",
    "chmod u+x hello.sh\n",
    "./hello.sh"
   ]
  },
  {
   "cell_type": "code",
   "execution_count": 51,
   "metadata": {},
   "outputs": [
    {
     "name": "stdout",
     "output_type": "stream",
     "text": [
      "Helló héj!\n"
     ]
    }
   ],
   "source": [
    "%%bash\n",
    "\n",
    "# futtatás máshonnan\n",
    "cd ..\n",
    "./03.ShellRegex/hello.sh\n",
    "cd  03.ShellRegex"
   ]
  },
  {
   "cell_type": "markdown",
   "metadata": {},
   "source": [
    "**Parancsbehelyettesítés**\n",
    "\n",
    "`` `<parancs>` `` vagy `$(<parancs>)` formában"
   ]
  },
  {
   "cell_type": "code",
   "execution_count": 52,
   "metadata": {},
   "outputs": [
    {
     "name": "stdout",
     "output_type": "stream",
     "text": [
      "Helló héj!\n"
     ]
    }
   ],
   "source": [
    "%%bash\n",
    "\n",
    "# futtatás abszolút elérési úttal\n",
    "/`pwd`/hello.sh"
   ]
  },
  {
   "cell_type": "markdown",
   "metadata": {},
   "source": [
    "**Wildcard-ok**"
   ]
  },
  {
   "cell_type": "markdown",
   "metadata": {},
   "source": [
    "* `?` egy tetszőleges karakter helyett álhat\n",
    "* `*` bárhány bármi helyett állhat\n",
    "* `[chars]`: a szögletes zárójelben megadott karakterek valamelyike helyett állhat, tartomány is használható (pl. `[A-Z]` egy nagybetűt helyettesíthet)"
   ]
  },
  {
   "cell_type": "code",
   "execution_count": 53,
   "metadata": {},
   "outputs": [
    {
     "name": "stdout",
     "output_type": "stream",
     "text": [
      "shell_regex.ipynb\n"
     ]
    }
   ],
   "source": [
    "%%bash\n",
    "ls ?hell*"
   ]
  },
  {
   "cell_type": "markdown",
   "metadata": {},
   "source": [
    "**Pipe**\n",
    "\n",
    "A`|` karakterrel lehet egy parancs kimenetét átadni a következő parancsnak bemenetként."
   ]
  },
  {
   "cell_type": "code",
   "execution_count": 54,
   "metadata": {},
   "outputs": [
    {
     "name": "stdout",
     "output_type": "stream",
     "text": [
      "      4       4      41\n"
     ]
    }
   ],
   "source": [
    "%%bash\n",
    "\n",
    "ls | wc"
   ]
  },
  {
   "cell_type": "markdown",
   "metadata": {},
   "source": [
    "**Átirányítás**\n",
    "\n",
    "Standard kommunikációs csatornak:\n",
    "\n",
    "* stdin\n",
    "* stdout\n",
    "* stderr\n",
    "\n",
    "Átirányítások:\n",
    "\n",
    "* `command <filename`: fájl $\\to$ stdin\n",
    "* `command >filename`: stdout $\\to$ fájl (felülír)\n",
    "* `command >>filename`: stdout $\\to$ fájl (appendál)\n",
    "* `command 2>filename`: stderr $\\to$ fájl\n",
    "\n",
    "Speciális fájl a `/dev/null`, ami minden adatot \"elnyel\". Pl. a `command 2>/dev/null` minden hibaüzenetet eltüntet, csak a \"rendes\" kimenet lesz olvasható."
   ]
  },
  {
   "cell_type": "code",
   "execution_count": 55,
   "metadata": {},
   "outputs": [
    {
     "name": "stdout",
     "output_type": "stream",
     "text": [
      "total 48\n",
      "drwxr-xr-x 5 mittelholcz mittelholcz  4096 febr  14 13:39 .\n",
      "drwxr-xr-x 6 mittelholcz mittelholcz  4096 febr   6 16:06 ..\n",
      "-rwxr--r-- 1 mittelholcz mittelholcz    33 febr  14 11:28 hello.sh\n",
      "drwxr-xr-x 2 mittelholcz mittelholcz  4096 febr   6 16:10 .ipynb_checkpoints\n",
      "-rw-r--r-- 1 mittelholcz mittelholcz     0 febr  14 13:39 list.txt\n",
      "-rw-r--r-- 1 mittelholcz mittelholcz 23810 febr  14 13:38 shell_regex.ipynb\n",
      "drwxr-xr-x 2 mittelholcz mittelholcz  4096 febr  14 11:28 train1\n",
      "drwxr-xr-x 2 mittelholcz mittelholcz  4096 febr  14 11:28 train2\n",
      "Helló héj!\n",
      "\n"
     ]
    }
   ],
   "source": [
    "%%bash\n",
    "\n",
    "# stdout és stdin\n",
    "ls -la >list.txt\n",
    "cat <list.txt\n",
    "\n",
    "# stderr\n",
    "./hello.sh 2>err.txt\n",
    "echo\n",
    "cat err.txt"
   ]
  },
  {
   "cell_type": "markdown",
   "metadata": {},
   "source": [
    "**Visszatérési érték, elágazás**"
   ]
  },
  {
   "cell_type": "markdown",
   "metadata": {},
   "source": [
    "* 0: jó\n",
    "* nem 0: valamilyen hibakód"
   ]
  },
  {
   "cell_type": "code",
   "execution_count": 56,
   "metadata": {},
   "outputs": [
    {
     "name": "stdout",
     "output_type": "stream",
     "text": [
      "#! /bin/bash\n",
      "echo 'Helló héj!'\n",
      "0\n",
      "1\n"
     ]
    },
    {
     "name": "stderr",
     "output_type": "stream",
     "text": [
      "cat: nincsilyenfile: No such file or directory\n"
     ]
    }
   ],
   "source": [
    "%%bash\n",
    "\n",
    "cat hello.sh\n",
    "echo $?\n",
    "cat nincsilyenfile\n",
    "echo $?"
   ]
  },
  {
   "cell_type": "markdown",
   "metadata": {},
   "source": [
    "* `cmd1 && cmd2`: `cmd2` csak akkor fut le, ha `cmd1` rendben lefutott\n",
    "* `cmd1 || cmd2`: `cmd2` csak akkor fut le, ha `cmd1` elszállt\n",
    "* `cmd1 ; cmd2`: `cmd2` mindenképp lefut `cmd1` után"
   ]
  },
  {
   "cell_type": "code",
   "execution_count": 58,
   "metadata": {},
   "outputs": [
    {
     "name": "stdout",
     "output_type": "stream",
     "text": [
      "jól nem futott le\n",
      "jól nem futott le\n"
     ]
    },
    {
     "name": "stderr",
     "output_type": "stream",
     "text": [
      "bash: line 4: ./hello.sh: Permission denied\n",
      "bash: line 6: ./hello.sh: Permission denied\n"
     ]
    }
   ],
   "source": [
    "%%bash\n",
    "\n",
    "# elégazás (if-else) röviden\n",
    "\n",
    "./hello.sh && echo \"jól lefutott\" || echo \"jól nem futott le\"\n",
    "chmod u-x hello.sh\n",
    "./hello.sh && echo \"jól lefutott\" || echo \"jól nem futott le\""
   ]
  },
  {
   "cell_type": "markdown",
   "metadata": {},
   "source": [
    "### 1.6. Fontosabb parancsok"
   ]
  },
  {
   "cell_type": "markdown",
   "metadata": {},
   "source": [
    "**Infó**\n",
    "\n",
    "* `<command> -h` vagy `--help`: rövid használati utasítás\n",
    "* `man <command>`: ezzel lehet egy program manual-ját megnyitni\n"
   ]
  },
  {
   "cell_type": "markdown",
   "metadata": {},
   "source": [
    "**Szövegmegjelenítés, statisztika**\n",
    "\n",
    "* `echo <string>`: String stdout-ra írása.\n",
    "    * `-n`: nem ír újsor karaktert a végére\n",
    "    * `-e`: értelmezi a backslash-elt karaktereket (`\\n`, `\\t`, stb.)\n",
    "* `cat`: Fájlok konkatenálása és stdout-ra írása.\n",
    "* `head -n <num>`: Fájl vagy stdin első _n_ sorának megjelenítése (default 10).\n",
    "* `tail -n <num>`: Fájl vagy stdin utolsó _n_ sorának megjelenítése (default 10).\n",
    "* `less`: Fájl vagy stdin megnyitása olvasásra (a vim-hez hasonlóan, kersés előre a `/`, vissza a `?` karakterekkel lehetséges).\n",
    "* `wc`: Sorok, szavak és karakterek számolása.\n",
    "    * `-l`: sorok\n",
    "    * `-w`: szavak\n",
    "    * `-c`: karakterek "
   ]
  },
  {
   "cell_type": "markdown",
   "metadata": {},
   "source": [
    "**Stringmanipuláció**\n",
    "\n",
    "* `grep <kifejezés>`: Fájl vagy a stdin szűrése, a kifejezést tartalmazó sorokra.\n",
    "    * `-i`: ignore case\n",
    "    * `-v`: a nem illeszkedő sorokat engedi át\n",
    "    * `-r <könyvtár>`: rekurívan keres a könyvtár minden alkönyvtárjában\n",
    "* `tr \"<char1s>\" \"<char2s>\"`: A stdin-en lecseréli `char1`-eket `char2`-kre. Több karakter is megadható egyszerre, pl. a `tr \"ab\" \"xy\"` az *a*-kat *x*-ekre, a *b*-ket *y*-okra cseréli le.\n",
    "* `sed \"s/mit/mire/g\"`: Kifejezés keresése és cseréje fájlban vagy stdin-en.\n",
    "* `sort`: Rendezés.\n",
    "    * `-n`: numerikus a lexikális helyett (10 > 9)\n",
    "    * `-r`: fordított sorrend\n",
    "* `uniq`: Sorok egyelése. Csak az egymást követő azonos sorokat egyeli, ezért előtte szükséges lehet rendezni.\n",
    "    * `-c`: a sorok elé írja, hány darab volt belőlük\n",
    "* `cut`: Oszlopok szelektálása. Default: `TAB`-ok mentén.\n",
    "    * `-d\"<char>\"`: határoló karakter (pl. `-d\";\"`, `-d\" \"`)\n",
    "    * `-f<nums>`: oszlopszám (pl. `-f2`, `-f2,4`, `-f2-4`)"
   ]
  },
  {
   "cell_type": "markdown",
   "metadata": {},
   "source": [
    "### 1.7. Gyakorlatok"
   ]
  },
  {
   "cell_type": "markdown",
   "metadata": {},
   "source": [
    "ötletek\n",
    "\n",
    "* abba $\\to$ acdc\n",
    "* római számok\n",
    "* mohosagi csapdakat is ki kell talalni!\n",
    "* esetleg precedencia szabalyokat is lehet gyakoroltatni (csillag > concat > unio)\n",
    "* a nagy egymásra épülő gyakorlat sorozat: tokenizálás $\\to$ szógyakoriság $\\to$ stopwords-szűrés\n",
    "* redundancia, normalforma-hiany\n",
    "* megjelolt blokk + ref\n",
    "    * grep: szóismétlés szurese\n",
    "    * sed: szoismetelteto"
   ]
  },
  {
   "cell_type": "markdown",
   "metadata": {},
   "source": [
    "**1. stopwords**\n",
    "\n",
    "A `train/stopwordsX.txt` listákból készíts egy közös, minden szót egyszer tartalmazó, rendezett listát `stopwords-full.txt` néven."
   ]
  },
  {
   "cell_type": "markdown",
   "metadata": {},
   "source": [
    "**2. tokenizálás**\n",
    "\n",
    "A `train/kant.txt` fájl tokenizálása: egy sor = egy szó, punktuációkat kidobni, üres sorokat törölni. Elég a stdout-ra írni."
   ]
  },
  {
   "cell_type": "markdown",
   "metadata": {},
   "source": [
    "**3. szógyakoriság**\n",
    "\n",
    "A fenti tokenizálást átformálni szógyakorisági listává: egy sor egy szót és az ő gyakoriságát tartalmazza. Egy szó (type) csak egyszer forduljon elő. A lista gyakoriság szerint fordítottan legyen rendezve."
   ]
  },
  {
   "cell_type": "markdown",
   "metadata": {},
   "source": [
    "**4. stopwords lista alkalmazása**\n",
    "\n",
    "A szógyakorisági listát szűrjük a `stopwords-full.txt`-vel"
   ]
  },
  {
   "cell_type": "markdown",
   "metadata": {},
   "source": [
    "## 2. Regex"
   ]
  },
  {
   "cell_type": "markdown",
   "metadata": {},
   "source": [
    "Valami."
   ]
  },
  {
   "cell_type": "markdown",
   "metadata": {},
   "source": [
    "## 3. Irodalom"
   ]
  },
  {
   "cell_type": "markdown",
   "metadata": {},
   "source": [
    "Shell, Bash:\n",
    "\n",
    "* Software Carpentry: [The Unix Shell](http://swcarpentry.github.io/shell-novice/)\n",
    "* [Bash dokumentáció](https://www.gnu.org/software/bash/manual/)\n",
    "* [Advanced Bash-Scripting Guide](http://tldp.org/LDP/abs/html/index.html)\n",
    "\n",
    "Regex:\n",
    "\n",
    "* Jeffrey Friedl: *Mastering Regular Expressions.* O'Reilly, 2009. ([link](http://shop.oreilly.com/product/9780596528126.do))\n",
    "* [Python: Regular Expression HOWTO](https://docs.python.org/3.6/howto/regex.html)\n",
    "* [Python: a re modul dokumentációja](https://docs.python.org/3.6/library/re.html)"
   ]
  },
  {
   "cell_type": "markdown",
   "metadata": {},
   "source": [
    "***"
   ]
  },
  {
   "cell_type": "code",
   "execution_count": 61,
   "metadata": {},
   "outputs": [],
   "source": [
    "%%bash\n",
    "\n",
    "# takaritas\n",
    "rm -f *.txt"
   ]
  }
 ],
 "metadata": {
  "kernelspec": {
   "display_name": "Python 3",
   "language": "python",
   "name": "python3"
  },
  "language_info": {
   "codemirror_mode": {
    "name": "ipython",
    "version": 3
   },
   "file_extension": ".py",
   "mimetype": "text/x-python",
   "name": "python",
   "nbconvert_exporter": "python",
   "pygments_lexer": "ipython3",
   "version": "3.6.3"
  }
 },
 "nbformat": 4,
 "nbformat_minor": 2
}
