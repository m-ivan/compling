{
 "cells": [
  {
   "cell_type": "markdown",
   "metadata": {},
   "source": [
    "# 3. Shell és Regex"
   ]
  },
  {
   "cell_type": "markdown",
   "metadata": {},
   "source": [
    "Számítógépes nyelvészet, 2018 tavasz\n",
    "\n",
    "Simon Eszter, Mittelholcz Iván\n",
    "\n",
    "MTA, Nyelvtudományi Intézet"
   ]
  },
  {
   "cell_type": "markdown",
   "metadata": {},
   "source": [
    "## Tartalom"
   ]
  },
  {
   "cell_type": "markdown",
   "metadata": {},
   "source": [
    "* [1. Shell](#1.-Shell)\n",
    "    * [1.1. Alapfogalmak](#1.1.-Alapfogalmak)\n",
    "    * [1.2. Történelem](#1.2.-Történelem)\n",
    "    * [1.3. Tulajdonságok](#1.3.-Tulajdonságok)\n",
    "* [2. Regex](#2.-Regex)\n",
    "* [3. Irodalom](#3.-Irodalom)"
   ]
  },
  {
   "cell_type": "markdown",
   "metadata": {},
   "source": [
    "## 1. Shell"
   ]
  },
  {
   "cell_type": "markdown",
   "metadata": {},
   "source": [
    "### 1.1. Alapfogalmak"
   ]
  },
  {
   "cell_type": "markdown",
   "metadata": {},
   "source": [
    "Kernel (rendszermag): erőforrások kezelése, absztrakció\n",
    "\n",
    "* feladatütemezés (folyamatok hozzáférése a CPU-hoz)\n",
    "* memória (RAM) kezelés\n",
    "* fájlrendszer\n",
    "* I/O\n",
    "* stb."
   ]
  },
  {
   "cell_type": "markdown",
   "metadata": {},
   "source": [
    "Alkalmazások:\n",
    "\n",
    "* külön programok\n",
    "* a kernelen keresztül kommunikálnak másokkal"
   ]
  },
  {
   "cell_type": "markdown",
   "metadata": {},
   "source": [
    "Shell (rendszerhéj): karakteres felhasználói felület alkalmazások futtatására\n",
    "\n",
    "* maga is alkalmazás, több féle van, cserélhető\n",
    "    * mostanában Linux-ok többségén és OS X-en a [__bash__](https://www.gnu.org/software/bash/) az alapértelmezett\n",
    "* programozási nyelv (interpretált)"
   ]
  },
  {
   "cell_type": "code",
   "execution_count": null,
   "metadata": {},
   "outputs": [],
   "source": [
    "%%bash\n",
    " ls -la"
   ]
  },
  {
   "cell_type": "markdown",
   "metadata": {},
   "source": [
    "### 1.2. Történelem"
   ]
  },
  {
   "cell_type": "markdown",
   "metadata": {},
   "source": [
    "* 1969: UNIX oprendszer. Kezdetben hozzávágják mindenkihez, aki gépet vesz, aztán rájönnek, hogy a szoftver is lehet üzlet $\\to$ zárt lesz.\n",
    "* 1983: GNU (GNU's Not Unix). UNIX-szerű, de nem tartalmaz UNIX-ból származó kódot. Open source. Kernel nincs (Hurd), minden más van (C fordító, debugger és library, shell, make, TeX, ablak kezelő, stb.).\n",
    "* 1991: Linux kernel.\n",
    "* Azóta:\n",
    "    * __GNU/Linux__. Linux kernel + GNU eszközök + mindenféle más. Röviden ezt nevezik Linux-nak.\n",
    "    * __UNIX-like__ vagy __\\*NIX__: olyan rendszerek, amik _hasonlóan néznek ki_, mint a UNIX (GNU/Linux, BSD, OS X, stb.)"
   ]
  },
  {
   "cell_type": "markdown",
   "metadata": {},
   "source": [
    "### 1.3. Fájlkezelés"
   ]
  },
  {
   "cell_type": "markdown",
   "metadata": {},
   "source": [
    "* `ls`: könyvtár tartalmának listázása\n",
    "* `mkdir <könyvtár>`: könyvtár létrehozása\n",
    "* `rmdir <könyvtár>`: könyvtár törlése\n",
    "* `cp <honnan> <hova>`: fájl/könyvtár másolása\n",
    "* `mv <mit> <mire>`: fájl/könyvtár átnevezése/mozgatása \n",
    "* `rm <fájl>`: törlés"
   ]
  },
  {
   "cell_type": "markdown",
   "metadata": {},
   "source": [
    "### 1.4. Tulajdonságok"
   ]
  },
  {
   "cell_type": "markdown",
   "metadata": {},
   "source": [
    "Parancsok (programok) indítása, paraméterezése. A paraméterek lehetnek:\n",
    "* opcionálisak vagy kötelezőek\n",
    "* rövidítettek vagy hosszúak (pl. `-a` vagy `--all`)\n",
    "* értéktelenek vagy értékesek esetleg opcionálisan értékesek (pl. `--color` vagy `--color=never`)."
   ]
  },
  {
   "cell_type": "code",
   "execution_count": null,
   "metadata": {},
   "outputs": [],
   "source": [
    "%%bash\n",
    "ls\n",
    "echo\n",
    "ls --all -l\n",
    "echo\n",
    "ls -la\n",
    "echo\n",
    "ls -la --color=always"
   ]
  },
  {
   "cell_type": "markdown",
   "metadata": {},
   "source": [
    "Mi számít parancsnak? Környezeti változók, változóbehelyettesítés."
   ]
  },
  {
   "cell_type": "code",
   "execution_count": null,
   "metadata": {},
   "outputs": [],
   "source": [
    "%%bash\n",
    "echo $PATH"
   ]
  },
  {
   "cell_type": "markdown",
   "metadata": {},
   "source": [
    "Saját programok futtatása, jogosultságok, [shebang](https://en.wikipedia.org/wiki/Shebang_%28Unix%29)."
   ]
  },
  {
   "cell_type": "code",
   "execution_count": null,
   "metadata": {},
   "outputs": [],
   "source": [
    "%%bash\n",
    "cat hello.sh"
   ]
  },
  {
   "cell_type": "code",
   "execution_count": null,
   "metadata": {},
   "outputs": [],
   "source": [
    "%%bash\n",
    "bash hello.sh"
   ]
  },
  {
   "cell_type": "code",
   "execution_count": null,
   "metadata": {},
   "outputs": [],
   "source": [
    "%%bash\n",
    "./hello.sh"
   ]
  },
  {
   "cell_type": "code",
   "execution_count": null,
   "metadata": {},
   "outputs": [],
   "source": [
    "%%bash\n",
    "chmod u+x hello.sh\n",
    "./hello.sh"
   ]
  },
  {
   "cell_type": "code",
   "execution_count": null,
   "metadata": {},
   "outputs": [],
   "source": [
    "%%bash\n",
    "cd ..\n",
    "./03.ShellRegex/hello.sh"
   ]
  },
  {
   "cell_type": "markdown",
   "metadata": {},
   "source": [
    "Wildcard-ok használata fájlnevekben."
   ]
  },
  {
   "cell_type": "code",
   "execution_count": null,
   "metadata": {},
   "outputs": [],
   "source": [
    "%%bash\n",
    "ls ?hell*"
   ]
  },
  {
   "cell_type": "markdown",
   "metadata": {},
   "source": [
    "pipe"
   ]
  },
  {
   "cell_type": "markdown",
   "metadata": {},
   "source": [
    "átirányítás"
   ]
  },
  {
   "cell_type": "markdown",
   "metadata": {},
   "source": [
    "## 2. Regex"
   ]
  },
  {
   "cell_type": "markdown",
   "metadata": {},
   "source": [
    "Valami."
   ]
  },
  {
   "cell_type": "markdown",
   "metadata": {},
   "source": [
    "## 3. Irodalom"
   ]
  }
 ],
 "metadata": {
  "kernelspec": {
   "display_name": "Python 3",
   "language": "python",
   "name": "python3"
  },
  "language_info": {
   "codemirror_mode": {
    "name": "ipython",
    "version": 3
   },
   "file_extension": ".py",
   "mimetype": "text/x-python",
   "name": "python",
   "nbconvert_exporter": "python",
   "pygments_lexer": "ipython3",
   "version": "3.6.4"
  }
 },
 "nbformat": 4,
 "nbformat_minor": 2
}
