{
 "cells": [
  {
   "cell_type": "markdown",
   "metadata": {},
   "source": [
    "# 3. Shell és Regex"
   ]
  },
  {
   "cell_type": "markdown",
   "metadata": {},
   "source": [
    ">Számítógépes nyelvészet, 2018 tavasz\n",
    "\n",
    ">Simon Eszter, Mittelholcz Iván\n",
    "\n",
    ">MTA, Nyelvtudományi Intézet"
   ]
  },
  {
   "cell_type": "markdown",
   "metadata": {},
   "source": [
    "## Tartalom"
   ]
  },
  {
   "cell_type": "markdown",
   "metadata": {},
   "source": [
    "* [1. Shell](#1.-Shell)\n",
    "    * [1.1. Alapfogalmak](#1.1.-Alapfogalmak)\n",
    "    * [1.2. Történelem](#1.2.-Történelem)\n",
    "    * [1.3. Hogyan működik](#1.3.-Hogy-működik?)\n",
    "    * [1.4. Fájlkezelés](#1.4.-Fájlkezelés)\n",
    "    * [1.5. Tulajdonságok](#1.5.-Tulajdonságok)\n",
    "    * [1.6. Fontosabb parancsok](#1.6.-Fontosabb-parancsok)\n",
    "* [2. Regex](#2.-Regex)\n",
    "* [3. Irodalom](#3.-Irodalom)"
   ]
  },
  {
   "cell_type": "markdown",
   "metadata": {},
   "source": [
    "## 1. Shell"
   ]
  },
  {
   "cell_type": "markdown",
   "metadata": {},
   "source": [
    "### 1.1. Alapfogalmak"
   ]
  },
  {
   "cell_type": "markdown",
   "metadata": {},
   "source": [
    "Kernel (rendszermag): erőforrások kezelése, absztrakció\n",
    "\n",
    "* feladatütemezés (folyamatok hozzáférése a CPU-hoz)\n",
    "* memória (RAM) kezelés\n",
    "* fájlrendszer\n",
    "* I/O\n",
    "* stb."
   ]
  },
  {
   "cell_type": "markdown",
   "metadata": {},
   "source": [
    "Alkalmazások:\n",
    "\n",
    "* külön programok\n",
    "* a kernelen keresztül kommunikálnak másokkal"
   ]
  },
  {
   "cell_type": "markdown",
   "metadata": {},
   "source": [
    "Shell (rendszerhéj): karakteres felhasználói felület alkalmazások futtatására\n",
    "\n",
    "* maga is alkalmazás, több féle van, cserélhető\n",
    "    * mostanában Linux-ok többségén és OS X-en a [__bash__](https://www.gnu.org/software/bash/) az alapértelmezett\n",
    "* programozási nyelv (interpretált)"
   ]
  },
  {
   "cell_type": "code",
   "execution_count": null,
   "metadata": {},
   "outputs": [],
   "source": [
    "%%bash\n",
    " ls -la"
   ]
  },
  {
   "cell_type": "markdown",
   "metadata": {},
   "source": [
    "### 1.2. Történelem"
   ]
  },
  {
   "cell_type": "markdown",
   "metadata": {},
   "source": [
    "* 1969: UNIX oprendszer. Kezdetben hozzávágják mindenkihez, aki gépet vesz, aztán rájönnek, hogy a szoftver is lehet üzlet $\\to$ zárt lesz.\n",
    "* 1983: GNU (GNU's Not Unix). UNIX-szerű, de nem tartalmaz UNIX-ból származó kódot. Open source. Kernel nincs (Hurd), minden más van (C fordító, debugger és library, shell, make, TeX, ablak kezelő, stb.).\n",
    "* 1991: Linux kernel.\n",
    "* Azóta:\n",
    "    * __GNU/Linux__. Linux kernel + GNU eszközök + mindenféle más. Röviden ezt nevezik Linux-nak.\n",
    "    * __UNIX-like__ vagy __\\*NIX__: olyan rendszerek, amik _hasonlóan néznek ki_, mint a UNIX (GNU/Linux, BSD, OS X, stb.)"
   ]
  },
  {
   "cell_type": "markdown",
   "metadata": {},
   "source": [
    "### 1.3. Hogy működik?"
   ]
  },
  {
   "cell_type": "markdown",
   "metadata": {},
   "source": [
    "**Keresési sorrend**\n",
    "\n",
    "* _alias_-ok között (`alias <név>='<utasítások>'`, pl. `alias ll='ls -l'`)\n",
    "* _builtin_-ek között (pl. `alias`, `type`, `echo`, bővebben l. [itt](https://www.gnu.org/software/bash/manual/html_node/Bash-Builtins.html))\n",
    "* *alkalmazás*ok között (pl. `ls`, `grep`, stb.)\n",
    "\n",
    "Mi számít külső alkalmazásnak? Ami a `$PATH` változóban felsorolt könyvtárakban van."
   ]
  },
  {
   "cell_type": "code",
   "execution_count": null,
   "metadata": {},
   "outputs": [],
   "source": [
    "%%bash\n",
    "\n",
    "echo $PATH"
   ]
  },
  {
   "cell_type": "markdown",
   "metadata": {},
   "source": [
    "**Változók**\n",
    "\n",
    "* minden string\n",
    "* a szóköz delimiter, utána új kifejezés kezdődik, ezért\n",
    "    * értékadásban az `=` körül nincs szóköz\n",
    "    * ha az érték szóközt tartalmaz, akkor idézőjel kell\n",
    "* duplaidézőjelnél van helyettesítés, szimplánál nincs\n",
    "* hivatkozás `$<változó>` vagy `${<változó>}` formában"
   ]
  },
  {
   "cell_type": "code",
   "execution_count": null,
   "metadata": {},
   "outputs": [],
   "source": [
    "%%bash\n",
    "\n",
    "# értékadás\n",
    "a=alma #barack\n",
    "b=\"$a barack\"\n",
    "c='$a citrom'\n",
    "\n",
    "# hivatkozás\n",
    "echo $a\n",
    "echo $b\n",
    "echo $c"
   ]
  },
  {
   "cell_type": "markdown",
   "metadata": {},
   "source": [
    "**Alkalmazás indítása**\n",
    "\n",
    "Ha külső parancsot kell végrehajtania, a shell\n",
    "\n",
    "1. létrehozza saját maga klónját (fork) -- gyerekfolyamat\n",
    "2. a forkban futtatja a kapott parancsot (exec).\n",
    "\n",
    "$\\to$ Semmilyen változás nem terjed visszafelé, minden csak a gyerekfolyamatokban érvényes (pl. PATH megváltoztatása, új alias, stb). Ez a shell szkriptekre is igaz: azok is új shell-ben futnak, nincs hatásuk az indíto shell-re."
   ]
  },
  {
   "cell_type": "code",
   "execution_count": null,
   "metadata": {},
   "outputs": [],
   "source": [
    "%%bash\n",
    "echo 'eredeti:' $valtozo\n",
    "bash\n",
    "valtozo='érték'\n",
    "echo 'uj:' $valtozo\n",
    "exit\n",
    "echo 'eredeti:' $valtozo"
   ]
  },
  {
   "cell_type": "markdown",
   "metadata": {},
   "source": [
    "### 1.4. Fájlkezelés"
   ]
  },
  {
   "cell_type": "markdown",
   "metadata": {},
   "source": [
    "Alapvető parancsok\n",
    "\n",
    "* `ls`: könyvtár tartalmának listázása\n",
    "* `mkdir <könyvtár>`: könyvtár létrehozása\n",
    "* `rmdir <könyvtár>`: könyvtár törlése\n",
    "* `cp <honnan> <hova>`: fájl/könyvtár másolása\n",
    "* `mv <mit> <mire>`: fájl/könyvtár átnevezése/mozgatása \n",
    "* `rm <fájl>`: törlés\n",
    "* `pwd`: aktuális könyvtár\n",
    "\n",
    "Kiemelt könyvárak rövidítései:\n",
    "\n",
    "* `.`: jelenlegi könyvtár\n",
    "* `..`: szülő könyvtár\n",
    "* `/`: gyökér könyvtár\n",
    "\n",
    "A `..` segítségével lehet relatív elérési utat megadni visszafelé is."
   ]
  },
  {
   "cell_type": "markdown",
   "metadata": {},
   "source": [
    "### 1.5. Tulajdonságok"
   ]
  },
  {
   "cell_type": "markdown",
   "metadata": {},
   "source": [
    "**Programok indítása, paraméterezése**\n",
    "\n",
    "paraméterek:\n",
    "\n",
    "* opcionálisak vagy kötelezőek\n",
    "* rövidítettek vagy hosszúak (pl. `-a` vagy `--all`)\n",
    "* értéktelenek vagy értékesek esetleg opcionálisan értékesek (pl. `--color` vagy `--color=never`)."
   ]
  },
  {
   "cell_type": "code",
   "execution_count": null,
   "metadata": {},
   "outputs": [],
   "source": [
    "%%bash\n",
    "ls\n",
    "echo\n",
    "ls --all -l\n",
    "echo\n",
    "ls -la\n",
    "echo\n",
    "ls -la --color=always"
   ]
  },
  {
   "cell_type": "markdown",
   "metadata": {},
   "source": [
    "**Saját programok futtatása**\n",
    "\n",
    "* [shebang](https://en.wikipedia.org/wiki/Shebang_%28Unix%29)"
   ]
  },
  {
   "cell_type": "code",
   "execution_count": null,
   "metadata": {},
   "outputs": [],
   "source": [
    "%%bash\n",
    "cat hello.sh"
   ]
  },
  {
   "cell_type": "code",
   "execution_count": null,
   "metadata": {},
   "outputs": [],
   "source": [
    "%%bash\n",
    "bash hello.sh"
   ]
  },
  {
   "cell_type": "code",
   "execution_count": null,
   "metadata": {},
   "outputs": [],
   "source": [
    "%%bash\n",
    "./hello.sh"
   ]
  },
  {
   "cell_type": "markdown",
   "metadata": {},
   "source": [
    "**Jogosultságkezelés**\n",
    "\n",
    "Jogok:\n",
    "\n",
    "* olvasási (**r**)\n",
    "* írási (**w**)\n",
    "* végrehajtási (**x**)\n",
    "\n",
    "Felhasználók:\n",
    "\n",
    "* Tulajdonos (**u**)\n",
    "* Csoport (**g**)\n",
    "* Mások (**o**)\n",
    "\n",
    "Parancsok:\n",
    "\n",
    "* `chmod`: jogosultság megváltoztatása\n",
    "* `chown`: tulajdonos / csoport megváltoztatása"
   ]
  },
  {
   "cell_type": "code",
   "execution_count": null,
   "metadata": {},
   "outputs": [],
   "source": [
    "%%bash\n",
    "chmod u+x hello.sh\n",
    "./hello.sh\n",
    "chmod u-x hello.sh # visszaállítás"
   ]
  },
  {
   "cell_type": "code",
   "execution_count": null,
   "metadata": {},
   "outputs": [],
   "source": [
    "%%bash\n",
    "\n",
    "# futtatás máshonnan\n",
    "cd ..\n",
    "./03.ShellRegex/hello.sh\n",
    "cd  03.ShellRegex"
   ]
  },
  {
   "cell_type": "markdown",
   "metadata": {},
   "source": [
    "**Parancsbehelyettesítés**\n",
    "\n",
    "`` `<parancs>` `` vagy `$(<parancs>)` formában"
   ]
  },
  {
   "cell_type": "code",
   "execution_count": null,
   "metadata": {},
   "outputs": [],
   "source": [
    "%%bash\n",
    "\n",
    "# futtatás abszolút elérési úttal\n",
    "#pwd\n",
    "/`pwd`/hello.sh"
   ]
  },
  {
   "cell_type": "markdown",
   "metadata": {},
   "source": [
    "**Wildcard-ok**"
   ]
  },
  {
   "cell_type": "code",
   "execution_count": null,
   "metadata": {},
   "outputs": [],
   "source": [
    "%%bash\n",
    "ls ?hell*"
   ]
  },
  {
   "cell_type": "markdown",
   "metadata": {},
   "source": [
    "**Pipe**\n",
    "\n",
    "A`|` karakterrel lehet egy parancs kimenetét átadni a következő parancsnak bemenetként."
   ]
  },
  {
   "cell_type": "code",
   "execution_count": null,
   "metadata": {},
   "outputs": [],
   "source": [
    "%%bash\n",
    "\n",
    "ls -a | wc -l"
   ]
  },
  {
   "cell_type": "markdown",
   "metadata": {},
   "source": [
    "**Átirányítás**\n",
    "\n",
    "Standard kommunikációs csatornak:\n",
    "\n",
    "* stdin\n",
    "* stdout\n",
    "* stderr\n",
    "\n",
    "* `command <filename`: fájl $\\to$ stdin\n",
    "* `command >filename`: stdout $\\to$ fájl\n",
    "* `command 2>filename`: stderr $\\to$ fájl\n",
    "* `>>`: appendálás"
   ]
  },
  {
   "cell_type": "code",
   "execution_count": null,
   "metadata": {},
   "outputs": [],
   "source": [
    "%%bash\n",
    "\n",
    "# stdout és stdin\n",
    "ls -la >list.txt\n",
    "cat <list.txt\n",
    "\n",
    "# stderr\n",
    "./hello.sh 2>err.txt\n",
    "echo\n",
    "cat err.txt\n",
    "\n",
    "# takarítás\n",
    "rm *.txt"
   ]
  },
  {
   "cell_type": "markdown",
   "metadata": {},
   "source": [
    "**Visszatérési érték, elágazás**"
   ]
  },
  {
   "cell_type": "markdown",
   "metadata": {},
   "source": [
    "* 0: jó\n",
    "* nem 0: valamilyen hibakód"
   ]
  },
  {
   "cell_type": "code",
   "execution_count": null,
   "metadata": {},
   "outputs": [],
   "source": [
    "%%bash\n",
    "\n",
    "echo $?\n",
    "./hello.sh\n",
    "echo $?"
   ]
  },
  {
   "cell_type": "markdown",
   "metadata": {},
   "source": [
    "Elágazás röviden:\n",
    "\n",
    "```sh\n",
    "cmd1 && cmd2 || cmd3\n",
    "```"
   ]
  },
  {
   "cell_type": "code",
   "execution_count": null,
   "metadata": {},
   "outputs": [],
   "source": [
    "%%bash\n",
    "\n",
    "./hello.sh && echo \"jól lefutott\" || echo \"jól nem futott le\""
   ]
  },
  {
   "cell_type": "markdown",
   "metadata": {},
   "source": [
    "### 1.6. Fontosabb parancsok"
   ]
  },
  {
   "cell_type": "markdown",
   "metadata": {},
   "source": [
    "## 2. Regex"
   ]
  },
  {
   "cell_type": "markdown",
   "metadata": {},
   "source": [
    "Valami."
   ]
  },
  {
   "cell_type": "markdown",
   "metadata": {},
   "source": [
    "## 3. Irodalom"
   ]
  }
 ],
 "metadata": {
  "kernelspec": {
   "display_name": "Python 3",
   "language": "python",
   "name": "python3"
  },
  "language_info": {
   "codemirror_mode": {
    "name": "ipython",
    "version": 3
   },
   "file_extension": ".py",
   "mimetype": "text/x-python",
   "name": "python",
   "nbconvert_exporter": "python",
   "pygments_lexer": "ipython3",
   "version": "3.6.3"
  }
 },
 "nbformat": 4,
 "nbformat_minor": 2
}
