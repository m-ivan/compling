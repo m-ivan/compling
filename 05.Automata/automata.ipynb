{
 "cells": [
  {
   "cell_type": "markdown",
   "metadata": {},
   "source": [
    "# 5. Formális nyelvek és automaták"
   ]
  },
  {
   "cell_type": "markdown",
   "metadata": {},
   "source": [
    ">Számítógépes nyelvészet, 2018 tavasz\n",
    "\n",
    ">Simon Eszter, Mittelholcz Iván\n",
    "\n",
    ">MTA, Nyelvtudományi Intézet"
   ]
  },
  {
   "cell_type": "markdown",
   "metadata": {},
   "source": [
    "## 1. Automata kézzel"
   ]
  },
  {
   "cell_type": "code",
   "execution_count": null,
   "metadata": {},
   "outputs": [],
   "source": [
    "def fsa(transitions, start, accepts, text):\n",
    "    state = start\n",
    "    for char in text:\n",
    "        state = transitions[state].get(char)\n",
    "        if state == None:\n",
    "            return False\n",
    "    return state in accepts\n",
    "\n",
    "# állapotátmenetek\n",
    "d = {\n",
    "    0:{'b':1},\n",
    "    1:{'e':2},\n",
    "    2:{'e':3},\n",
    "    3:{'e':3, '!':4},\n",
    "    4:{}\n",
    "}\n",
    "\n",
    "\n",
    "tests = ['beee!', 'be!', 'beee!!', 'xxx']\n",
    "\n",
    "for test in tests:\n",
    "    print(\n",
    "        test,\n",
    "        fsa(d, 0, {4}, test),\n",
    "    sep='\\t')\n"
   ]
  },
  {
   "cell_type": "markdown",
   "metadata": {},
   "source": [
    "## 2. NLTK"
   ]
  },
  {
   "cell_type": "markdown",
   "metadata": {},
   "source": [
    "*NLTK*: Natural Language Toolkit, NLP eszközöket és erőforrások pythonos gyűjteménye. Elsősorban tanítási és prototípuskészítési célra."
   ]
  },
  {
   "cell_type": "markdown",
   "metadata": {},
   "source": [
    "Erőforrások kezelése"
   ]
  },
  {
   "cell_type": "code",
   "execution_count": null,
   "metadata": {},
   "outputs": [],
   "source": [
    "import nltk\n",
    "\n",
    "nltk.download();"
   ]
  },
  {
   "cell_type": "markdown",
   "metadata": {},
   "source": [
    "### 2.1. Elemzés RegexpTagger-rel"
   ]
  },
  {
   "cell_type": "code",
   "execution_count": null,
   "metadata": {},
   "outputs": [],
   "source": [
    "patterns = [\n",
    "    (r'.*k$', 'Pl'),\n",
    "    (r'.*t$', 'Acc'),\n",
    "    (r'.*', 'Nom')\n",
    "]\n",
    "\n",
    "from nltk import RegexpTagger\n",
    "\n",
    "re_tagger = RegexpTagger(patterns)\n",
    "s = ['kutya', 'kutyát', 'kutyák']\n",
    "\n",
    "# tsv-sítés\n",
    "for i in re_tagger.tag(s):\n",
    "    print(i[0], i[1], sep='\\t')"
   ]
  },
  {
   "cell_type": "markdown",
   "metadata": {},
   "source": [
    "### 2.2. Elemzés CFG nyelvtannal"
   ]
  },
  {
   "cell_type": "markdown",
   "metadata": {},
   "source": [
    "#### Nyelvtan megadása"
   ]
  },
  {
   "cell_type": "markdown",
   "metadata": {},
   "source": [
    "* Terminális: python-stringek\n",
    "* Nemterminális: idézőjel nélkül\n",
    "* Szabály: egy sor, `->` választja el a szabály két oldalát"
   ]
  },
  {
   "cell_type": "code",
   "execution_count": null,
   "metadata": {},
   "outputs": [],
   "source": [
    "%%bash\n",
    "cat np.cfg"
   ]
  },
  {
   "cell_type": "markdown",
   "metadata": {},
   "source": [
    "#### Nyelvtan tesztelése"
   ]
  },
  {
   "cell_type": "code",
   "execution_count": null,
   "metadata": {},
   "outputs": [],
   "source": [
    "from nltk.parse import TestGrammar\n",
    "\n",
    "test1 = {}\n",
    "test1['doc'] = 'határozatlan névelő'\n",
    "test1['accept'] = ['egy macska', 'egy kutya']\n",
    "test1['reject'] = ['macska egy']\n",
    "\n",
    "test2 = {}\n",
    "test2['doc'] = 'határozott névelő'\n",
    "test2['accept'] = ['a macska', 'a kutya']\n",
    "test2['reject'] = ['macska a']\n",
    "\n",
    "testsuite = [test1, test2]\n",
    "tester = TestGrammar('np.cfg', testsuite)\n",
    "tester.run()"
   ]
  },
  {
   "cell_type": "markdown",
   "metadata": {},
   "source": [
    "#### Környezetfüggetlen nyelvtan (CFG)"
   ]
  },
  {
   "cell_type": "code",
   "execution_count": null,
   "metadata": {},
   "outputs": [],
   "source": [
    "from nltk import CFG\n",
    "\n",
    "npgram = CFG.fromstring(open('np.cfg').read())"
   ]
  },
  {
   "cell_type": "markdown",
   "metadata": {},
   "source": [
    "#### Elemző létrehozása nyelvtanhoz"
   ]
  },
  {
   "cell_type": "markdown",
   "metadata": {},
   "source": [
    "Egy szöveg elemzésére sok több módszer van. Az NLTK is tartalmaz jópárat. Az egyik legegyszerűbb, *top-down* elemző a *Recursive Descent Parser*."
   ]
  },
  {
   "cell_type": "code",
   "execution_count": null,
   "metadata": {},
   "outputs": [],
   "source": [
    "from nltk.parse import RecursiveDescentParser\n",
    "\n",
    "rdp = RecursiveDescentParser(npgram)"
   ]
  },
  {
   "cell_type": "markdown",
   "metadata": {},
   "source": [
    "#### Elemzés"
   ]
  },
  {
   "cell_type": "code",
   "execution_count": null,
   "metadata": {},
   "outputs": [],
   "source": [
    "t1 = list(rdp.parse('a macska'.split()))\n",
    "t2 = list(rdp.parse('a egy'.split()))\n",
    "\n",
    "print(t1)\n",
    "print(t2)"
   ]
  },
  {
   "cell_type": "markdown",
   "metadata": {},
   "source": [
    "#### Fák"
   ]
  },
  {
   "cell_type": "code",
   "execution_count": null,
   "metadata": {},
   "outputs": [],
   "source": [
    "t = t1[0]"
   ]
  },
  {
   "cell_type": "code",
   "execution_count": null,
   "metadata": {},
   "outputs": [],
   "source": [
    "# típus\n",
    "print(type(t))"
   ]
  },
  {
   "cell_type": "code",
   "execution_count": null,
   "metadata": {},
   "outputs": [],
   "source": [
    "# ágrajz\n",
    "t.pretty_print()"
   ]
  },
  {
   "cell_type": "code",
   "execution_count": null,
   "metadata": {},
   "outputs": [],
   "source": [
    "# alfák\n",
    "for tree in list(t.subtrees()):\n",
    "    print(tree)"
   ]
  },
  {
   "cell_type": "code",
   "execution_count": null,
   "metadata": {},
   "outputs": [],
   "source": [
    "# levelek címkéi\n",
    "print(t.pos())"
   ]
  },
  {
   "cell_type": "code",
   "execution_count": null,
   "metadata": {},
   "outputs": [],
   "source": [
    "# tsv-sítés\n",
    "for i in t.pos():\n",
    "    print(i[0], i[1], sep='\\t')"
   ]
  },
  {
   "cell_type": "markdown",
   "metadata": {},
   "source": [
    "## 3. Irodalom"
   ]
  },
  {
   "cell_type": "markdown",
   "metadata": {},
   "source": [
    "* [NLTK book](http://www.nltk.org/book/)\n",
    "    * CFG: 8.4\n",
    "    * Tegger-ek: 5.4\n",
    "* [NLTK HOWTOs](http://www.nltk.org/howto/)\n",
    "    * [Parsing](http://www.nltk.org/howto/parse.html)"
   ]
  }
 ],
 "metadata": {
  "kernelspec": {
   "display_name": "Python 3",
   "language": "python",
   "name": "python3"
  },
  "language_info": {
   "codemirror_mode": {
    "name": "ipython",
    "version": 3
   },
   "file_extension": ".py",
   "mimetype": "text/x-python",
   "name": "python",
   "nbconvert_exporter": "python",
   "pygments_lexer": "ipython3",
   "version": "3.6.4"
  }
 },
 "nbformat": 4,
 "nbformat_minor": 2
}
