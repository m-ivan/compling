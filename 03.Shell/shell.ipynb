{
 "cells": [
  {
   "cell_type": "markdown",
   "metadata": {},
   "source": [
    "# 3. Shell"
   ]
  },
  {
   "cell_type": "markdown",
   "metadata": {},
   "source": [
    ">Számítógépes nyelvészet, 2018 tavasz\n",
    "\n",
    ">Simon Eszter, Mittelholcz Iván\n",
    "\n",
    ">MTA, Nyelvtudományi Intézet"
   ]
  },
  {
   "cell_type": "markdown",
   "metadata": {},
   "source": [
    "## Tartalom"
   ]
  },
  {
   "cell_type": "markdown",
   "metadata": {},
   "source": [
    "* [1. Alapfogalmak](#1.-Alapfogalmak)\n",
    "* [2. Történelem](#2.-Történelem)\n",
    "* [3. Hogyan működik](#3.-Hogy-működik?)\n",
    "* [4. Fájlkezelés](#4.-Fájlkezelés)\n",
    "* [5. Tulajdonságok](#5.-Tulajdonságok)\n",
    "* [6. Fontosabb parancsok](#6.-Fontosabb-parancsok)\n",
    "* [7. Irodalom](#7.-Irodalom)"
   ]
  },
  {
   "cell_type": "markdown",
   "metadata": {},
   "source": [
    "## 1. Alapfogalmak"
   ]
  },
  {
   "cell_type": "markdown",
   "metadata": {},
   "source": [
    "Kernel (rendszermag): erőforrások kezelése, absztrakció\n",
    "\n",
    "* feladatütemezés (folyamatok hozzáférése a CPU-hoz)\n",
    "* memória (RAM) kezelés\n",
    "* fájlrendszer\n",
    "* I/O\n",
    "* stb."
   ]
  },
  {
   "cell_type": "markdown",
   "metadata": {},
   "source": [
    "Alkalmazások:\n",
    "\n",
    "* külön programok\n",
    "* a kernelen keresztül férnek hozzá a gép erőforrásaihoz"
   ]
  },
  {
   "cell_type": "markdown",
   "metadata": {},
   "source": [
    "Shell (rendszerhéj): karakteres felhasználói felület alkalmazások futtatására\n",
    "\n",
    "* maga is alkalmazás, több féle van, cserélhető\n",
    "    * mostanában Linux-ok többségén és OS X-en a [__bash__](https://www.gnu.org/software/bash/) az alapértelmezett\n",
    "* programozási nyelv (interpretált)"
   ]
  },
  {
   "cell_type": "code",
   "execution_count": null,
   "metadata": {},
   "outputs": [],
   "source": [
    "%%bash\n",
    " ls -la"
   ]
  },
  {
   "cell_type": "markdown",
   "metadata": {},
   "source": [
    "## 2. Történelem"
   ]
  },
  {
   "cell_type": "markdown",
   "metadata": {},
   "source": [
    "* 1969: UNIX oprendszer. Kezdetben hozzávágják mindenkihez, aki gépet vesz, aztán rájönnek, hogy a szoftver is lehet üzlet $\\to$ zárt lesz.\n",
    "* 1983: GNU (GNU's Not Unix). UNIX-szerű, de nem tartalmaz UNIX-ból származó kódot (mindent újraimplementálnak nulláról). Open source. Kernel nincs (Hurd), minden más van (C fordító, debugger és library, shell, make, TeX, ablak kezelő, stb.).\n",
    "* 1991: Linux kernel.\n",
    "* Azóta:\n",
    "    * __GNU/Linux__. Linux kernel + GNU eszközök + mindenféle más. Röviden ezt nevezik Linux-nak.\n",
    "    * __UNIX-like__: olyan rendszerek, amik _hasonlóan néznek ki_, mint a UNIX (GNU/Linux, BSD, OS X, stb.)"
   ]
  },
  {
   "cell_type": "markdown",
   "metadata": {},
   "source": [
    "## 3. Hogy működik?"
   ]
  },
  {
   "cell_type": "markdown",
   "metadata": {},
   "source": [
    "**Keresési sorrend**\n",
    "\n",
    "* _alias_-ok között (`alias <név>='<utasítások>'`, pl. `alias ll='ls -l'`)\n",
    "* _builtin_-ek között (pl. `alias`, `echo`, bővebben l. [itt](https://www.gnu.org/software/bash/manual/html_node/Bash-Builtins.html))\n",
    "* *alkalmazás*ok között (pl. `ls`, `grep`, stb.)\n",
    "\n",
    "Mi számít külső alkalmazásnak? A `$PATH` változóban felsorolt könyvtárakban lévő futtatható fájlok."
   ]
  },
  {
   "cell_type": "code",
   "execution_count": null,
   "metadata": {},
   "outputs": [],
   "source": [
    "%%bash\n",
    "\n",
    "echo $PATH"
   ]
  },
  {
   "cell_type": "markdown",
   "metadata": {},
   "source": [
    "**Változók**\n",
    "\n",
    "* minden string\n",
    "* a szóköz delimiter, utána új kifejezés kezdődik, ezért\n",
    "    * értékadásban az `=` körül nincs szóköz\n",
    "    * ha az érték szóközt tartalmaz, akkor idézőjel kell\n",
    "* duplaidézőjelnél van helyettesítés, szimplánál nincs\n",
    "* hivatkozás `$<változó>` vagy `${<változó>}` formában"
   ]
  },
  {
   "cell_type": "code",
   "execution_count": null,
   "metadata": {},
   "outputs": [],
   "source": [
    "%%bash\n",
    "\n",
    "# értékadás\n",
    "a=alma #barack\n",
    "b=\"$a barack\"\n",
    "c='$a citrom'\n",
    "\n",
    "# hivatkozás\n",
    "echo $a\n",
    "echo $b\n",
    "echo $c"
   ]
  },
  {
   "cell_type": "markdown",
   "metadata": {},
   "source": [
    "**Alkalmazás indítása**\n",
    "\n",
    "Ha külső parancsot kell végrehajtania, a shell\n",
    "\n",
    "1. létrehozza saját maga klónját (fork) -- gyerekfolyamat\n",
    "2. a forkban futtatja a kapott parancsot (exec).\n",
    "\n",
    "$\\to$ Semmilyen változás nem terjed visszafelé, minden csak a gyerekfolyamatokban érvényes (pl. PATH megváltoztatása, új alias, stb). Ez a shell szkriptekre is igaz: azok is új shell-ben futnak, nincs hatásuk az indíto shell-re."
   ]
  },
  {
   "cell_type": "code",
   "execution_count": null,
   "metadata": {},
   "outputs": [],
   "source": [
    "%%bash\n",
    "echo 'eredeti:' \"'$var'\"\n",
    "bash\n",
    "var='alma'\n",
    "echo 'uj:' \"'$var'\"\n",
    "exit\n",
    "echo 'eredeti:' \"'$var'\""
   ]
  },
  {
   "cell_type": "markdown",
   "metadata": {},
   "source": [
    "**Gyakorlat**\n",
    "\n",
    "1. Írjunk Python shell-t!\n",
    "    * hint: `exec()`, l. [itt](https://docs.python.org/3/library/functions.html#exec)\n",
    "2. Írjunk shell-t!\n",
    "    * hint: `subprocess.run()`, l. [itt](https://docs.python.org/3/library/subprocess.html#using-the-subprocess-module)"
   ]
  },
  {
   "cell_type": "markdown",
   "metadata": {},
   "source": [
    "## 4. Fájlkezelés"
   ]
  },
  {
   "cell_type": "markdown",
   "metadata": {},
   "source": [
    "Alapvető parancsok\n",
    "\n",
    "* `ls`: könyvtár tartalmának listázása\n",
    "* `mkdir <könyvtár>`: könyvtár létrehozása\n",
    "* `rmdir <könyvtár>`: könyvtár törlése (csak üres könyvtárra)\n",
    "* `cp <honnan> <hova>`: fájl/könyvtár másolása\n",
    "* `mv <mit> <mire>`: fájl/könyvtár átnevezése/mozgatása \n",
    "* `rm <fájl>`: törlés\n",
    "* `pwd`: aktuális könyvtár\n",
    "* `cd`: aktuális könyvtár váltása (*change directory*)\n",
    "\n",
    "Kiemelt könyvárak rövidítései:\n",
    "\n",
    "* `.`: jelenlegi könyvtár\n",
    "* `..`: szülő könyvtár\n",
    "* `/`: gyökér könyvtár\n",
    "\n",
    "\n",
    "Egy fájlt / könyvtárat meg lehet adni abszolút és relatív módon is:\n",
    "* *abszolút*: a gyökértől\n",
    "* *relatív*: az aktuális könyvtártól"
   ]
  },
  {
   "cell_type": "markdown",
   "metadata": {},
   "source": [
    "## 5. Tulajdonságok"
   ]
  },
  {
   "cell_type": "markdown",
   "metadata": {},
   "source": [
    "**Programok indítása, paraméterezése**\n",
    "\n",
    "paraméterek:\n",
    "\n",
    "* opcionálisak vagy kötelezőek\n",
    "* rövidítettek vagy hosszúak (pl. `-a` vagy `--all`)\n",
    "* össze nem vontak vagy összevontak (pl. `-a -l` vagy `-al`) -- ez csak a rövidítettekre működik!\n",
    "* értéktelenek vagy értékesek esetleg opcionálisan értékesek (pl. az `ls --color` ugyan az, mint az `ls --color=always`, de nem ugyanaz, mint a `--color=never`)."
   ]
  },
  {
   "cell_type": "code",
   "execution_count": null,
   "metadata": {},
   "outputs": [],
   "source": [
    "%%bash\n",
    "ls\n",
    "echo\n",
    "ls --all -l\n",
    "echo\n",
    "ls -la\n",
    "echo\n",
    "ls -la --color=always"
   ]
  },
  {
   "cell_type": "markdown",
   "metadata": {},
   "source": [
    "**Saját programok futtatása**\n",
    "\n",
    "* [shebang](https://en.wikipedia.org/wiki/Shebang_%28Unix%29)"
   ]
  },
  {
   "cell_type": "code",
   "execution_count": null,
   "metadata": {},
   "outputs": [],
   "source": [
    "%%bash\n",
    "cat hello.sh"
   ]
  },
  {
   "cell_type": "code",
   "execution_count": null,
   "metadata": {},
   "outputs": [],
   "source": [
    "%%bash\n",
    "cat hello.py"
   ]
  },
  {
   "cell_type": "code",
   "execution_count": null,
   "metadata": {},
   "outputs": [],
   "source": [
    "%%bash\n",
    "bash hello.sh\n",
    "python3 hello.py"
   ]
  },
  {
   "cell_type": "code",
   "execution_count": null,
   "metadata": {},
   "outputs": [],
   "source": [
    "%%bash\n",
    "./hello.sh"
   ]
  },
  {
   "cell_type": "markdown",
   "metadata": {},
   "source": [
    "**Jogosultságkezelés**\n",
    "\n",
    "`chmod <felhasználó><művelet><jog>`: jogosultság megváltoztatása\n",
    "\n",
    "* Felhasználók:\n",
    "    * Tulajdonos (**u**)\n",
    "    * Csoport (**g**)\n",
    "    * Mások (**o**)\n",
    "* Műveletek:\n",
    "    * `+`: jog megadása\n",
    "    * `-`: jog elvétele\n",
    "* Jogok:\n",
    "    * olvasási (**r**)\n",
    "    * írási (**w**)\n",
    "    * végrehajtási (**x**)"
   ]
  },
  {
   "cell_type": "code",
   "execution_count": null,
   "metadata": {},
   "outputs": [],
   "source": [
    "%%bash\n",
    "chmod u+x hello.sh\n",
    "./hello.sh"
   ]
  },
  {
   "cell_type": "code",
   "execution_count": null,
   "metadata": {},
   "outputs": [],
   "source": [
    "%%bash\n",
    "\n",
    "# futtatás máshonnan\n",
    "pwd\n",
    "cd ..\n",
    "pwd\n",
    "./03.Shell/hello.sh\n",
    "cd -"
   ]
  },
  {
   "cell_type": "markdown",
   "metadata": {},
   "source": [
    "**Parancsbehelyettesítés**\n",
    "\n",
    "`` `<parancs>` `` vagy `$(<parancs>)` formában"
   ]
  },
  {
   "cell_type": "code",
   "execution_count": null,
   "metadata": {},
   "outputs": [],
   "source": [
    "%%bash\n",
    "\n",
    "# futtatás abszolút elérési úttal (nem kell '.'-tal kezdeni!)\n",
    "/`pwd`/hello.sh"
   ]
  },
  {
   "cell_type": "markdown",
   "metadata": {},
   "source": [
    "**Wildcard-ok**"
   ]
  },
  {
   "cell_type": "markdown",
   "metadata": {},
   "source": [
    "* `?` egy tetszőleges karakter helyett állhat\n",
    "* `*` bárhány bármi helyett állhat\n",
    "* `[chars]`: a szögletes zárójelben megadott karakterek valamelyike helyett állhat, tartomány is használható (pl. `[A-Z]` egy nagybetűt helyettesíthet)"
   ]
  },
  {
   "cell_type": "code",
   "execution_count": null,
   "metadata": {},
   "outputs": [],
   "source": [
    "%%bash\n",
    "ls train/*.txt"
   ]
  },
  {
   "cell_type": "markdown",
   "metadata": {},
   "source": [
    "**Pipe**\n",
    "\n",
    "A`|` karakterrel lehet egy parancs kimenetét átadni a következő parancsnak bemenetként."
   ]
  },
  {
   "cell_type": "code",
   "execution_count": null,
   "metadata": {},
   "outputs": [],
   "source": [
    "%%bash\n",
    "\n",
    "ls | wc"
   ]
  },
  {
   "cell_type": "markdown",
   "metadata": {},
   "source": [
    "**Átirányítás**\n",
    "\n",
    "Standard kommunikációs csatornak:\n",
    "\n",
    "* stdin\n",
    "* stdout\n",
    "* stderr\n",
    "\n",
    "Átirányítások:\n",
    "\n",
    "* `command <filename`: fájl $\\to$ stdin\n",
    "* `command >filename`: stdout $\\to$ fájl (felülír)\n",
    "* `command >>filename`: stdout $\\to$ fájl (appendál)\n",
    "* `command 2>filename`: stderr $\\to$ fájl\n",
    "\n",
    "Speciális fájl a `/dev/null`, ami minden adatot \"elnyel\". Pl. a `command 2>/dev/null` minden hibaüzenetet eltüntet, csak a \"rendes\" kimenet lesz olvasható."
   ]
  },
  {
   "cell_type": "code",
   "execution_count": null,
   "metadata": {},
   "outputs": [],
   "source": [
    "%%bash\n",
    "# stdout és stdin\n",
    "ls -la >list.txt\n",
    "cat <list.txt"
   ]
  },
  {
   "cell_type": "code",
   "execution_count": null,
   "metadata": {},
   "outputs": [],
   "source": [
    "%%bash\n",
    "# stderr\n",
    "ls nincsilyenkonyvtar/ 2>err.txt\n",
    "cat err.txt"
   ]
  },
  {
   "cell_type": "markdown",
   "metadata": {},
   "source": [
    "## 6. Fontosabb parancsok"
   ]
  },
  {
   "cell_type": "markdown",
   "metadata": {},
   "source": [
    "**Infó**\n",
    "\n",
    "* `<command> -h` vagy `--help`: rövid használati utasítás\n",
    "* `man <command>`: ezzel lehet egy program manual-ját megnyitni\n"
   ]
  },
  {
   "cell_type": "markdown",
   "metadata": {},
   "source": [
    "**Szövegmegjelenítés, statisztika**\n",
    "\n",
    "* `echo <string>`: String stdout-ra írása.\n",
    "    * `-n`: nem ír újsor karaktert a végére\n",
    "    * `-e`: értelmezi a backslash-elt karaktereket (`\\n`, `\\t`, stb.)\n",
    "* `cat`: Fájlok konkatenálása és stdout-ra írása.\n",
    "* `head -n <num>`: Fájl vagy stdin első _n_ sorának megjelenítése (default 10).\n",
    "* `tail -n <num>`: Fájl vagy stdin utolsó _n_ sorának megjelenítése (default 10).\n",
    "* `less`: Fájl vagy stdin megnyitása olvasásra (a vim-hez hasonlóan, kersés előre a `/`, vissza a `?` karakterekkel lehetséges).\n",
    "* `wc`: Sorok, szavak és karakterek számolása.\n",
    "    * `-l`: sorok\n",
    "    * `-w`: szavak\n",
    "    * `-c`: karakterek "
   ]
  },
  {
   "cell_type": "markdown",
   "metadata": {},
   "source": [
    "**Stringmanipuláció**\n",
    "\n",
    "* `grep <kifejezés>`: Fájl vagy a stdin szűrése, a kifejezést tartalmazó sorokra.\n",
    "    * `-i`: ignore case\n",
    "    * `-v`: fordított működés - a nem illeszkedő sorokat átengedi, az illeszkedőket kiszűri\n",
    "    * `-r <könyvtár>`: rekurívan keres a könyvtár minden alkönyvtárjában\n",
    "* `tr \"<char1>\" \"<char2>\"`: A stdin-en lecseréli `char1`-eket `char2` karakterekre. Több karakter is megadható egyszerre, pl. a `tr \"ab\" \"xy\"` az *a*-kat *x*-ekre, a *b*-ket *y*-okra cseréli le.\n",
    "* `sed \"s/mit/mire/g\"`: Kifejezés keresése és cseréje fájlban vagy stdin-en.\n",
    "* `sort`: Rendezés.\n",
    "    * `-n`: numerikus rendezés (a default lexikális helyett, pl. 10 > 9)\n",
    "    * `-r`: fordított sorrend\n",
    "* `uniq`: Sorok egyelése. Csak az egymást követő azonos sorokat egyeli, ezért előtte szükséges lehet rendezni.\n",
    "    * `-c`: a sorok elé írja, hány darab volt belőlük\n",
    "* `cut`: Oszlopok szelektálása. Default: `TAB`-ok mentén.\n",
    "    * `-d\"<char>\"`: határoló karakter (pl. `-d\";\"`, `-d\" \"`)\n",
    "    * `-f<nums>`: oszlopszám (pl. `-f2`, `-f2,4`, `-f2-4`)"
   ]
  },
  {
   "cell_type": "markdown",
   "metadata": {},
   "source": [
    "**Gyakorlatok**\n",
    "\n",
    "1. Melyik \"stopwords\" fájl tartalmazza a legtöbb szót (l. a `train/` könyvtárat)?\n",
    "2. A `train/stopwordsX.txt` listákból készítsünk egy közös, minden szót egyszer tartalmazó listát `train/stopwords-full.txt` néven.\n",
    "3. A fenti fájlból hány szónak részstringje a *meg*?\n",
    "4. Daraboljuk fel a PATH változót úgy, hogy minden könyvtár külön sorban legyen!\n",
    "5. A `train/ki_csinal_szodat.tsv` fájl egy e-magyar-os elemzéseket tartalmazó fájl. Az egyes elemzéseket `TAB` választja el egymástól. Listázzuk a határozószókat (\"Adv\") gyakoriságukkal együtt. (szó: 2. oszlop, szófaj: 7. oszlop)!"
   ]
  },
  {
   "cell_type": "markdown",
   "metadata": {},
   "source": [
    "## 7. Irodalom"
   ]
  },
  {
   "cell_type": "markdown",
   "metadata": {},
   "source": [
    "* Software Carpentry: [The Unix Shell](http://swcarpentry.github.io/shell-novice/)\n",
    "* [Bash dokumentáció](https://www.gnu.org/software/bash/manual/)\n",
    "* [Advanced Bash-Scripting Guide](http://tldp.org/LDP/abs/html/index.html)"
   ]
  },
  {
   "cell_type": "markdown",
   "metadata": {},
   "source": [
    "***"
   ]
  },
  {
   "cell_type": "code",
   "execution_count": null,
   "metadata": {},
   "outputs": [],
   "source": [
    "%%bash\n",
    "\n",
    "# takaritas\n",
    "rm -f *.txt"
   ]
  }
 ],
 "metadata": {
  "kernelspec": {
   "display_name": "Python 3",
   "language": "python",
   "name": "python3"
  },
  "language_info": {
   "codemirror_mode": {
    "name": "ipython",
    "version": 3
   },
   "file_extension": ".py",
   "mimetype": "text/x-python",
   "name": "python",
   "nbconvert_exporter": "python",
   "pygments_lexer": "ipython3",
   "version": "3.6.4"
  }
 },
 "nbformat": 4,
 "nbformat_minor": 2
}
