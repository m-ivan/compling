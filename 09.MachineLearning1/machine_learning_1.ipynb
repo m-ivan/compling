{
 "cells": [
  {
   "cell_type": "markdown",
   "metadata": {},
   "source": [
    "# 10. Gépi tanulás 1. – HunTag3"
   ]
  },
  {
   "cell_type": "markdown",
   "metadata": {},
   "source": [
    ">Számítógépes nyelvészet, 2018 tavasz\n",
    "\n",
    ">Simon Eszter, Mittelholcz Iván\n",
    "\n",
    ">MTA, Nyelvtudományi Intézet"
   ]
  },
  {
   "cell_type": "markdown",
   "metadata": {},
   "source": [
    "Előkészületek"
   ]
  },
  {
   "cell_type": "code",
   "execution_count": null,
   "metadata": {},
   "outputs": [],
   "source": [
    "%%bash\n",
    "\n",
    "# letöltés\n",
    "wget -q -c https://github.com/ppke-nlpg/HunTag3/archive/master.zip\n",
    "\n",
    "# kitömömrítés\n",
    "unzip -q -u master.zip\n",
    "\n",
    "# az eredeti features.py arciválása\n",
    "mv HunTag3-master/features.py HunTag3-master/features.py.bak"
   ]
  },
  {
   "cell_type": "code",
   "execution_count": 33,
   "metadata": {},
   "outputs": [
    {
     "name": "stdout",
     "output_type": "stream",
     "text": [
      "Overwriting HunTag3-master/features.py\n"
     ]
    }
   ],
   "source": [
    "%%writefile HunTag3-master/features.py\n",
    "\n",
    "def token_getForm(token, _=None):\n",
    "    return [token]"
   ]
  },
  {
   "cell_type": "code",
   "execution_count": 32,
   "metadata": {},
   "outputs": [
    {
     "name": "stdout",
     "output_type": "stream",
     "text": [
      "Overwriting myconf.yaml\n"
     ]
    }
   ],
   "source": [
    "%%writefile myconf.yaml\n",
    "\n",
    "%YAML 1.1\n",
    "---\n",
    "default:\n",
    "  cutoff: 1  #  1 if not set\n",
    "  radius: 3  # -1 if not set\n",
    "\n",
    "features:\n",
    " - # Checks for underscore (_) character in token\n",
    "    name: form\n",
    "    type: token\n",
    "    actionName: getForm\n",
    "    fields: 0\n",
    "...\n"
   ]
  },
  {
   "cell_type": "code",
   "execution_count": 37,
   "metadata": {},
   "outputs": [
    {
     "name": "stderr",
     "output_type": "stream",
     "text": [
      "featurizing sentences...167...done!\n",
      "creating training problem...done!\n",
      "training with option(s) \"None\"...done\n",
      "saving model...done\n",
      "saving feature and label lists...done\n"
     ]
    }
   ],
   "source": [
    "%%bash\n",
    "\n",
    "python3 HunTag3-master/huntag.py train -i huwiki.ner.sample.tsv -c myconf.yaml -m huwiki"
   ]
  }
 ],
 "metadata": {
  "kernelspec": {
   "display_name": "Python 3",
   "language": "python",
   "name": "python3"
  },
  "language_info": {
   "codemirror_mode": {
    "name": "ipython",
    "version": 3
   },
   "file_extension": ".py",
   "mimetype": "text/x-python",
   "name": "python",
   "nbconvert_exporter": "python",
   "pygments_lexer": "ipython3",
   "version": "3.6.3"
  }
 },
 "nbformat": 4,
 "nbformat_minor": 2
}
