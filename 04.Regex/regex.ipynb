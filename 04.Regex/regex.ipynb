{
 "cells": [
  {
   "cell_type": "markdown",
   "metadata": {},
   "source": [
    "# 4. Regex"
   ]
  },
  {
   "cell_type": "markdown",
   "metadata": {},
   "source": [
    ">Számítógépes nyelvészet, 2018 tavasz\n",
    "\n",
    ">Simon Eszter, Mittelholcz Iván\n",
    "\n",
    ">MTA, Nyelvtudományi Intézet"
   ]
  },
  {
   "cell_type": "markdown",
   "metadata": {},
   "source": [
    "## Tartalom"
   ]
  },
  {
   "cell_type": "markdown",
   "metadata": {},
   "source": [
    "* [1. Elmélet](#1.-Elmélet)\n",
    "* [2. Megvalósítás](#2.-Megvalósítás)\n",
    "    * [2.1. Szintaxis](#2.1.-Szintaxis)\n",
    "    * [2.2. Gyakorlatok](#2.2.-Gyakorlatok)\n",
    "* [3. Python](#3.-Python)\n",
    "    * [3.1. Fontosabb függvények](#3.1.-Fontosabb-függvények)\n",
    "    * [3.2. Mohóság](#3.2.-Mohóság)\n",
    "    * [3.3. lookahead és lookbehind](#3.3.-lookahead-és-lookbehind)\n",
    "    * [3.4. Gyakorlatok](#3.4.-Gyakorlatok)\n",
    "* [4. Irodalom](#4.-Irodalom)"
   ]
  },
  {
   "cell_type": "markdown",
   "metadata": {},
   "source": [
    "## 1. Elmélet"
   ]
  },
  {
   "cell_type": "markdown",
   "metadata": {},
   "source": [
    "$\\sum$ : az ábécé (karakterek nem üres, véges halmaza)\n",
    "\n",
    "$string$: $\\sum$ karaktereiből álló véges sorozat\n",
    "\n",
    "$\\varepsilon$: üres string\n",
    "\n",
    "$\\sum^\\ast$ : $\\sum$ feletti összes string halmaza ($\\sum$ Kleene-lezárása)\n",
    "\n",
    "$nyelv$: $\\sum^\\ast$ egy részhalmaza\n",
    "\n",
    "$reguláris\\ kifejezés$: Stringek egy halmazát határozza meg (egy *reguláris nyelvet*). Tartalmazhat literális karaktereket ill. az alábbi műveleti jeleket.\n",
    "\n",
    "Műveletek:\n",
    "\n",
    "* Konkatenáció: $R^1$ és $R^2$ reguláris kifejezés, ekkor $R^1R^2$ is regularis kifejezés és $R^1R^2 = \\{\\alpha\\beta \\ :\\ \\alpha \\in R^1\\ és\\ \\beta \\in R^2\\}$.\n",
    "* Unió: $R^1$ és $R^2$ reguláris kifejezés, ekkor $R^1\\mid R^2$ is regularis kifejezés és $R^1\\mid R^2 = \\{\\alpha\\ :\\ \\alpha \\in R^1\\ vagy\\ \\alpha \\in R^2\\}$.\n",
    "* Kleene csillag: $R$ reguláris kifejezés, ekkor $R^\\ast$ is regularis kifejezés és, mely tartalmazza az üres stringet ($\\varepsilon$) és $R$ elemeinek tetszőleges konkatenációját."
   ]
  },
  {
   "cell_type": "markdown",
   "metadata": {},
   "source": [
    "## 2. Megvalósítás"
   ]
  },
  {
   "cell_type": "markdown",
   "metadata": {},
   "source": [
    "Több szabványos \"nyelvjárás\" létezik (de ezeken túl az egyes programok is működhetnek különbözőképpen):\n",
    "* *basic* (BRE): kerek és kapcsos zárójelek eszképelve, nincs `+`, `?` és `|`\n",
    "* *extended* (ERE): ezt fogjuk tanulni\n",
    "* *perl-kompatibilis* (PCRE): lustaság és sok minden más (Python-ban is ilyesmi van)\n",
    "\n",
    "A *grep* és a *sed* alapból a BRE-t használják.\n",
    "* *sed -r* vagy *sed -E*: kiterjesztett regularis kifejezések (ERE)  használata\n",
    "* *grep -E* vagy *egrep*: kiterjesztett regularis kifejezések (ERE) használata\n",
    "* *grep -P*: PCRE használata"
   ]
  },
  {
   "cell_type": "markdown",
   "metadata": {},
   "source": [
    "### 2.1. Szintaxis"
   ]
  },
  {
   "cell_type": "markdown",
   "metadata": {},
   "source": [
    "Pozícióra (nulla karakterre) illesztés:\n",
    "\n",
    "* `^`: string / sor elejére illeszkedik\n",
    "* `$`: string / sor végére illeszkedik"
   ]
  },
  {
   "cell_type": "markdown",
   "metadata": {},
   "source": [
    "Egy karakterre illesztés:\n",
    "\n",
    "* `.`: bármilyen karakterre illeszkedik\n",
    "* különleges karakterre azt iszképelve lehet illeszteni, pl. `\\.` illeszkedik a *.*-ra.\n",
    "* `x`: literális karakter, saját magára illeszkedik\n",
    "* `[ ]`: a zárójelen belül felsorolt karakterek valamelyikére illeszkedik, pl. `[ab]` illeszkedik az `a` vagy a `b` karakterre, másra nem.\n",
    "    * Megadható tartomány is, pl `[a-z]` illeszkedik az ASCII kisbetűkre, `[0-9]` pedig a számjegyekre.\n",
    "    * Ha a kötőjelet is be akarjuk venni a felsorolt karakterek közé, akkor a felsorolás elejére vagy végére kell írni.\n",
    "    * Ha szögletes záró zárójelet akarunk a felsorolásba foglalni, akkor azt közvetlenül a nyitó után kell tenni.\n",
    "    * A szögletes zárójelen belül más karakterek elveszítik speciális jelentésüket, pl. `[.]` egy literális pontra illeszkedik, nem pedig bármire.\n",
    "* `[^ ]` illeszkedik a zárójelen belül fel nem sorolt karakterek valamelyikére. Megadható tartomány is, pl. [^A-Z0-9] illeszkedik minden karakterre, ami nem ASCII nagybetű és nem is számjegy."
   ]
  },
  {
   "cell_type": "markdown",
   "metadata": {},
   "source": [
    "Változó hosszúságú illesztések:\n",
    "\n",
    "* `|`: Alternáció, az előtte vagy az utána következő regex valamelyikére illeszkedik, pl. `abcd|xyz` illeszkedik *abcd*-re és *xyz*-re is.\n",
    "* `()`: A zárójelen belüli kifejezés megnevezett csoport lesz, amire később hivatkozni lehet. Általában egymásba ágyazhatók, de nem fedhetnek át. Pl `(a.(.a))` illeszkedik az *abba* stringre.\n",
    "* `\\n`: Hivatkozás egy csoportra. Pl. `(a.(.a)) \\2 \\1` illeszkedik az *abba ba abba* stringre.\n",
    "* `?`: nulla vagy egy az előző karakterből / csoportból\n",
    "* `*`: nulla vagy bármennyi az előző karakterből / csoportból\n",
    "* `+`: legalább egy az előző karakterből / csoportból\n",
    "* `{m,n}`: minimum *m*, maximum *n* darab az előző karakterből / csoportból.\n",
    "    * `{m,}` alakban csak a minimumot is megadhatjuk (a maximum ekkor bármennyi lehet, hasonlóan a `*`-hoz).\n",
    "    * `{,n}` alakban csak a maximumot is megadhatjuk (a minimum ekkor nulla, hasonlóan a `*`-hoz)"
   ]
  },
  {
   "cell_type": "markdown",
   "metadata": {},
   "source": [
    "Műveletek precedenciája\n",
    "\n",
    "  *csillag > konkatenáció > alternáció*"
   ]
  },
  {
   "cell_type": "markdown",
   "metadata": {},
   "source": [
    "POSIX karakterosztályok\n",
    "\n",
    "* `[:alpha:]`: betűk\n",
    "* `[:lower:]`: kisbetűk\n",
    "* `[:upper:]`: nagybetűk\n",
    "* `[:alnum:]`: betűk és számjegyek\n",
    "* `[:digit:]`: számjegyek\n",
    "* `[:blank:]`: space és TAB\n",
    "* `[:space:]`: whitespace-ek (`[ \\t\\r\\n\\v\\f]`)\n",
    "* `[:punct:]`: írásjelek (`[][!\"#$%&'()*+,./:;<=>?@\\^_`{|}~-]`)"
   ]
  },
  {
   "cell_type": "markdown",
   "metadata": {},
   "source": [
    "Egyéb karakterosztályok\n",
    "\n",
    "* `\\s`: whitespace karakterek\n",
    "* `\\S`: nem whitespace karakterek\n",
    "* `\\w`: szóalkotó karakterek (számjegyek, betűk és alulvonás)\n",
    "* `\\W`: nem szóalkotó karakterek"
   ]
  },
  {
   "cell_type": "markdown",
   "metadata": {},
   "source": [
    "Egy-egy reguláris nyelv általában sokféleképpen megadhatók regexekkel (pl. `a+` = `aa*`), nincs igazán jó egyszerűsítő / normálformára hozó algoritmus. $\\to$ Érdemes jól megírni a regexeket!"
   ]
  },
  {
   "cell_type": "markdown",
   "metadata": {},
   "source": [
    "### 2.2. Gyakorlatok"
   ]
  },
  {
   "cell_type": "markdown",
   "metadata": {},
   "source": [
    "* Hány szó kezdődik *a*-val a `train/stopwords.txt` listában?\n",
    "* Hány három betűs szó van a listában?\n",
    "* Írjunk *grep* parancsot, ami alkalmas egy szövegben található szóismétlések szűrésére!\n",
    "* Írjunk *sed* parancsot, ami a bemenetének minden szavát megismételteti! (pl. *Hát maga megbolondult?* $\\to$ *Hát Hát maga maga megbolondult megbolondult?*)\n",
    "* A nagy egymásra épülő gyakorlat sorozat:\n",
    "    1. Alakítsuk át a `train/kant.txt` szöveget: egy sor = egy szó, punktuációkat dobjuk ki, üres sorokat töröljük.\n",
    "    2. A kapott kimenetet alakítsuk tovább szógyakorisági listává: egy sor egy szót és az ő gyakoriságát tartalmazza. Egy szó (type) csak egyszer forduljon elő. A lista gyakoriság szerint fordítottan legyen rendezve.\n",
    "    3. A szógyakorisági listát szűrjük a `stopwords-full.txt`-vel"
   ]
  },
  {
   "cell_type": "code",
   "execution_count": null,
   "metadata": {},
   "outputs": [],
   "source": [
    "# gyakorisági adatok (előfordulások)\n",
    "#!sed -r 's/\\s+/\\n/g' train/kant.txt | sed -r 's/\\W+//g' | egrep -v '^$|[0-9]+' | egrep -x -v -i -f train/stopwords.txt | sort | uniq -c | sort -nr | sed -r \"s/^ +//\" | cut -d\" \" -f1 | uniq -c\n",
    "#freq = !sed -r 's/\\s+/\\n/g' train/kant.txt | sed -r 's/\\W+//g' | egrep -v '^$|[0-9]+' | egrep -x -v -i -f train/stopwords.txt | sort | uniq -c | sort -nr | sed -r \"s/^ +//\" | cut -d\" \" -f1 | uniq -c\n",
    "\n",
    "# stringből számok kinyerése\n",
    "#freq = [x.strip().split(' ') for x in freq]\n",
    "#freq = [(int(y), int(x)) for x,y in freq]\n",
    "#print(freq)\n",
    "#[print(x, y, sep='\\t') for x, y in freq]\n",
    "\n",
    "# relatív gyakoriág\n",
    "#wordcount = sum([x*y for x, y in freq])\n",
    "#print('word count:', wc)\n",
    "#freq = [(x/wc, y) for x,y in freq]\n",
    "#print('freq', 'type', sep='\\t')\n",
    "#[print(round(x, 4), y, sep='\\t') for x, y in freq]\n",
    "\n",
    "# plottolás\n",
    "#import matplotlib.pyplot as plt\n",
    "#plt.plot([x[0] for x in zipf], [x[1] for x in zipf])\n",
    "#plt.xlabel('frequency of types')\n",
    "#plt.ylabel('number of types')\n",
    "#plt.show()"
   ]
  },
  {
   "cell_type": "markdown",
   "metadata": {},
   "source": [
    "## 3. Python"
   ]
  },
  {
   "cell_type": "markdown",
   "metadata": {},
   "source": [
    "Python-ban a *re* modulban találjuk a regex-ekkel kapcsolatos dolgokat."
   ]
  },
  {
   "cell_type": "code",
   "execution_count": null,
   "metadata": {},
   "outputs": [],
   "source": [
    "import re"
   ]
  },
  {
   "cell_type": "markdown",
   "metadata": {},
   "source": [
    "**Raw string-ek**\n",
    "\n",
    "A Python hajlamos a stringekben lecserélni dolgokat (pl. a `\\n`-t sortörésre, stb.) hogy ne kelljen mindent kiiszképelni (sőt, az iszképelő backslash-t is iszképelni), ezért regex-eknél érdemes *raw string*-eket használni, ezeket nem változtatja meg a Python:\n",
    "\n",
    "```python\n",
    "p = r'valami'\n",
    "p = r\"valami más\"\n",
    "```"
   ]
  },
  {
   "cell_type": "markdown",
   "metadata": {},
   "source": [
    "### 3.1. Fontosabb függvények"
   ]
  },
  {
   "cell_type": "markdown",
   "metadata": {},
   "source": [
    "#### 3.1.1. Keresés"
   ]
  },
  {
   "cell_type": "markdown",
   "metadata": {},
   "source": [
    "`re.search(pattern, text)  # mit, miben`\n",
    "\n",
    "A megadott szövegben keresi a mintára való első illeszkedést (a `re.match()` és a `re.fullmatch()` megszorítottabb: csak a szöveg eleji, ill. a teljes szövegre való illeszkedést fogadja el).\n",
    "Egy ún. *match object*-tel tér vissza, amiben a találatok vannak."
   ]
  },
  {
   "cell_type": "code",
   "execution_count": null,
   "metadata": {},
   "outputs": [],
   "source": [
    "m = re.search(r'(\\w+) (\\w+) (\\d+)?', 'ritkán rikkant a rigó')\n",
    "if m:\n",
    "    print(m.group(0)) # a teljes illeszkedő szövegrész (nem kell zárójelezve legyen)\n",
    "    print(m.group(1)) # 1-as csoport\n",
    "    print(m.group(2)) # 2-es csopot\n",
    "    print(m.group(3)) # 3-es csopot\n",
    "    print(m.group(1,2)) # tuple az 1-es és a 2-es csoportból"
   ]
  },
  {
   "cell_type": "markdown",
   "metadata": {},
   "source": [
    "`re.findall(pattern, text)  # mit, miben`\n",
    "\n",
    "Az összes mintára illeszkedő (és át nem fedő) szövegrész listáját adja vissza."
   ]
  },
  {
   "cell_type": "code",
   "execution_count": null,
   "metadata": {},
   "outputs": [],
   "source": [
    "# miért nincs 'eggel' vagy 'itkán'?\n",
    "\n",
    "m = re.findall('\\w{5}', 'korán reggel ritkán')\n",
    "print(m)"
   ]
  },
  {
   "cell_type": "markdown",
   "metadata": {},
   "source": [
    "#### 3.1.2. Csere és törlés"
   ]
  },
  {
   "cell_type": "markdown",
   "metadata": {},
   "source": [
    "`re.sub(pattern, replace, text)  # mit, mire, miben`\n",
    "\n",
    "Helyettesítés: a szövegben (*miben*) a mintára (*mit*) illeszkedő részeket lecseréli (*mire*)"
   ]
  },
  {
   "cell_type": "code",
   "execution_count": null,
   "metadata": {},
   "outputs": [],
   "source": [
    "new = re.sub(r'(\\d+)', r'\\1 db', '10 rigó rikkant')\n",
    "print(new)"
   ]
  },
  {
   "cell_type": "markdown",
   "metadata": {},
   "source": [
    "#### 3.1.3. Flag-ek"
   ]
  },
  {
   "cell_type": "markdown",
   "metadata": {},
   "source": [
    "A fenti függvényeknek opcionálisan megadhatók ún. flag-ek, amikkel módosítani lehet ezek működését (pl. `re.search(pattern, text, flag)`). Több flag is használható egyidejűleg, ekkor a `|` (bitenkénti vagy) operátorral kell ezeket összekötni."
   ]
  },
  {
   "cell_type": "markdown",
   "metadata": {},
   "source": [
    "`re.ASCII`\n",
    "\n",
    "Python3-ban a minták unicode-minták, pl. a `\\w` bármilyen unicode betűre illeszkedik, nem csak az ASCII betűkre (`[A-Za-z]`). Ha azt akarjuk, hogy a csak ASCII karakterkre illeszkedjenek a mintáink, akkor használjuk a `re.ASCII`-t.\n",
    "\n",
    "Megjegyzés: a mintákat és a szövegeket is meg lehet adni *bytes*-ban, ekkor nincs szükség a `re.ASCII`-ra."
   ]
  },
  {
   "cell_type": "markdown",
   "metadata": {},
   "source": [
    "`re.IGNORECASE`\n",
    "\n",
    "Hatására a kis- és nagybetű különbség figyelmen kívül hagyatik, pl. a `[a-z]` egyaránt illeszkedik a kis- és a nagybetűkre."
   ]
  },
  {
   "cell_type": "markdown",
   "metadata": {},
   "source": [
    "#### 3.1.4. Optimalizálás"
   ]
  },
  {
   "cell_type": "markdown",
   "metadata": {},
   "source": [
    "`re.compile(pattern)`\n",
    "\n",
    "A mintából mindig egy objektum generálodik. A *compile()*-lal elmenthetjük ezt az objektumot, ami tetszőleges függvénnyel használható a továbbiakban. Példa:\n",
    "\n",
    "```python\n",
    "pat = re.compile(pattern)\n",
    "pat.search(text)\n",
    "```\n",
    "\n",
    "ugyanaz, mint a\n",
    "```python\n",
    "re.search(pattern, text)\n",
    "```\n",
    "\n",
    "Az objektum-generálás elég erőforrásigényes, ezért ha többször használunk egy regex-et (pl. egy for cikluson belül), akkor mindenképpen érdemes kompillálni, különben jóval lassabban fog futni."
   ]
  },
  {
   "cell_type": "code",
   "execution_count": null,
   "metadata": {},
   "outputs": [],
   "source": [
    "%%timeit\n",
    "\n",
    "pat = re.compile(r'a(.)\\1a')\n",
    "for i in range(100):\n",
    "    pat.search('az abbát kéne abbahagyni')"
   ]
  },
  {
   "cell_type": "code",
   "execution_count": null,
   "metadata": {},
   "outputs": [],
   "source": [
    "%%timeit\n",
    "\n",
    "for i in range(100):\n",
    "    re.search(r'a(.)\\1a', 'az abbát kéne abbahagyni')"
   ]
  },
  {
   "cell_type": "markdown",
   "metadata": {},
   "source": [
    "### 3.2. Mohóság"
   ]
  },
  {
   "cell_type": "markdown",
   "metadata": {},
   "source": [
    "Mohó operátorok:\n",
    "\n",
    "* `?`\n",
    "* `*`\n",
    "* `+`\n",
    "\n",
    "Lusta operátorok:\n",
    "\n",
    "* `??`\n",
    "* `*?`\n",
    "* `+?`"
   ]
  },
  {
   "cell_type": "code",
   "execution_count": null,
   "metadata": {},
   "outputs": [],
   "source": [
    "import re\n",
    "\n",
    "string = 'xaaaxaaax'\n",
    "greedy = re.compile(r'x.*x')\n",
    "lazy = re.compile(r'x.*?x')\n",
    "m = greedy.search(string)\n",
    "if m:\n",
    "    print('mohó:', m.group())\n",
    "m = lazy.search(string)\n",
    "if m:\n",
    "    print('lusta:', m.group())"
   ]
  },
  {
   "cell_type": "markdown",
   "metadata": {},
   "source": [
    "### 3.3. lookahead és lookbehind"
   ]
  },
  {
   "cell_type": "markdown",
   "metadata": {},
   "source": [
    "Nulla szélességű illesztés tetszőleges mintára. Akkor hasznos, ha csak egy meghatározott környezetben érdekel az illesztés, illetve, ha bizonyos dolgokra nem szeretnénk illeszteni.\n",
    "\n",
    "* `(?=...)`: *positive lookahead assertion*\n",
    "* `(?!...)`: *negative lookahead assertion*\n",
    "* `(?<=...)`: *positive lookbehind assertion*\n",
    "* `(?<!...)`: *negative lookbehind assertion*"
   ]
  },
  {
   "cell_type": "code",
   "execution_count": null,
   "metadata": {},
   "outputs": [],
   "source": [
    "pat = re.compile(r'[A-Z]\\w+(?<!Immanuel) Kant')\n",
    "kants = set(pat.findall(open('train/kant.txt').read()))\n",
    "print(kants)"
   ]
  },
  {
   "cell_type": "markdown",
   "metadata": {},
   "source": [
    "### 3.4. Gyakorlatok"
   ]
  },
  {
   "cell_type": "markdown",
   "metadata": {},
   "source": [
    "* (*szorgalmi*) Írjunk egy függvényt, ami egy stringről eldönti, hogy a római szám-e! A neve legyen `is_roman_num(string)`, visszatérési értéke pedig boolean ([wiki](https://hu.wikipedia.org/wiki/R%C3%B3mai_sz%C3%A1m%C3%ADr%C3%A1s)).\n"
   ]
  },
  {
   "cell_type": "markdown",
   "metadata": {},
   "source": [
    "## 4. Irodalom"
   ]
  },
  {
   "cell_type": "markdown",
   "metadata": {},
   "source": [
    "* Jeffrey Friedl: *Mastering Regular Expressions.* O'Reilly, 2009. ([link](http://shop.oreilly.com/product/9780596528126.do))\n",
    "* [Python: Regular Expression HOWTO](https://docs.python.org/3.6/howto/regex.html)\n",
    "* [Python: a re modul dokumentációja](https://docs.python.org/3.6/library/re.html)"
   ]
  },
  {
   "cell_type": "markdown",
   "metadata": {},
   "source": [
    "***"
   ]
  },
  {
   "cell_type": "code",
   "execution_count": null,
   "metadata": {},
   "outputs": [],
   "source": [
    "%%bash\n",
    "\n",
    "# takaritas\n",
    "rm -f *.txt"
   ]
  }
 ],
 "metadata": {
  "kernelspec": {
   "display_name": "Python 3",
   "language": "python",
   "name": "python3"
  },
  "language_info": {
   "codemirror_mode": {
    "name": "ipython",
    "version": 3
   },
   "file_extension": ".py",
   "mimetype": "text/x-python",
   "name": "python",
   "nbconvert_exporter": "python",
   "pygments_lexer": "ipython3",
   "version": "3.6.3"
  }
 },
 "nbformat": 4,
 "nbformat_minor": 2
}
